{
 "cells": [
  {
   "cell_type": "markdown",
   "metadata": {},
   "source": [
    "### Preparando os dados"
   ]
  },
  {
   "cell_type": "code",
   "execution_count": 1,
   "metadata": {},
   "outputs": [],
   "source": [
    "# Unquoting data \n",
    "from urllib.parse import unquote\n",
    "\n",
    "files = ['links', 'categories', 'paths_finished']\n",
    "\n",
    "for i in files:\n",
    "    text_file = open(f'./my_data/wiki/{i}.csv', \"r\")\n",
    "    data = text_file.read()\n",
    "    text_file.close()\n",
    "\n",
    "    unquoted_data = unquote(data)\n",
    "\n",
    "    f = open(f'./my_data/wiki/{i}_unquoted.csv', \"a\")\n",
    "    f.write(unquoted_data)\n",
    "    f.close()\n"
   ]
  },
  {
   "cell_type": "code",
   "execution_count": 2,
   "metadata": {},
   "outputs": [],
   "source": [
    "## Create dataframes from links file\n",
    "import networkx as nx\n",
    "import pandas as pd\n",
    "import numpy as np\n",
    "\n",
    "# Read the edge list from the file\n",
    "df1 = pd.read_csv('./my_data/wiki/links_unquoted.csv', delimiter=';', header = None)"
   ]
  },
  {
   "cell_type": "markdown",
   "metadata": {},
   "source": [
    "### Definição de funções"
   ]
  },
  {
   "cell_type": "code",
   "execution_count": 3,
   "metadata": {},
   "outputs": [],
   "source": [
    "import matplotlib.pyplot as plt\n",
    "from operator import itemgetter\n",
    "#%matplotlib inline\n",
    "\n",
    "def show_histogram(xvalues=None, yvalues=None, figsize=(5,5), xlabel='Values', ylabel='Count', normalized=False):\n",
    "    h_deg = xvalues\n",
    "    if xvalues == None:\n",
    "        h_deg = list( range(0, len(yvalues)) )\n",
    "    v_deg = yvalues\n",
    "    if yvalues == None:\n",
    "        v_deg = list( range(0, len(xvalues)) )\n",
    "    plt.figure(figsize=figsize, tight_layout = True)\n",
    "    plt.ylabel(ylabel)\n",
    "    plt.xlabel(xlabel)    \n",
    "    plt.xticks(rotation = 60)\n",
    "    plt.bar(h_deg, v_deg, color = 'b') \n",
    "    plt.show()\n",
    "\n",
    "def histogram_attribute(graph, attr):\n",
    "    categories_list = vectorize_attr(graph, attr)\n",
    "    x = []\n",
    "\n",
    "    for item in categories_list:\n",
    "        if item not in [row[0] for row in x]:\n",
    "            x.append((item, 1))\n",
    "        else:\n",
    "            idx = [row[0] for row in x].index(item)\n",
    "            x[idx] = (item, x[idx][1]+1)\n",
    "\n",
    "    x = sorted(x, key=itemgetter(1), reverse=True)\n",
    "    print(x)\n",
    "\n",
    "    show_histogram(yvalues=[row[1] for row in x], xvalues=[row[0] for row in x], figsize=(15,8), xlabel=f'{attr} count', ylabel=f'Pages with {attr}')\n",
    "\n",
    "def vectorize_attr(graph, attr):\n",
    "    node_attrs = nx.get_node_attributes(graph, name=attr)\n",
    "    c = []\n",
    "    for item in node_attrs:\n",
    "        c = c + node_attrs[item]\n",
    "    return c"
   ]
  },
  {
   "cell_type": "markdown",
   "metadata": {},
   "source": [
    "# Hyperlinks on Wikipedia"
   ]
  },
  {
   "cell_type": "markdown",
   "metadata": {},
   "source": [
    "Esta é uma rede de páginas da Wikipedia, onde os nós são páginas e as arestas representam hyperlinks entre duas páginas. É uma rede que representa um subconjunto da wikipedia, contendo 4096 páginas e 106647 links.\n",
    "A rede foi criada para ser utilizada no jogo Wikispeedia, onde eram dadas aos jogadores uma página inicial e uma página alvo e os jogadores deveriam, partindo da página inicial, chegar à página alvo navegando pelos links entre as páginas.\n",
    "Foram coletados dados dos caminhos percorridos pelos jogadores bem como os caminhos que não foram concluídos.\n",
    "Cada página também contém um atributo chamado categoria, que classifica o conteúdo da página (história, química, música etc). \n",
    "\n",
    "Fonte: https://snap.stanford.edu/data/wikispeedia.html"
   ]
  },
  {
   "cell_type": "markdown",
   "metadata": {},
   "source": [
    "### Montagem do grafo\n",
    "\n",
    "Cada página será um nó e se uma página A contem um link para uma página B então é inserida uma aresta direcionada A -> B.\n",
    "Porém o grafo é não direcionado devido à sessão de referências.\n",
    "Cada nó possui os atributos **Category** e **Macrocategory** classificando a página de acordo com o tema.\n",
    "\n",
    "Exemplos de categorias e subcategorias:\n",
    "\n",
    " - **Página**: Brazil\n",
    "   - **Category**: subject.Geography.Central_and_South_American_Geography.Central_and_South_American_Countries\n",
    "   - **MacroCategory**: Geography\n",
    " - **Página**: Albert_Einstein\n",
    "   - **Category**: subject.People.Astronomers_and_physicists \n",
    "   - **Macrocategory**: People\n",
    "\n",
    "Assim, cada nó do grafo terá as seguintes propriedades:\n",
    "  - *valor*: string\n",
    "  - *grau*: inteiro\n",
    "  - *atributos*\n",
    "    - *categoria*: lista de strings\n",
    "    - *macrocategoria*: lista de strings"
   ]
  },
  {
   "cell_type": "code",
   "execution_count": 4,
   "metadata": {},
   "outputs": [],
   "source": [
    "## Mount graph\n",
    "\n",
    "G = nx.Graph()\n",
    "for i in range(len(df1)):\n",
    "    G.add_node(df1.loc[i,0], label = df1.loc[i,0], category = [], macrocategory= []) # Add node A with -1 as attribute\n",
    "    G.add_node(df1.loc[i,1], label = df1.loc[i,1], category = [], macrocategory= []) # Add node B with -1 as attribute\n",
    "    G.add_edge(df1.loc[i,0], df1.loc[i,1])        # Add edge (A,B) to the network\n",
    "    \n",
    "\n",
    "## Add category property to nodes\n",
    "df2 = pd.read_csv('./my_data/wiki/categories_unquoted.csv', delimiter=';', header = None)\n",
    "\n",
    "for i in range(len(df2)):\n",
    "\n",
    "    node_attrs_category = nx.get_node_attributes(G, name='category')\n",
    "    node_attrs_macrocategory = nx.get_node_attributes(G, name='macrocategory')\n",
    "    list_category = []\n",
    "    list_macrocategory = []\n",
    "    if df2.loc[i,0] in node_attrs_category.keys() and node_attrs_category[df2.loc[i,0]] != None:\n",
    "        list_category = list(node_attrs_category[df2.loc[i,0]])\n",
    "        list_category.append(df2.loc[i,1])\n",
    "        list_macrocategory = list(node_attrs_macrocategory[df2.loc[i,0]])\n",
    "        list_macrocategory.append(df2.loc[i,1].split('.')[1])\n",
    "    G.add_node(df2.loc[i,0], label = df2.loc[i,0], category = list_category, macrocategory = list(set(list_macrocategory)))\n",
    "\n",
    "G.remove_edges_from( nx.selfloop_edges(G) )"
   ]
  },
  {
   "cell_type": "code",
   "execution_count": null,
   "metadata": {},
   "outputs": [],
   "source": [
    "## Macro-Category distribution\n",
    "from operator import itemgetter\n",
    "\n",
    "histogram_attribute(G, 'macrocategory')"
   ]
  },
  {
   "cell_type": "code",
   "execution_count": null,
   "metadata": {},
   "outputs": [],
   "source": [
    "## Category distribution\n",
    "histogram_attribute(G, 'category')"
   ]
  },
  {
   "cell_type": "markdown",
   "metadata": {},
   "source": [
    "## Degree Analisys"
   ]
  },
  {
   "cell_type": "code",
   "execution_count": null,
   "metadata": {},
   "outputs": [],
   "source": [
    "## Number of nodes and edges\n",
    "print(\"Number of nodes: %d\" %G.number_of_nodes() )\n",
    "print(\"Number of edges: %d\" %G.number_of_edges() )\n",
    "print(f'Average Degree: {sum([degree[1] for degree in G.degree()])/G.number_of_nodes()}')\n",
    "sorted_degrees = sorted(G.degree(), key=itemgetter(1), reverse=True)\n",
    "print(f'Max degree: {sorted_degrees[0][1]} in node {sorted_degrees[0][0]}')\n",
    "\n",
    "'''# In degree\n",
    "print(f'Average In Degree: {sum([degree[1] for degree in G.in_degree()])/G.number_of_nodes()}')\n",
    "sorted_in_degrees = sorted(G.degree(), key=itemgetter(1), reverse=True)\n",
    "print(f'Max In degree: {sorted_in_degrees[0][1]} in node {sorted_in_degrees[0][0]}')\n",
    "\n",
    "# Out degree\n",
    "print(f'Average Out Degree: {sum([degree[1] for degree in G.out_degree()])/G.number_of_nodes()}')\n",
    "sorted_out_degrees = sorted(G.degree(), key=itemgetter(1), reverse=True)\n",
    "print(f'Max Out degree: {sorted_out_degrees[0][1]} in node {sorted_out_degrees[0][0]}')'''"
   ]
  },
  {
   "cell_type": "code",
   "execution_count": null,
   "metadata": {},
   "outputs": [],
   "source": [
    "# Plot the degree distribution\n",
    "show_histogram(yvalues=nx.degree_histogram(G), figsize = (4,3), ylabel='Non-normalised Count', xlabel='Degree')\n"
   ]
  },
  {
   "cell_type": "code",
   "execution_count": null,
   "metadata": {},
   "outputs": [],
   "source": [
    "## Degree distribution (log)\n",
    "import networkx as nx\n",
    "import matplotlib.pyplot as plt\n",
    "\n",
    "# REMOVE MULTIPLE EDGES AND SELF-LOOPS\n",
    "G = nx.Graph(G)                                 # Remove multiple edges\n",
    "G.remove_edges_from( nx.selfloop_edges(G) )     # Remove self-loops\n",
    "\n",
    "# Make the histogram of degree, i.e. the number of nodes with a certain degree\n",
    "h_deg = nx.degree_histogram(G)                              # calculate the degree histogram\n",
    "h_deg_n = [x / nx.number_of_nodes(G) for x in h_deg]        # normalise the histogram to make a pdf\n",
    "v_deg = list( range(0,len(h_deg)))                          # create a list of degree values, from 0 to len(h_deg)\n",
    "\n",
    "# Draw the histogram, using log-scale on the axes (why? try without log-scale)\n",
    "plt.title('Wikipedia hiperlinks')\n",
    "plt.ylabel('Normalised Count')\n",
    "plt.xlabel('Degree')\n",
    "plt.yscale('log')\n",
    "plt.xscale('log')\n",
    "#plt.bar(v_deg, h_deg_n, width=0.8, color='b')  # this plot using \"bars\", but \"bars\" are not good when using log-scale in the axes - DO NOT USE IT UNLESS THE HISTOGRAM IS SMALL!\n",
    "plt.plot(v_deg, h_deg_n, 'b+')\n",
    "\n",
    "# Draw an eye-guide curve. In this case a power-law with exponent 1.8\n",
    "list_x = list( range(1,1000) )                    # Create the values for the x-axis and convert to a list\n",
    "list_y = list( [ 1/(i**1.3) for i in list_x ] )   # Create the values for the y-axis and convert to a list:\n",
    "                                                  # this code is called \"list comprehension\" [ 1/(i**1.8) for i in list_x ] -> for each item \"i\" in the list \"list_x\", the output is \"1/(i**1.8)\"\n",
    "plt.plot(list_x, list_y, 'r--')\n",
    "\n",
    "plt.show()"
   ]
  },
  {
   "cell_type": "markdown",
   "metadata": {},
   "source": [
    "## Giant component"
   ]
  },
  {
   "cell_type": "code",
   "execution_count": null,
   "metadata": {},
   "outputs": [],
   "source": [
    "## Has giant component?\n",
    "\n",
    "Gcc = sorted( nx.connected_components(G), key=len, reverse=True)\n",
    "print(f'Number of connected components: {len(Gcc)}')\n",
    "\n",
    "#for idx in range(len(Gcc)):\n",
    "#    print(f'Number of nodes of connected component {idx}: {G.subgraph( Gcc[idx] ).number_of_nodes()}')\n",
    "#    print(f'Number of edges of connected component {idx}: {G.subgraph( Gcc[idx] ).number_of_edges()}')\n",
    "\n",
    "# Make a subgraph \"H\" of \"G\" containing only the giant component, i.e. Gcc[0]\n",
    "H = G.subgraph( Gcc[0] ).copy()"
   ]
  },
  {
   "cell_type": "markdown",
   "metadata": {},
   "source": [
    "A rede possui um componente gigante com 4596 nós. Isso representa aproximadamente 99.86% da rede. Portanto, de agora em diante, usaremos o componente gigante para calcular as demais métricas."
   ]
  },
  {
   "cell_type": "markdown",
   "metadata": {},
   "source": [
    "## Centrality metrics"
   ]
  },
  {
   "cell_type": "code",
   "execution_count": null,
   "metadata": {},
   "outputs": [],
   "source": [
    "## Centrality metrics\n",
    "# Some solutions\n",
    "\n",
    "# Calculate the relevant network measures and organise the data into a dataframe\n",
    "\n",
    "# Degree centrality -> that is the same as the degree but normalised by N-1\n",
    "k_cent = nx.degree_centrality(H)\n",
    "\n",
    "# Betweenness centrality -> normalised by 2/((n-1)(n-2))\n",
    "b_cent = nx.betweenness_centrality(H)\n",
    "\n",
    "# Page-Rank centrality\n",
    "pr_cent = nx.pagerank(H)\n",
    "\n",
    "# Eigenvector centrality\n",
    "# but the network in undirected! therefore, better to use eigenvector centrality\n",
    "# note that the method nx.pagerank() above works with undirected network by assuming that all edges are bidirectional\n",
    "ev_cent = nx.eigenvector_centrality(H)\n",
    "\n",
    "# clustering coefficient of each node\n",
    "cc = nx.clustering(H)\n",
    "\n",
    "# Save the network measures of each node, that is originally in a dictionary, to dataframes\n",
    "df1 = pd.DataFrame.from_dict(k_cent, orient='index', columns = ['degree'])\n",
    "df2 = pd.DataFrame.from_dict(b_cent, orient='index', columns = ['betweenness'])\n",
    "df3 = pd.DataFrame.from_dict(ev_cent, orient='index', columns = ['eigenvector'])\n",
    "df4 = pd.DataFrame.from_dict(cc, orient='index', columns = ['clustering'])\n",
    "\n",
    "# Save the attributes of each node, that are originally stored as node attributes, in dataframes\n",
    "# Note that here I include the node column to make sure the index will store the node ID\n",
    "df5 = pd.DataFrame( list(H.nodes(data = 'category') ), columns = ['node','category'])\n",
    "df5 = df5.set_index('node')\n",
    "\n",
    "\n",
    "# Combine all dataframes into a single dataframe\n",
    "network_measures = pd.concat([df1, df2, df3, df4, df5], axis = 1)\n",
    "\n",
    "pd.set_option('display.max_rows', 20)\n",
    "\n",
    "network_measures"
   ]
  },
  {
   "cell_type": "markdown",
   "metadata": {},
   "source": [
    "## Assortativity"
   ]
  },
  {
   "cell_type": "code",
   "execution_count": null,
   "metadata": {},
   "outputs": [],
   "source": [
    "# Assortativity by degree\n",
    "\n",
    "# for undirected and unweighted networks\n",
    "r_deg = nx.degree_assortativity_coefficient(H)\n",
    "print('Assort. by degree: %.2f' % r_deg)\n",
    "\n",
    "# Assortativity by category\n",
    "#r_colour = nx.attribute_assortativity_coefficient(H, 'category')\n",
    "#print('Assort. by category: %.2f' % r_colour)\n",
    "\n",
    "# Assortativity by macrocategory\n",
    "#r_colour = nx.attribute_assortativity_coefficient(H, 'macrocategory')\n",
    "#print('Assort. by macrocategory: %.2f' % r_colour)"
   ]
  },
  {
   "cell_type": "markdown",
   "metadata": {},
   "source": [
    "## Path based metrics"
   ]
  },
  {
   "cell_type": "code",
   "execution_count": null,
   "metadata": {},
   "outputs": [],
   "source": [
    "print('Diameter: ', nx.diameter(H) )\n"
   ]
  },
  {
   "cell_type": "markdown",
   "metadata": {},
   "source": [
    "## Cluster coefficient"
   ]
  },
  {
   "cell_type": "code",
   "execution_count": null,
   "metadata": {},
   "outputs": [],
   "source": [
    "import pandas as pd\n",
    "\n",
    "print(\"avg. cc: %.3f\" % nx.average_clustering(H) )\n",
    "\n",
    "df1 = pd.DataFrame.from_dict(nx.clustering(H), orient='index', columns=['clustering'])\n",
    "print(df1)"
   ]
  },
  {
   "cell_type": "markdown",
   "metadata": {},
   "source": [
    "## Other metrics"
   ]
  },
  {
   "cell_type": "code",
   "execution_count": null,
   "metadata": {},
   "outputs": [],
   "source": [
    "triangles = nx.triangles(H)\n",
    "closeness = nx.closeness_centrality(H)\n",
    "triangles = sorted([(key, triangles[key]) for key in triangles], key=itemgetter(1), reverse=True)\n",
    "closeness = sorted([(key, closeness[key]) for key in closeness], key=itemgetter(1), reverse=True)\n",
    "\n",
    "#print('Triangles: ', triangles)\n",
    "#print('Closeness: ', closeness)\n",
    "print('Transitivity: %.3f' % nx.transitivity(H))"
   ]
  },
  {
   "cell_type": "code",
   "execution_count": null,
   "metadata": {},
   "outputs": [],
   "source": [
    "show_histogram(yvalues=[row[1] for row in triangles], figsize=(15,8), xlabel='Triangles')\n",
    "show_histogram(yvalues=[row[1] for row in closeness], figsize=(15,8), xlabel='Closeness Centrality')"
   ]
  },
  {
   "cell_type": "markdown",
   "metadata": {},
   "source": [
    "## K-Core"
   ]
  },
  {
   "cell_type": "code",
   "execution_count": null,
   "metadata": {},
   "outputs": [],
   "source": [
    "H = nx.k_core(G)"
   ]
  },
  {
   "cell_type": "code",
   "execution_count": null,
   "metadata": {},
   "outputs": [],
   "source": [
    "nx.core_number(G)['English_language']"
   ]
  },
  {
   "cell_type": "markdown",
   "metadata": {},
   "source": [
    "Se o main k-core contém o nó 'English_language', e o core number do nó 'English_language' é 47, então o main k-core é 47-core.\n",
    "Fazendo um histograma das macro-categorias encontradas no k-core temos:"
   ]
  },
  {
   "cell_type": "code",
   "execution_count": null,
   "metadata": {},
   "outputs": [],
   "source": [
    "histogram_attribute(H, 'macrocategory')\n",
    "#histogram_attribute(H, 'category')"
   ]
  },
  {
   "cell_type": "markdown",
   "metadata": {},
   "source": [
    "## Menores caminhos vs Caminhos dos Jogadores"
   ]
  },
  {
   "cell_type": "code",
   "execution_count": 19,
   "metadata": {},
   "outputs": [],
   "source": [
    "## Load players paths dataframe\n",
    "df3 = pd.read_csv('./my_data/wiki/paths_finished_unquoted.csv', delimiter=';', header = None)\n",
    "df3\n",
    "\n",
    "## Get all player paths and all origin/destiny pairs solved by the players\n",
    "all_players_paths_1 = [row.split('|') for row in df3[3].tolist()]\n",
    "all_players_pairs = set([(row[0], row[len(row)-1]) for row in all_players_paths_1])\n",
    "\n",
    "all_players_paths = []\n",
    "for path in all_players_paths_1:\n",
    "    path_2 = []\n",
    "    for node in path:\n",
    "        if node != '<':\n",
    "            path_2.append(node)\n",
    "        else:\n",
    "            path_2.pop()\n",
    "    all_players_paths.append(path_2)\n"
   ]
  },
  {
   "cell_type": "code",
   "execution_count": 20,
   "metadata": {},
   "outputs": [],
   "source": [
    "## Get all shortest paths for the origin/destiny pairs solved by the players\n",
    "all_shortest_paths_tested = []\n",
    "appthcp = all_players_paths.copy()\n",
    "apprcp = all_players_pairs.copy()\n",
    "\n",
    "for pair in all_players_pairs:\n",
    "    try:\n",
    "        sp = nx.shortest_path(G, source=pair[0], target=pair[1])\n",
    "        all_shortest_paths_tested.append(sp)\n",
    "    except:\n",
    "        apprcp.remove(pair)\n",
    "        for p in appthcp:\n",
    "            if p[0] == pair[0] and p[len(p)-1] == pair[1]:\n",
    "                all_players_paths.remove(p)"
   ]
  },
  {
   "cell_type": "code",
   "execution_count": 21,
   "metadata": {},
   "outputs": [
    {
     "name": "stdout",
     "output_type": "stream",
     "text": [
      "Tamanho médio dos menores caminhos: 3.3392763868092072\n",
      "Tamanho médio dos caminhos feitos pelos jogadores: 5.956193853888575\n"
     ]
    }
   ],
   "source": [
    "## Mean length of the paths (players and shotests)\n",
    "length_shortest_paths = [len(row) for row in all_shortest_paths_tested]\n",
    "length_players_paths = [len(row) for row in all_players_paths]\n",
    "mean_shortest_paths_length = sum(length_shortest_paths)/len(length_shortest_paths)\n",
    "mean_players_paths_length = sum(length_players_paths)/len(length_players_paths)\n",
    "\n",
    "print(f'Tamanho médio dos menores caminhos: {mean_shortest_paths_length}')\n",
    "print(f'Tamanho médio dos caminhos feitos pelos jogadores: {mean_players_paths_length}')"
   ]
  },
  {
   "cell_type": "code",
   "execution_count": 22,
   "metadata": {},
   "outputs": [
    {
     "name": "stdout",
     "output_type": "stream",
     "text": [
      "Tamanho do maior menor caminho: 5\n",
      "Tamanho do maior caminho feito por um jogador: 405\n"
     ]
    }
   ],
   "source": [
    "## Size of the longer path (players and shotests)\n",
    "print(f'Tamanho do maior menor caminho: {max(length_shortest_paths)}')\n",
    "print(f'Tamanho do maior caminho feito por um jogador: {max(length_players_paths)}')"
   ]
  },
  {
   "cell_type": "code",
   "execution_count": 23,
   "metadata": {},
   "outputs": [
    {
     "data": {
      "image/png": "[encoded data removed]",
      "text/plain": [
       "<Figure size 640x480 with 1 Axes>"
      ]
     },
     "metadata": {},
     "output_type": "display_data"
    }
   ],
   "source": [
    "## Histogram for the length of the shortest paths\n",
    "plt.hist(np.array(length_shortest_paths), bins=[1, 2, 3, 4, 5, 6])\n",
    "plt.show()"
   ]
  },
  {
   "cell_type": "code",
   "execution_count": 24,
   "metadata": {},
   "outputs": [
    {
     "data": {
      "image/png": "[encoded data removed]",
      "text/plain": [
       "<Figure size 640x480 with 1 Axes>"
      ]
     },
     "metadata": {},
     "output_type": "display_data"
    }
   ],
   "source": [
    "## Histogram for the length of the players paths\n",
    "plt.hist(np.array(length_players_paths), bins=range(0,50))\n",
    "plt.show()"
   ]
  },
  {
   "cell_type": "code",
   "execution_count": 25,
   "metadata": {},
   "outputs": [
    {
     "name": "stdout",
     "output_type": "stream",
     "text": [
      "Moda do tamanho dos menores caminhos: 3\n",
      "Moda do tamanho dos caminhos dos jogadores: 5\n"
     ]
    }
   ],
   "source": [
    "import statistics as st\n",
    "\n",
    "print(f'Moda do tamanho dos menores caminhos: {st.mode(length_shortest_paths)}')\n",
    "print(f'Moda do tamanho dos caminhos dos jogadores: {st.mode(length_players_paths)}')"
   ]
  },
  {
   "cell_type": "markdown",
   "metadata": {},
   "source": [
    "Esses dados mostram que geralmente, para um dado par de nós origem/destino, os caminhos percorridos pelos jogadores são maiores que o menor caminho possível. "
   ]
  },
  {
   "cell_type": "markdown",
   "metadata": {},
   "source": [
    "### Em termos de macro-categoria"
   ]
  },
  {
   "cell_type": "markdown",
   "metadata": {},
   "source": [
    "Usaremos uma medida denominada **Coeficiente de Diversidade de Atributo (CDA)**, para quantificar o quanto o valor de um atributo varia ao longo do caminho.\n",
    "A análise será feita para o atributo macrocategoria, ou seja, vamos analisar o quanto a macrocategoria varia ao longo das páginas do caminho, tanto para os menores caminhos como para os caminhos feitos pelos jogadores.\n",
    "\n",
    "\n",
    "Seja uma rede na qual cada nó possui um atributo chamado '*x*' no formato de uma lista de valores.\n",
    "\n",
    "Seja um caminho *P* o caminho entre dois nós quaisquer na rede.\n",
    "\n",
    "Seja:\n",
    " - **V** - o conjunto de valores de que um atributo assumiu ao longo do caminho *P* (sem valores repetidos).\n",
    " - **nV** - o número de elementos em *V*\n",
    " - **A** - a lista de atributos dos nós que compõem o caminho *P* (com valores repetidos).\n",
    " - **nA** - o número de elementos em *A*\n",
    " - **nP** - o número de nós que compõem o caminho *P*\n",
    "\n",
    "O **Coeficiente de Diversidade do Atributo** *x* no caminho *P* é dados por:\n",
    "\n",
    "$$\n",
    "cda = \\log_{nP} \\dfrac{nV}{nA}nP\n",
    "$$\n",
    "\n",
    "O *cda* é um valor entre 0 e 1, onde quanto mais próximo de zero menor é a variedade de valores do atributo ao longo do caminho, já quanto mais próximo de um, maior é a variedade.\n",
    "\n",
    "No nosso exemplo, utilizando o atributo *macrocategoria*, quanto mais próximo de zero for o *cda* mais semelhantes são as macrocategorias dos nós que compõem um determinado caminho.\n",
    "Já quanto mais próximo de um for o *cda* maior é a variedade de macrocategorias dos nós que compõem o caminho."
   ]
  },
  {
   "cell_type": "code",
   "execution_count": 26,
   "metadata": {},
   "outputs": [],
   "source": [
    "## Shortest paths\n",
    "\n",
    "import math\n",
    "\n",
    "def get_attributes_of_path(graph, path, attribute):\n",
    "    path_attrs = []\n",
    "    for node in path:\n",
    "        if G.has_node(node):\n",
    "            attriute_values = nx.get_node_attributes(graph, name=attribute)[node]\n",
    "            if attriute_values != None:\n",
    "                path_attrs = path_attrs + attriute_values\n",
    "    return path_attrs\n",
    "\n",
    "def ratio_attribute_hops(attributes_list, path):\n",
    "    return (len(set(attributes_list))/len(attributes_list))*len(path)\n",
    "    \n",
    "def get_cda_for_paths(graph, paths, attribute):\n",
    "    cda_list = []\n",
    "    for path in paths: \n",
    "        try:\n",
    "            rah = ratio_attribute_hops(get_attributes_of_path(graph, path, attribute), path)\n",
    "            if rah == 1:\n",
    "                cda_list.append(0)\n",
    "            else: \n",
    "                cda_list.append(math.log(rah, len(path)))\n",
    "        except:\n",
    "            print('exception')\n",
    "    return cda_list\n",
    "    "
   ]
  },
  {
   "cell_type": "code",
   "execution_count": 28,
   "metadata": {},
   "outputs": [],
   "source": [
    "shortest_path_cda_list = get_cda_for_paths(G, all_shortest_paths_tested, 'macrocategory')"
   ]
  },
  {
   "cell_type": "code",
   "execution_count": 29,
   "metadata": {},
   "outputs": [],
   "source": [
    "player_path_cda_list = get_cda_for_paths(G, all_players_paths, 'macrocategory')"
   ]
  },
  {
   "cell_type": "code",
   "execution_count": 30,
   "metadata": {},
   "outputs": [
    {
     "name": "stdout",
     "output_type": "stream",
     "text": [
      "CDA médio dos menores caminhos: 0.7307367595414037\n",
      "CDA médio dos caminhos dos jogadores: 0.6254091759584215\n"
     ]
    }
   ],
   "source": [
    "print(f'CDA médio dos menores caminhos: {st.mean(shortest_path_cda_list)}')\n",
    "print(f'CDA médio dos caminhos dos jogadores: {st.mean(player_path_cda_list)}')"
   ]
  },
  {
   "cell_type": "code",
   "execution_count": 31,
   "metadata": {},
   "outputs": [
    {
     "data": {
      "image/png": "[encoded data removed]",
      "text/plain": [
       "<Figure size 640x480 with 1 Axes>"
      ]
     },
     "metadata": {},
     "output_type": "display_data"
    }
   ],
   "source": [
    "## Histogram for RAH of the shortest paths\n",
    "plt.hist(np.array(shortest_path_cda_list))\n",
    "plt.show()"
   ]
  },
  {
   "cell_type": "code",
   "execution_count": 32,
   "metadata": {},
   "outputs": [
    {
     "data": {
      "image/png": "[encoded data removed]",
      "text/plain": [
       "<Figure size 640x480 with 1 Axes>"
      ]
     },
     "metadata": {},
     "output_type": "display_data"
    }
   ],
   "source": [
    "## Histogram for RAH of players paths\n",
    "plt.hist(np.array(player_path_cda_list))\n",
    "plt.show()"
   ]
  },
  {
   "cell_type": "code",
   "execution_count": 33,
   "metadata": {},
   "outputs": [
    {
     "ename": "NameError",
     "evalue": "name 'network_measures' is not defined",
     "output_type": "error",
     "traceback": [
      "\u001b[1;31m---------------------------------------------------------------------------\u001b[0m",
      "\u001b[1;31mNameError\u001b[0m                                 Traceback (most recent call last)",
      "Cell \u001b[1;32mIn[33], line 2\u001b[0m\n\u001b[0;32m      1\u001b[0m \u001b[38;5;66;03m## Node with higher betweness\u001b[39;00m\n\u001b[1;32m----> 2\u001b[0m \u001b[43mnetwork_measures\u001b[49m[\u001b[38;5;124m'\u001b[39m\u001b[38;5;124mbetweenness\u001b[39m\u001b[38;5;124m'\u001b[39m]\n\u001b[0;32m      3\u001b[0m network_measures\u001b[38;5;241m.\u001b[39mloc[network_measures[\u001b[38;5;124m'\u001b[39m\u001b[38;5;124mbetweenness\u001b[39m\u001b[38;5;124m'\u001b[39m]\u001b[38;5;241m.\u001b[39midxmax()]\n",
      "\u001b[1;31mNameError\u001b[0m: name 'network_measures' is not defined"
     ]
    }
   ],
   "source": [
    "## Node with higher betweness\n",
    "network_measures['betweenness']\n",
    "network_measures.loc[network_measures['betweenness'].idxmax()]"
   ]
  },
  {
   "cell_type": "code",
   "execution_count": 34,
   "metadata": {},
   "outputs": [],
   "source": [
    "sp_vec = []\n",
    "for i in all_shortest_paths_tested:\n",
    "    sp_vec = sp_vec + i\n",
    "\n",
    "pl_vec = []\n",
    "for i in all_players_paths:\n",
    "    pl_vec = pl_vec + i"
   ]
  },
  {
   "cell_type": "code",
   "execution_count": null,
   "metadata": {},
   "outputs": [],
   "source": [
    "print(st.mode(sp_vec))\n",
    "print(st.mode(pl_vec))"
   ]
  }
 ],
 "metadata": {
  "kernelspec": {
   "display_name": "luisenrique",
   "language": "python",
   "name": "python3"
  },
  "language_info": {
   "codemirror_mode": {
    "name": "ipython",
    "version": 3
   },
   "file_extension": ".py",
   "mimetype": "text/x-python",
   "name": "python",
   "nbconvert_exporter": "python",
   "pygments_lexer": "ipython3",
   "version": "3.10.13"
  }
 },
 "nbformat": 4,
 "nbformat_minor": 2
}
