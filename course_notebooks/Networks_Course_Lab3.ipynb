{
 "cells": [
  {
   "cell_type": "markdown",
   "metadata": {},
   "source": [
    "<span style=\"color:red\">\n",
    "Disclaimer: Do not share this Python notebook to third parties <br>\n",
    "Atencao: Nao compartilhe esse Python notebook com outras pessoas </span>\n",
    "<h1><b>Networks in socio-economic systems </b></h1>\n",
    "<h3>Prof Luis E C Rocha - luis.rocha@ugent.be</h3>\n",
    "<h4>Dept of Economics and Dept of Physics and Astronomy</h4>\n",
    "<h4>Ghent University, Belgium</h4>\n",
    "<h4><b>Version:</b> Federal University of Uberlandia, Brazil - November 2023 </h4>\n",
    "\n",
    "<h1><b>Lab 2b: Fitting power-laws & network measures</b></h1>\n",
    "\n",
    "<h3>Summary:</h3> The goal of this lab is to perform measures of assortativity, paths, clustering. We will also briefly talk about making linear regression between local network measures (nodes) and node attributes. The second part of the lab is about fitting power-laws to degree distributions. You might skip part 2 in the first reading (fitting a power-law).\n",
    "\n",
    "<h2><b>(0:00-1:15h) Part 1 </b></h2>\n"
   ]
  },
  {
   "cell_type": "markdown",
   "metadata": {},
   "source": [
    "<h2><b>1.</b> (0:00-0:15h) Network data</h2>\n",
    "\n",
    "There are plenty of online repositories for network data. Here are some important ones:\n",
    "<ul>\n",
    "    <li> Index of Complex Networks: https://icon.colorado.edu </li>\n",
    "    <li> The Konect Project: http://konect.cc </li>\n",
    "    <li> Network Repository: http://networkrepository.com (the network definition is not always available, use with caution) </li>\n",
    "    <li> SNAP large network data set: https://snap.stanford.edu/data/index.html </li>\n",
    "    <li> Network catalogue and repository: https://networks.skewed.de </li>\n",
    "    <li> You might find more data by simply typing \"network data set\" or \"network data base\" on google </li>\n",
    "</ul>\n",
    "<span style=\"color:blue\">\n",
    "<h4>For the group project and presentation</h4>\n",
    "</span>\n",
    "<ul>\n",
    "    <li> Select a network from one of these databases or come up with your own data (original or not) </li>\n",
    "    <li> The data set <b>must</b> be related to social or economic systems, i.e. biological, ecological, medical, are <b>not allowed</b> </li>\n",
    "    <li> You must perform network analysis on your data, i.e. structural measures and their interpretation. Some other quantitative methods are allowed (e.g. regressions, classifications, forecasting, etc...) but at least 80% of the analysis must be with network methods seen in class, from week 1 to 6. </li>\n",
    "    <li> Some ideas of analysis for the 1st assignment: </li>\n",
    "    <ul>\n",
    "        <li> tip 1: Try to think about comparative analysis between (somehow related) networks </li>\n",
    "        <li> tip 2: Try to find meta-data that you can correlate with network structures, e.g. attributes of nodes vs structural properties of nodes </li>\n",
    "        <li> tip 3: Do not limit yourself to very simple network measures, e.g. avg. degree, assortativity. Combine them with more elaborated analysis, e.g. degree distribution, k-core distribution, assortativity by features, etc. </li>\n",
    "        <li> tip 4: Ask yourself: Does the result make sense? i.e., try to understand and interpret it. What are the implications of the network patterns/measures on \"this\" or \"that\"? </li>\n",
    "    </ul>\n",
    "</ul>"
   ]
  },
  {
   "cell_type": "markdown",
   "metadata": {},
   "source": [
    "<h2><b>2.</b> (0:15-0:25h) A note on working with empirical network data</h2>\n",
    "\n",
    "<ul>\n",
    "    <li> <b>BE CAREFUL</b> </li>\n",
    "    <ul>\n",
    "        <li> with the source of your data </li>\n",
    "        <li> with the quality of your data </li>\n",
    "        <li> with the scope of your data </li>\n",
    "    </ul>\n",
    "    <li> <b>do not wildly</b> take measures of the network as soon as you see one! </li>\n",
    "    <ul>\n",
    "        <li> ask yourself if the data, data structure, and data description make sense </li>\n",
    "    </ul>\n",
    "    <li> always check and clean the data </li>\n",
    "    <ul>\n",
    "        <li> remove the noise, remove unreliable data points (i.e. nodes or edges), merge nodes or edges that represent the same thing (e.g. subject, object, entity, company, location) but maybe have different names (this is very common, e.g. Belgie/Belgique/Belgium) </li>\n",
    "        <li> check if the data correspond to the same or different years. If not, acknowledge discrepancies and organise time periods </li>\n",
    "        <li> keep track of what you are removing from the data. It is necessary to acknowledge what data were removed (or included) when reporting </li>\n",
    "        <li> remember that you do not need to use everything in the data/network, as long as you justify your choices and acknowledge the limitations </li>\n",
    "    </ul>\n",
    "    <li> Check on the meaning of variables that you can or will use as weights of the edges </li>\n",
    "    <ul>\n",
    "        <li> Check if the variable is standardised for all edges, e.g. if all edges use the same currency or the same unit of weight </li>\n",
    "        <li> Check for potential missing values, i.e. acknowledge missing values and/or try to replace with meaningful data, as for example by interpolation of values) </li>\n",
    "        <li> Decide if it is better to set a threshold to convert a weighted network to an unweighted network, instead of using the weighted network. Most often, using a threshold is appropriate </li>\n",
    "        <li> Decide if it is better to use the undirected or directed version of the network. Remember that several measures, such as clustering measures, are defined for undirected networks </li>\n",
    "    </ul>\n",
    "</ul>\n"
   ]
  },
  {
   "cell_type": "markdown",
   "metadata": {},
   "source": [
    "<h2><b>3.</b> (0:25-0:45h) Network measures beyond degree</h2>\n",
    "\n",
    "<h4>3.1. Assortativity</h4>\n"
   ]
  },
  {
   "cell_type": "code",
   "execution_count": 51,
   "metadata": {},
   "outputs": [
    {
     "data": {
      "text/plain": [
       "[(0, {'color': 'red'}),\n",
       " (1, {'color': 'red'}),\n",
       " (2, {'color': 'red'}),\n",
       " (3, {'color': 'red'}),\n",
       " (4, {'color': 'blue'}),\n",
       " (5, {'color': 'blue'}),\n",
       " (6, {'color': 'blue'}),\n",
       " (7, {'color': 'blue'})]"
      ]
     },
     "execution_count": 51,
     "metadata": {},
     "output_type": "execute_result"
    }
   ],
   "source": [
    "# Create an undirected network with the attribute colour for 8 nodes and 8 edges\n",
    "\n",
    "import networkx as nx\n",
    "\n",
    "G = nx.Graph()\n",
    "G.add_nodes_from([0, 1, 2, 3], color = 'red')\n",
    "G.add_nodes_from([4, 5, 6, 7], color = 'blue')\n",
    "G.add_edges_from([(0,1), (1,2), (6,3), (2,7), (4,5), (5,0), (0,7), (7,1)])\n",
    "\n",
    "# See notebook from week 2 about how to add a single node with a specific attribute per time\n",
    "\n",
    "list( G.nodes(data=True) )\n"
   ]
  },
  {
   "cell_type": "code",
   "execution_count": 52,
   "metadata": {},
   "outputs": [
    {
     "name": "stdout",
     "output_type": "stream",
     "text": [
      "Assort. by degree: 0.59\n",
      "Assort. by attribute: -0.27\n"
     ]
    }
   ],
   "source": [
    "# Assortativity by degree\n",
    "\n",
    "# for undirected and unweighted networks\n",
    "r_deg = nx.degree_assortativity_coefficient(G)\n",
    "print('Assort. by degree: %.2f' % r_deg)\n",
    "\n",
    "# Assortativity by node attribute (\"node color\")\n",
    "r_colour = nx.attribute_assortativity_coefficient(G, 'color')\n",
    "print('Assort. by attribute: %.2f' % r_colour)\n"
   ]
  },
  {
   "cell_type": "code",
   "execution_count": 53,
   "metadata": {},
   "outputs": [
    {
     "name": "stdout",
     "output_type": "stream",
     "text": [
      "[(0, 1, {'weight': 3}), (0, 3, {'weight': 7}), (1, 2, {'weight': 35}), (1, 3, {'weight': 5}), (1, 5, {'weight': 55}), (2, 0, {'weight': 24})]\n",
      "Assort. by (directed) degree: 0.16\n",
      "Assort. by (directed) degree: 0.16\n",
      "Assort. by (undirected) degree : -0.71\n",
      "Assort. by weighted-degree: 0.64\n"
     ]
    }
   ],
   "source": [
    "# For directed and weighted networks\n",
    "\n",
    "Q = nx.DiGraph()\n",
    "\n",
    "# This is just a quick way to create a weighted network\n",
    "Q.add_edges_from([(0, 1, {'weight': 3}), (2, 0, {'weight': 24}), (1, 2, {'weight': 35}), (1, 3, {'weight': 5}), (1, 5, {'weight': 55}), (0, 3, {'weight': 7})])\n",
    "#nx.draw(Q, with_labels = True, pos = nx.spring_layout(Q, iterations=20), node_size = 1000, node_color = 'yellow')\n",
    "\n",
    "print( Q.edges(data=True) )\n",
    "\n",
    "# for directed networks, where x='out' (source), y='in' (sink) for directed edges\n",
    "r_deg = nx.degree_assortativity_coefficient(Q, x='out', y='in')\n",
    "print('Assort. by (directed) degree: %.2f' % r_deg)\n",
    "\n",
    "# this gives the same results\n",
    "r_deg = nx.degree_assortativity_coefficient(Q)\n",
    "print('Assort. by (directed) degree: %.2f' % r_deg)\n",
    "\n",
    "# to compare, this is the assortativity for the undirected version of this network\n",
    "G = nx.Graph(Q)\n",
    "r_deg = nx.degree_assortativity_coefficient(G)\n",
    "print('Assort. by (undirected) degree : %.2f' % r_deg)\n",
    "\n",
    "# for weighted networks, where \"weight\" is the weight of the edge\n",
    "# Attention: this method only works for integer values of weight\n",
    "# Trick: multiple the original weights by 10 or 100 and round the value to an integer, e.g.\n",
    "# new_weight = int(100*weight)\n",
    "# calculate the weighted assortativity using \"new_weight\"\n",
    "r_deg = nx.degree_assortativity_coefficient(Q, weight='weight')\n",
    "print('Assort. by weighted-degree: %.2f' % r_deg)\n"
   ]
  },
  {
   "cell_type": "markdown",
   "metadata": {},
   "source": [
    "<h4>3.2. Paths</h4>\n",
    "\n",
    "There are some path-related measures you can use for various purposes."
   ]
  },
  {
   "cell_type": "code",
   "execution_count": 54,
   "metadata": {},
   "outputs": [
    {
     "data": {
      "image/png": "[encoded data removed]",
      "text/plain": [
       "<Figure size 432x288 with 1 Axes>"
      ]
     },
     "metadata": {},
     "output_type": "display_data"
    }
   ],
   "source": [
    "# Let us first create and print a network\n",
    "\n",
    "import networkx as nx\n",
    "#import matplotlib.pyplot as plt\n",
    "\n",
    "#%matplotlib inline\n",
    "\n",
    "# Create a simple network\n",
    "H = nx.Graph([(0, 1), (1, 2), (1, 3), (2, 3), (3, 4)])\n",
    "\n",
    "#plt.figure()\n",
    "nx.draw(H, with_labels = True, pos = nx.spring_layout(H, iterations=300), node_size = 1000, node_color = 'yellow')\n",
    "#plt.show()\n",
    "\n",
    "#print( list( G.nodes(data=True) ) )\n"
   ]
  },
  {
   "cell_type": "code",
   "execution_count": 55,
   "metadata": {},
   "outputs": [
    {
     "name": "stdout",
     "output_type": "stream",
     "text": [
      "True\n"
     ]
    }
   ],
   "source": [
    "# Check if there is a path betweeen 2 nodes\n",
    "print( nx.has_path(H, source = 0, target = 4) )      # here and in the other methods below, you can use weight = 'weights' for edge-weights to be considered\n"
   ]
  },
  {
   "cell_type": "code",
   "execution_count": 56,
   "metadata": {},
   "outputs": [
    {
     "name": "stdout",
     "output_type": "stream",
     "text": [
      "[0, 1, 3]\n"
     ]
    }
   ],
   "source": [
    "# Find the shortest path between 2 nodes\n",
    "print( nx.shortest_path(H, source = 0, target = 3) ) # method='dijkstra' is the default algorithm\n"
   ]
  },
  {
   "cell_type": "code",
   "execution_count": 57,
   "metadata": {},
   "outputs": [
    {
     "name": "stdout",
     "output_type": "stream",
     "text": [
      "2\n"
     ]
    }
   ],
   "source": [
    "# Calculate the length of the shortest-path (the distance) between 2 nodes\n",
    "print( nx.shortest_path_length(H, source = 0, target = 3) )\n"
   ]
  },
  {
   "cell_type": "code",
   "execution_count": 58,
   "metadata": {},
   "outputs": [
    {
     "name": "stdout",
     "output_type": "stream",
     "text": [
      "1.6\n"
     ]
    }
   ],
   "source": [
    "# Calculate the average length of all the shortest paths in the network\n",
    "# This can be quite computationally intensive if the network is too large and dense, therefore, use with caution\n",
    "# Try first with a smaller network, e.g. N~1000 nodes and E~10000-2000 links\n",
    "print( nx.average_shortest_path_length(H) )\n"
   ]
  },
  {
   "cell_type": "code",
   "execution_count": 59,
   "metadata": {},
   "outputs": [
    {
     "name": "stdout",
     "output_type": "stream",
     "text": [
      "3\n"
     ]
    }
   ],
   "source": [
    "# Calculate the diameter of the network\n",
    "print( nx.diameter(H) )   # In this example network, it corresponds to the shortest-path between \"0\" and \"4\"\n"
   ]
  },
  {
   "cell_type": "markdown",
   "metadata": {},
   "source": [
    "<h4>3.3. Clustering coefficient</h4>\n"
   ]
  },
  {
   "cell_type": "code",
   "execution_count": 60,
   "metadata": {},
   "outputs": [
    {
     "name": "stdout",
     "output_type": "stream",
     "text": [
      "5\n"
     ]
    }
   ],
   "source": [
    "# Let us first create a network\n",
    "\n",
    "import networkx as nx\n",
    "\n",
    "H = nx.Graph([(0, 1), (1, 2), (1, 3), (2, 3), (3, 4)])\n",
    "\n",
    "print( H.number_of_nodes() )\n"
   ]
  },
  {
   "cell_type": "code",
   "execution_count": 61,
   "metadata": {},
   "outputs": [
    {
     "name": "stdout",
     "output_type": "stream",
     "text": [
      "{0: 0, 1: 0.3333333333333333, 2: 1.0, 3: 0.3333333333333333, 4: 0}\n",
      "cc_2: 0.333\n",
      "{2: 1.0, 3: 0.3333333333333333}\n",
      "avg. cc: 0.333\n"
     ]
    }
   ],
   "source": [
    "# Clustering coefficient of all nodes i in the network\n",
    "print( nx.clustering(H) )\n",
    "\n",
    "# Clustering coefficient of a single node\n",
    "print(\"cc_2: %.3f\" % nx.clustering(H, nodes = 1) )\n",
    "\n",
    "# Clustering coefficient of a list of nodes in the network\n",
    "print( nx.clustering(H, nodes = [2, 3]) )\n",
    "\n",
    "# Average clustering coefficient of all nodes in the network\n",
    "print(\"avg. cc: %.3f\" % nx.average_clustering(H) )\n"
   ]
  },
  {
   "cell_type": "code",
   "execution_count": 62,
   "metadata": {},
   "outputs": [
    {
     "name": "stdout",
     "output_type": "stream",
     "text": [
      "   clustering\n",
      "0    0.000000\n",
      "1    0.333333\n",
      "2    1.000000\n",
      "3    0.333333\n",
      "4    0.000000\n"
     ]
    }
   ],
   "source": [
    "# For multiple nodes, the method returns a list where the indexes represent the node IDs and the values represent the clustering coefficient of that node\n",
    "# To convert this output to a pandas dataframe\n",
    "\n",
    "import pandas as pd\n",
    "\n",
    "df1 = pd.DataFrame.from_dict(nx.clustering(H), orient='index', columns=['clustering']) # orient -> orientation of the data, in this case index, i.e. each key will be converted to a row | columns -> column name\n",
    "\n",
    "print(df1)\n"
   ]
  },
  {
   "cell_type": "code",
   "execution_count": 63,
   "metadata": {},
   "outputs": [
    {
     "name": "stdout",
     "output_type": "stream",
     "text": [
      "      degree\n",
      "node        \n",
      "0          1\n",
      "1          3\n",
      "2          2\n",
      "3          3\n",
      "4          1\n",
      "   degree  clustering\n",
      "0       1    0.000000\n",
      "1       3    0.333333\n",
      "2       2    1.000000\n",
      "3       3    0.333333\n",
      "4       1    0.000000\n"
     ]
    }
   ],
   "source": [
    "# A little recap from last week!\n",
    "\n",
    "# 1. Calculate the degree of each node and store in a dataframe\n",
    "df2 = pd.DataFrame( nx.degree(H), columns = ['node','degree'] )\n",
    "df3 = df2.set_index('node')\n",
    "print(df3)\n",
    "# 2. Make a single dataframe of node structural properties\n",
    "#    first column for degree and second column for clustering coefficient (of the very same nodes)\n",
    "\n",
    "df4 = pd.concat([df3, df1], axis = 1)\n",
    "print(df4)\n",
    "\n",
    "# 3. Ask yourself: \n",
    "#    - Do nodes with high degree have high clustering or vice-versa?\n",
    "#    - Why do nodes with degree 1 have clustering equal to zero?\n",
    "#    Ps: This is just an hypothetical network but the question is always relevant and worth investigating\n",
    "#    Ps: Later in this notebook, I show how to calculate the correlation and make a simple regression analysis\n"
   ]
  },
  {
   "cell_type": "markdown",
   "metadata": {},
   "source": [
    "<h4>3.4. Other measures of clustering</h4>\n"
   ]
  },
  {
   "cell_type": "code",
   "execution_count": 64,
   "metadata": {},
   "outputs": [
    {
     "data": {
      "image/png": "[encoded data removed]",
      "text/plain": [
       "<Figure size 432x288 with 1 Axes>"
      ]
     },
     "metadata": {},
     "output_type": "display_data"
    }
   ],
   "source": [
    "import networkx as nx\n",
    "#import matplotlib.pyplot as plt\n",
    "\n",
    "#%matplotlib inline\n",
    "\n",
    "#plt.figure(figsize=(4,4), tight_layout=True)\n",
    "\n",
    "# create a simple network\n",
    "G.clear()\n",
    "G = nx.Graph([(0, 1), (1, 2), (1, 3), (2, 3), (3, 4)])\n",
    "\n",
    "nx.draw(G, with_labels = True, pos = nx.spring_layout(G, iterations=300), node_size = 1000, node_color = 'yellow')\n",
    "#plt.show()\n"
   ]
  },
  {
   "cell_type": "code",
   "execution_count": 65,
   "metadata": {},
   "outputs": [
    {
     "name": "stdout",
     "output_type": "stream",
     "text": [
      "triangles:  {0: 0, 1: 1, 2: 1, 3: 1, 4: 0}\n",
      "closeness:  {0: 0.5, 1: 0.8, 2: 0.6666666666666666, 3: 0.8, 4: 0.5}\n",
      "transitivity: 0.429\n"
     ]
    }
   ],
   "source": [
    "# number of triangles in which the focal node i is involved\n",
    "print('triangles: ', nx.triangles(G))\n",
    "\n",
    "# closeness centrality of all the nodes i  -- better to avoid this measure for analysis and use k-core instead\n",
    "print('closeness: ', nx.closeness_centrality(G))   # avoid closeness centrality\n",
    "\n",
    "# transitivity of the network -- better to avoid this measure and calculate the average clustering coefficient instead\n",
    "print('transitivity: %.3f' % nx.transitivity(G))   # remember the class? T = (3 x 2 triangles) / (14 triplets) = 0.42857\n"
   ]
  },
  {
   "cell_type": "code",
   "execution_count": 66,
   "metadata": {},
   "outputs": [
    {
     "name": "stdout",
     "output_type": "stream",
     "text": [
      "cliques:  [[0], [1], [2], [3], [4], [0, 1], [1, 2], [1, 3], [2, 3], [3, 4], [1, 2, 3]]\n"
     ]
    }
   ],
   "source": [
    "# find all cliques in the network\n",
    "\n",
    "# calculate all cliques in the network, from size 1 to maximum\n",
    "# note that only cliques with at least 3 nodes are interesting\n",
    "# this can be computationally intensive for larger networks, thus use with caution\n",
    "\n",
    "# calculate the cliques\n",
    "cliques = nx.enumerate_all_cliques(G)\n",
    "\n",
    "# convert the cliques to a list of cliques\n",
    "list_cliques = list(cliques)\n",
    "\n",
    "print('cliques: ', list_cliques )    # it returns cliques of size 1, 2, 3, 4, 5 ...\n"
   ]
  },
  {
   "cell_type": "code",
   "execution_count": 67,
   "metadata": {},
   "outputs": [
    {
     "name": "stdout",
     "output_type": "stream",
     "text": [
      "[0, 1]\n",
      "2\n",
      "0\n"
     ]
    }
   ],
   "source": [
    "# Better to iterate through the list to find the relevant cliques, especially if the network is large enough (i.e. hundreds of nodes and above)\n",
    "\n",
    "# print a list containing the clique stored at position 5\n",
    "print( list_cliques[5] )\n",
    "\n",
    "# print the length of the clique stored at position 5\n",
    "print( len(list_cliques[5]) )\n",
    "\n",
    "# print each node (e.g. 0) in the clique stored at position 5\n",
    "print( list_cliques[5][0] )\n"
   ]
  },
  {
   "cell_type": "markdown",
   "metadata": {},
   "source": [
    "<h4>3.5. Network core and node k-core</h4>\n"
   ]
  },
  {
   "cell_type": "code",
   "execution_count": 68,
   "metadata": {},
   "outputs": [
    {
     "data": {
      "image/png": "[encoded data removed]",
      "text/plain": [
       "<Figure size 432x288 with 1 Axes>"
      ]
     },
     "metadata": {},
     "output_type": "display_data"
    }
   ],
   "source": [
    "# find the k-core of a network\n",
    "# Remember from the class, week 3: The k-core is a maximal subgraph that contains nodes of degree k or larger\n",
    "# The core number of node i is the largest value k of a k-core containing that node\n",
    "\n",
    "import networkx as nx\n",
    "\n",
    "# create a simple network\n",
    "G.clear()\n",
    "#G = nx.Graph([(0, 1), (1, 2), (1, 3), (2, 3), (3, 4)])\n",
    "G = nx.Graph([(0, 1), (1, 2), (1, 3), (2,3), (3,4), (0,3), (5,2), (5,1), (0,2)])\n",
    "\n",
    "nx.draw(G, with_labels = True, pos = nx.spring_layout(G, iterations=300), node_size = 1000, node_color = 'yellow')\n"
   ]
  },
  {
   "cell_type": "code",
   "execution_count": 69,
   "metadata": {},
   "outputs": [
    {
     "data": {
      "image/png": "[encoded data removed]",
      "text/plain": [
       "<Figure size 432x288 with 1 Axes>"
      ]
     },
     "metadata": {},
     "output_type": "display_data"
    }
   ],
   "source": [
    "# create a sub-network H that is the core of the network G\n",
    "\n",
    "H = nx.k_core(G)\n",
    "\n",
    "nx.draw(H, with_labels = True, pos = nx.spring_layout(G, iterations=300), node_size = 1000, node_color = 'magenta')\n"
   ]
  },
  {
   "cell_type": "code",
   "execution_count": 70,
   "metadata": {},
   "outputs": [
    {
     "name": "stdout",
     "output_type": "stream",
     "text": [
      "[0, 1, 2, 3, 5] [0, 1, 2, 3, 4, 5]\n"
     ]
    },
    {
     "data": {
      "image/png": "[encoded data removed]",
      "text/plain": [
       "<Figure size 432x288 with 1 Axes>"
      ]
     },
     "metadata": {},
     "output_type": "display_data"
    }
   ],
   "source": [
    "# one can choose a certain \"k\" OR \"none\" for the main core, i.e. the largest degree \"k\" before the network has no links\n",
    "\n",
    "#nx.k_core(G, k = None)  \n",
    "\n",
    "H = nx.k_core(G, k=2)\n",
    "\n",
    "#========== Try some different values of k ====\n",
    "#H = nx.k_core(G, k=3)\n",
    "# and compare the outputs\n",
    "print( list( H.nodes() ), list( G.nodes() ) )\n",
    "# What happens?\n",
    "#==============================================\n",
    "nx.draw(H, with_labels = True, pos = nx.spring_layout(G, iterations=300), node_size = 1000, node_color = 'magenta')\n"
   ]
  },
  {
   "cell_type": "code",
   "execution_count": 71,
   "metadata": {},
   "outputs": [
    {
     "name": "stdout",
     "output_type": "stream",
     "text": [
      "node k-core:  {0: 3, 1: 3, 2: 3, 3: 3, 4: 1, 5: 2}\n",
      "nodes in the core:  [0, 1, 2, 3]\n"
     ]
    },
    {
     "data": {
      "image/png": "[encoded data removed]",
      "text/plain": [
       "<Figure size 432x288 with 1 Axes>"
      ]
     },
     "metadata": {},
     "output_type": "display_data"
    }
   ],
   "source": [
    "# The k-core of each node i can be calculated\n",
    "\n",
    "import networkx as nx\n",
    "\n",
    "G.clear()\n",
    "G = nx.Graph([(0, 1), (1, 2), (1, 3), (2,3), (3,4), (0,3), (5,2), (5,1), (0,2)])\n",
    "\n",
    "nx.draw(G, with_labels = True, pos = nx.spring_layout(G, iterations=300), node_size = 1000, node_color = 'yellow')\n",
    "\n",
    "# The method bellow returns the core number (k-core) of each node\n",
    "print(\"node k-core: \", nx.core_number(G) )\n",
    "\n",
    "H = nx.k_core(G)\n",
    "print(\"nodes in the core: \", list( H.nodes() ))\n",
    "\n",
    "# In this example, first remove nodes with k=1, i.e. node 4. Then remove nodes with k=2, i.e. node 5 \n",
    "# Then if we attempt to remove nodes with k=3, the network gets empty, thus the core of the network is 3 \n",
    "# and the k-core of the remaining nodes is 3\n"
   ]
  },
  {
   "cell_type": "markdown",
   "metadata": {},
   "source": [
    "Tip: There are no methods on networkx to detect the core-periphery of a directed network (bow-tie structure). If you need it, see this dedicated module: https://github.com/skojaku/core-periphery-detection\n"
   ]
  },
  {
   "cell_type": "code",
   "execution_count": 72,
   "metadata": {},
   "outputs": [
    {
     "name": "stdout",
     "output_type": "stream",
     "text": [
      "   degree  clustering  k-core  triangles  closeness\n",
      "0       3    1.000000       3          3   0.714286\n",
      "1       4    0.666667       3          4   0.833333\n",
      "2       4    0.666667       3          4   0.833333\n",
      "3       4    0.500000       3          3   0.833333\n",
      "4       1    0.000000       1          0   0.500000\n",
      "5       2    1.000000       2          1   0.555556\n"
     ]
    }
   ],
   "source": [
    "# Add all measures to the same dataframe for the analysis\n",
    "\n",
    "import networkx as nx\n",
    "\n",
    "G.clear()\n",
    "G = nx.Graph([(0, 1), (1, 2), (1, 3), (2,3), (3,4), (0,3), (5,2), (5,1), (0,2)])\n",
    "\n",
    "# calculate the network measure for each node and create a dataframe for that measure\n",
    "df1 = pd.DataFrame( nx.degree(G), columns = ['node','degree'] )\n",
    "df1 = df1.set_index('node')\n",
    "df2 = pd.DataFrame.from_dict(nx.clustering(G), orient='index', columns=['clustering'])\n",
    "df3 = pd.DataFrame.from_dict(nx.core_number(G), orient='index', columns=['k-core'])\n",
    "df4 = pd.DataFrame.from_dict(nx.triangles(G), orient='index', columns=['triangles'])\n",
    "df5 = pd.DataFrame.from_dict(nx.closeness_centrality(G), orient='index', columns=['closeness'])\n",
    "\n",
    "# combine all dataframes into a single dataframe with all measures\n",
    "df6 = pd.concat([df1, df2, df3, df4, df5], axis=1)\n",
    "\n",
    "print(df6)\n"
   ]
  },
  {
   "cell_type": "code",
   "execution_count": 73,
   "metadata": {},
   "outputs": [
    {
     "data": {
      "text/plain": [
       "degree        4.000000\n",
       "clustering    0.500000\n",
       "k-core        3.000000\n",
       "triangles     3.000000\n",
       "closeness     0.833333\n",
       "Name: 3, dtype: float64"
      ]
     },
     "execution_count": 73,
     "metadata": {},
     "output_type": "execute_result"
    }
   ],
   "source": [
    "# with this combined dataframe, it is easier to manipulate/operate the data. Review lab week 2 about pandas\n",
    "\n",
    "# returns all values in the column clustering, i.e. column \"1\"\n",
    "#df6.iloc[:,1]\n",
    "\n",
    "# returns all values in the column clustering\n",
    "#df6['clustering']\n",
    "\n",
    "# returns all columns/measures in the row \"3\", i.e. all measures for node \"3\"\n",
    "df6.iloc[3,:]\n"
   ]
  },
  {
   "cell_type": "markdown",
   "metadata": {},
   "source": [
    "<h2><b>4.</b> (0:45-0:55h) Fitting a function to data </h2>\n",
    "\n",
    "It is often useful to make a correlation analysis or regression analysis of two variables. The two variables can be either structural measures of nodes (or of several distinct networks) or non-structural measures of nodes, e.g. age, income, revenue, stock price, value, etc. Here we review a simple routine for linear regression. For more advanced methods/fitting routines, see the modules for statistical analysis, e.g. https://docs.scipy.org/doc/scipy/reference/stats.html.\n"
   ]
  },
  {
   "cell_type": "code",
   "execution_count": 74,
   "metadata": {},
   "outputs": [
    {
     "name": "stdout",
     "output_type": "stream",
     "text": [
      "Slope: 7.136 / Intercept: -9.403\n",
      "Pearson corr: 0.972 / p-value: 0.001\n"
     ]
    },
    {
     "data": {
      "image/png": "[encoded data removed]",
      "text/plain": [
       "<Figure size 288x288 with 1 Axes>"
      ]
     },
     "metadata": {
      "needs_background": "light"
     },
     "output_type": "display_data"
    }
   ],
   "source": [
    "# Simple linear regression\n",
    "\n",
    "import matplotlib.pyplot as plt\n",
    "import scipy.stats as st\n",
    "import numpy as np\n",
    "\n",
    "#%matplotlib inline\n",
    "\n",
    "# Generate some artificial data for \"x\" and \"y\" or get some real data\n",
    "x = list(range(1,7))      # i.e. the same as x = [1, 2, 3, 4, 5, 6]\n",
    "#y = [2, 1, 3, 8, 3, 7]\n",
    "#y = [i**2 for i in x]    # i.e. the same as y = [1, 4, 9, 16, 25, 36]\n",
    "# This is just an artificial example. A little noise is added to y, i.e. \"i^2 + noise\"\n",
    "y = [i**2 + np.random.standard_normal() for i in x]   \n",
    "\n",
    "# calculate simple linear regression -ordinary least squares- and send output to a\n",
    "a = st.linregress(x , y)        \n",
    "#print(a)                    # print full output\n",
    "#print(a[0])                 # print one output  -> a[0] is the slope | a[1] is the intercept | a[2] is Pearson correlation | a[3] is p-value of fitting | a[4] st_error -> To calculate the confidence interval (CI) from the std_error, see https://www.ncbi.nlm.nih.gov/pmc/articles/PMC1255808/  C.I (95%)= slope +- 1.95*std_error\n",
    "print(\"Slope: %.3f / Intercept: %.3f\" % (a[0], a[1]) )\n",
    "print(\"Pearson corr: %.3f / p-value: %.3f\" % (a[2], a[3]) )\n",
    "\n",
    "# plot the results\n",
    "plt.figure(figsize=(4, 4))\n",
    "\n",
    "# scatter plot of x and y values in the original data\n",
    "plt.scatter(x, y)\n",
    "\n",
    "# calculate the fitted \"y\" values -for the given values of \"x\"- based on the fitted parameters a[0] (slope) a[1] (intercept)\n",
    "y_fit = [i * a[0] + a[1] for i in x]\n",
    "\n",
    "# dashed line plot of the fitted values\n",
    "plt.ylabel('Y values')\n",
    "plt.xlabel('X values')\n",
    "plt.plot(x, y_fit, 'k--')\n",
    "\n",
    "plt.show()\n"
   ]
  },
  {
   "cell_type": "code",
   "execution_count": 75,
   "metadata": {},
   "outputs": [
    {
     "name": "stdout",
     "output_type": "stream",
     "text": [
      "Slope: 0.625 / Intercept: 0.625\n",
      "Pearson corr: 0.945 / p-value: 0.004\n"
     ]
    },
    {
     "data": {
      "image/png": "[encoded data removed]",
      "text/plain": [
       "<Figure size 288x288 with 1 Axes>"
      ]
     },
     "metadata": {
      "needs_background": "light"
     },
     "output_type": "display_data"
    }
   ],
   "source": [
    "# Simple linear regression - using data from a pandas dataframe, e.g. the network measures above\n",
    "# You can use this routine in the assignments\n",
    "\n",
    "import matplotlib.pyplot as plt\n",
    "import scipy.stats as st\n",
    "\n",
    "#use the data in a pandas dataframe\n",
    "x = df6.iloc[:,0]         # i.e. x has the degree of nodes, stored in dataframe df6 (column 0)\n",
    "y = df6.iloc[:,2]         # i.e. y has the k-core of nodes, stored in dataframe df6 (column 2). See above\n",
    "\n",
    "a = st.linregress(x , y)  # calculate linear regression and send output to a\n",
    "#print(a)                 # all outputs\n",
    "#print(a[0])              # one output  -> a[0] is the slope | a[1] is the intercept | a[2] is Pearson correlation | a[3] is p-value of fitting\n",
    "print(\"Slope: %.3f / Intercept: %.3f\" % (a[0], a[1]) )\n",
    "print(\"Pearson corr: %.3f / p-value: %.3f\" % (a[2], a[3]) )\n",
    "\n",
    "# plot the results\n",
    "plt.figure(figsize=(4, 4))\n",
    "\n",
    "# scatter plot of x and y values in the original data\n",
    "plt.scatter(x, y)\n",
    "\n",
    "# calculate the fitted \"y\" values -for the given values of \"x\"- based on the fitted parameters a[0] (slope) a[1] (intercept)\n",
    "x_fit = list( range( min(list(x)), max(list(x))+1 ) )\n",
    "y_fit = [i * a[0] + a[1] for i in x_fit]\n",
    "\n",
    "# dashed line plot of the fitted values\n",
    "plt.ylabel('k-core')\n",
    "plt.xlabel('k')\n",
    "plt.plot(x_fit, y_fit, 'k--')\n",
    "\n",
    "plt.show()\n"
   ]
  },
  {
   "cell_type": "code",
   "execution_count": 76,
   "metadata": {},
   "outputs": [
    {
     "name": "stdout",
     "output_type": "stream",
     "text": [
      "Slope: 7.299 / Intercept: -10.380 \n"
     ]
    }
   ],
   "source": [
    "# Advanced fitting tools, see more on https://www.tutorialspoint.com/scipy/scipy_odr.htm\n",
    "# Example below works for linear fitting, you only need to change \"x\" and \"y\" to your data, if you want to use this routine\n",
    "\n",
    "# You should use orthogonal distance regression where there is uncertainty in both axes. \n",
    "# Generally speaking, ordinary least squares, as done above, is sufficient\n",
    "\n",
    "from scipy.odr import Model, Data, ODR        # ODR: orthogonal distance regression -> more general than ordinary least squares\n",
    "import numpy as np\n",
    "\n",
    "x = []\n",
    "y = []\n",
    "x = list(range(1,7))            # <- ADD HERE YOUR X DATA\n",
    "y = [i**2 for i in x]           # <- ADD HERE YOUR Y DATA\n",
    "\n",
    "param = []\n",
    "\n",
    "# First - define a function\n",
    "def f(B, x):\n",
    "    #Linear function y = m*x + b\n",
    "    return B[0]*x + B[1]\n",
    "\n",
    "# Second - make the fit\n",
    "def fit(x, y):\n",
    "    # Create a model for fitting, using the function defined above\n",
    "    linear = Model(f)\n",
    "\n",
    "    # Assuming an error given by the normal distribution\n",
    "    sx = np.abs( np.random.normal(0, 2, len(x)) )\n",
    "    sy = np.abs( np.random.normal(0, 2, len(y)) )\n",
    "\n",
    "    # Take the values of x and y from your data\n",
    "    mydata = Data(x, y)\n",
    "\n",
    "    # Make linear regression on your data, using orthogonal distance regression\n",
    "    # You can use other functional forms, see https://docs.scipy.org/doc/scipy/reference/odr.html\n",
    "    # like polynomial functions, exponential function\n",
    "    myodr = ODR(mydata, linear, beta0=[1., 1.])   # -> starting values for the parameters\n",
    "    myoutput = myodr.run()\n",
    "    \n",
    "    return myoutput\n",
    "\n",
    "f_output = fit(x, y)\n",
    "\n",
    "print(\"Slope: %.3f / Intercept: %.3f \" %(f_output.beta[0], f_output.beta[1]))\n"
   ]
  },
  {
   "cell_type": "markdown",
   "metadata": {},
   "source": [
    "<h2><b>5.</b> (0:55-1:30h) Get your hands dirty </h2>\n",
    "This exercise aims to compare different structures of different networks using the methods above. Analyse one network per time, and then make a comparative analysis between different networks. Try to find trends and interpret the results in the context of the data set.\n",
    "\n",
    "<ul>\n",
    "    <li> Go to: https://users.ugent.be/~lcorread/courses/week2/ </li>\n",
    "    <li> Download the 3 data sets below </li>\n",
    "    <ul>\n",
    "        <li> Email </li>\n",
    "        <li> Phone</li>\n",
    "        <li> Collaboration </li>\n",
    "        <li> Ps: Nodes are labelled from 0 continuously. Each line contains two node labels A and B, representing either a directed link A->B or an undirected link A-B. Undirected links appear only once in the file.</li>\n",
    "    </ul>\n",
    "    <li> See more details about these networks in the lab week 2 </li>\n",
    "</ul>\n",
    "\n",
    "<h3>Proposed Analysis</h3>\n",
    "\n",
    "<ul>\n",
    "    <li> Basic analysis </li>\n",
    "    <ul>\n",
    "        <li> Measure the asssortativity of these networks </li>\n",
    "        <ul>\n",
    "            <li> What does the assortativity tell you about each system/network? </li>\n",
    "        </ul>\n",
    "        <li> Measure the average clustering coefficient of each of these networks </li>\n",
    "        <ul>\n",
    "            <li> Rank the networks according to their clustering level </li>\n",
    "            <li> For a given network, rank the nodes according to their clustering level </li>\n",
    "            <ul>\n",
    "                <li> (tip) use the method to sort rows using a pandas dataframe, lab 2 </li>\n",
    "                <li> it might be useful to plot the ranked values (x-axis: rank | y-axis: clustering coefficient) </li>\n",
    "            </ul>\n",
    "            <li> What is the meaning of (your measure of) clustering in each of these networks? </li>\n",
    "            <li> Which network is more robust against failures i.e. has more redundancies? </li>\n",
    "        </ul>\n",
    "        <li> Identify which networks have the small-world property </li>\n",
    "        <ul>\n",
    "            <li> Which network do you think is the \"smallest-world\"? Why? </li>\n",
    "            <li> What is the meaning/consequence of being small-world in each of these networks? </li>\n",
    "        </ul>\n",
    "        <li> Compare the chosen networks with the networks shown in the lecture (see lecture slides, week 2) </li>\n",
    "        <ul>\n",
    "            <li> Any similarities or differences in the structure? </li>\n",
    "            <li> Can you find any trends? e.g. technological vs. social networks </li>\n",
    "        </ul>\n",
    "        <li> Measure the k-core of each node </li>\n",
    "        <ul>\n",
    "            <li> What is the core of the network? try to show/plot the core </li>\n",
    "            <li> What is the highest k-core in the network? </li>\n",
    "        </ul>\n",
    "    </ul>\n",
    "    <li> Correlation Analysis </li>   \n",
    "    <ul>\n",
    "        <li> For a given network, select a few node-level measures </li>\n",
    "        <ul>\n",
    "            <li> Make a scatter plot of two measures per time </li>\n",
    "            <li> Calculate the linear regression between them </li>\n",
    "            <li> Calculate the Pearson correlation coefficient between them </li>\n",
    "            <li> Do you find any trends? </li>\n",
    "            <li> If two measures are correlated, what does it mean? If two measures are not correlated, what does it mean? </li>\n",
    "        </ul>\n",
    "        <li> Compare results of different networks (at least 3) </li>\n",
    "        <ul>\n",
    "            <li> Are the correlations the same for the same pair of measures on different networks? </li>\n",
    "            <li> What does this type of analysis can tell you about the structural properties of the nodes? </li>\n",
    "        </ul>\n",
    "        <li> If you could get <b>non-structural</b> attributes/characteristics of the nodes, e.g. age, income, revenues, stock-price, what attributes would be interesting to analyse the correlations with a <b>structural</b> node property? In other words, could the structural information be an economic or social indicator? </li>\n",
    "    </ul>\n",
    "        <li> (homework) Advanced Analysis </li>   \n",
    "    <ul>\n",
    "        <li> Calculating the average shortest-path length is demanding for the computer. How would you do the calculations differently? </li>\n",
    "        <ul>\n",
    "            <li> tip: think about sampling nodes, i.e. sample 2 nodes and calculate the shortest distance between them. Then sample 2 more nodes and repeat. Over time, this should converge to the true mean, following the law of large numbers </li>\n",
    "        </ul>\n",
    "        <li> Plot the node degree vs the avg. degree of its direct neighbours </li>\n",
    "        <ul>\n",
    "            <li> Calculate the correlation in this plot and compare with the assortativity </li>\n",
    "        </ul>\n",
    "        <li> What is the average shortest-path (avg. distance) between all pairs of nodes with degree above k' (you choose k') in comparison to the avg. distance between any two nodes in the network?  </li>\n",
    "        <ul>\n",
    "            <li> What the results mean? </li>\n",
    "            <li> (tip) you can make a graph with varying k' in the x-axis and avg. shortest paths in the y-axis </li>\n",
    "        </ul>\n",
    "        <li> What is the distribution of the clustering coefficients of nodes for a given network? </li>\n",
    "        <ul>\n",
    "            <li> (tip) make a plot similar to the degree distribution (see lab 2, histogram) but remember that here the values go from 0 to 1 </li>\n",
    "            <li> (tip) a simple method is to multiply de values of the clustering coefficient by 100 and transform the result to integer, i.e. $cc_i = int(100 \\times cc_i)$. Then, you can use exactly the same routine as for the degree distribution. This gives you the $cc_i$ with 2 significant digits, to increase accuracy, you can multiply by 1000 and so on. </li>\n",
    "        </ul>\n",
    "        <li> Count the number of cliques of size 4 in each network </li>\n",
    "        <ul>\n",
    "            <li> What is the avg. degree of the nodes in these cliques in comparison to all nodes in the network? </li>\n",
    "            <li> tip: you can make a graph with varying clique size in the x-axis and avg. degree in the y-axis </li>\n",
    "        </ul>\n",
    "        <li> Implement the algorithm (from scratch) to calculate the k-core of each node </li>\n",
    "        <ul>\n",
    "            <li> (tip) it is an iterative process </li>\n",
    "        </ul>\n",
    "    </ul>\n",
    "</ul>\n"
   ]
  },
  {
   "cell_type": "code",
   "execution_count": 77,
   "metadata": {},
   "outputs": [],
   "source": [
    "# Solutions\n",
    "\n",
    "# Just copy and paste the pieces of codes and adapt to the networks that you want to analyse\n",
    "\n",
    "# lab 2 shows how to read the network from a file and create a network object\n",
    "# this notebook has the routines to make the network calculations\n",
    "# lab 2 and lab 1 have routines to plot data\n"
   ]
  },
  {
   "cell_type": "markdown",
   "metadata": {},
   "source": [
    "<h1>15 min break! </h1>\n",
    "\n",
    "<h2><b>(1:30-2:45h) Part 2 </b></h2>"
   ]
  },
  {
   "cell_type": "markdown",
   "metadata": {},
   "source": [
    "<h2><b>5.</b> (1:45-2:45h) Fitting the degree distribution </h2>\n",
    "\n",
    "Besides visualising the degree distribution, it is often important to fit the data to quantity the distribution for further analysis, e.g. for the comparison of networks, or to link with explanatory network models. Given that network data can be limited, sometimes the empirical distribution cannot be easily fitted. In many cases, however, a skewed distribution is observed and a power-law of the form $f(k)=C k^{-\\alpha}$ are often the appropriate function to fit the degree distribution.\n",
    "<br><br>\n",
    "The standard way of fitting a power-law to real data is by taking the logarithm on both axes and then fitting a straight line such that:\n",
    "<ul>\n",
    "    <li> $f(k)=C k^{-\\alpha}$ </li>\n",
    "    <li> $\\log(f(k)) = \\log(C) - \\alpha \\log(k)$ </li> \n",
    "    <li> $Y = D - \\alpha X$, where:</li>\n",
    "    <ul>\n",
    "        <li> $Y := \\log(f(k))$ </li>\n",
    "        <li> $X := \\log(k)$ </li>\n",
    "        <li> $D := \\log(C) \\rightarrow C = e^{D}$ </li>\n",
    "    </ul>\n",
    "    <li> $\\alpha$ is the exponent of the power-law </li>\n",
    "</ul>\n",
    "<ul>\n",
    "    <li> These Python methods might be useful:\n",
    "    <ul>\n",
    "        <li> import numpy as np\n",
    "        <li> D = np.log10(C)\n",
    "        <li> C = np.exp(D)\n",
    "    </ul>\n",
    "</ul>\n",
    "\n",
    "<ul>\n",
    "    <li> There are some statistical methods to improve the quality of the fitting </li>\n",
    "    <ul>\n",
    "        <li> they can be used for any distribution, not only for the degree distribution </li>\n",
    "        <li> use the cumulative distribution (preferred method, see slides week 2). In this case, you must fit the function: $\\text{cum}(f(k)) = \\sum_{k'=k}^{k_{max}} f(k') = F(k) = A k^{-\\alpha+1}$ </li>\n",
    "        <li> use log-bins (i.e. (0-1], (1,2], (2,4], (4, 8], (8, 16], .... ) instead of decimal bins (i.e. (0-2], (2,4], (4,6], (6, 8], ....) to build your distribution </li>\n",
    "        <li> note that you can also define a range of values in which you want to fit the power-law. this is often accepted because the distribution is noisy for small and very large values of degree. However, the fitting must happen on at least 2 decades in the log-scale, e.g. from 1-100, or 10-1000. </li>\n",
    "    </ul>\n",
    "    <li> For more theory on power-laws, see http://www-personal.umich.edu/~mejn/courses/2006/cmplxsys899/powerlaws.pdf\n",
    "    <li> For some degree distributions, a power-law with exponential cutoff (i.e. $f(k)= \\frac{C} {k^{\\alpha}} e^{-\\beta k}$) or a log-normal (i.e. $f(x) = \\frac{1}{\\sigma x\\sqrt{2\\pi}} e^{-(\\log(x) - \\mu)^2/2 \\sigma^2}$) are more appropriate than a pure power-law </li>\n",
    "</ul>\n",
    "<ul>\n",
    "    <li> Fitting degree distributions using power-laws </li>\n",
    "    <ul>\n",
    "        <li> There is a Python module to help fitting power-laws called \"powerlaw\", see: https://pypi.org/project/powerlaw/ </li>\n",
    "        <li> You can install the module </li>\n",
    "        <ul>\n",
    "            <li> using Anaconda -> environments </li>\n",
    "            <li> or by opening the terminal and typing: conda install -c conda-forge powerlaw </li>\n",
    "        </ul>\n",
    "        <li> For more details on using this module, see this paper: https://journals.plos.org/plosone/article?id=10.1371/journal.pone.0085777 </li>\n",
    "        <ul>\n",
    "            <li> be careful because some methods/options from this module might not work in newer versions of Python 3.x </li>\n",
    "            <li> this limitation is especially true if you want to add fancy features to plots </li>\n",
    "        </ul>\n",
    "    </ul>\n",
    "</ul>\n"
   ]
  },
  {
   "cell_type": "markdown",
   "metadata": {},
   "source": [
    "<h4>5.1. Visualising the distributions</h4>\n"
   ]
  },
  {
   "cell_type": "code",
   "execution_count": 1,
   "metadata": {},
   "outputs": [
    {
     "data": {
      "image/png": "[encoded data removed]",
      "text/plain": [
       "<Figure size 288x288 with 1 Axes>"
      ]
     },
     "metadata": {
      "needs_background": "light"
     },
     "output_type": "display_data"
    }
   ],
   "source": [
    "# Visualisation of the distribution and cumulative distribution\n",
    "\n",
    "import networkx as nx\n",
    "import powerlaw as pw\n",
    "import matplotlib.pyplot as plt\n",
    "\n",
    "# First read the network from a file - this format is edge list\n",
    "G = nx.read_weighted_edgelist('./data/week2_email.edgelist.txt', comments = '#', create_using=nx.Graph(), nodetype = int, delimiter=',')#, encoding='utf-8')\n",
    "\n",
    "G = nx.Graph(G)                                 # Remove multiple edges\n",
    "G.remove_edges_from( nx.selfloop_edges(G) )     # Remove self-loops\n",
    "\n",
    "# create a list of degrees, using list comprehension\n",
    "k = [val for (node, val) in nx.degree(G)]\n",
    "\n",
    "# Draw the pdf and cumulative pdf\n",
    "plt.figure(figsize = (4,4), tight_layout = True)\n",
    "plt.ylim(0.000001, 1)\n",
    "plt.xlim(1, 10000)\n",
    "plt.ylabel('Normalised Count')\n",
    "plt.xlabel('Degree')\n",
    "\n",
    "# To plot the pdf and the cumulative pdf (ccdf) of the degree\n",
    "# Input to the method is the set of observations, i.e. set of degrees - the degree values -, NOT the histogram of degrees\n",
    "# Default is to plot using logarithmic binning. This can be changed using \"linear_bins=True\".\n",
    "# (tip) Note that this method is for the degree distribution but can be used for any node measure if the values are integer, e.g. k-core\n",
    "pw.plot_pdf(k)\n",
    "pw.plot_ccdf(k)\n",
    "\n",
    "#---------------------------------------------------------------------------------------------------------------------\n",
    "# For your reference and understanding, the method \"pw.plot_ccdf(k)\" above is equivalent to:\n",
    "h_deg = nx.degree_histogram(G)                      # degree distribution            - we did that in week 2\n",
    "h_deg_n = [x / G.number_of_nodes() for x in h_deg]  # normalised degree distribution\n",
    "x_deg = list( range(0, len(h_deg)) )                # list of degree values\n",
    "\n",
    "cum_h_deg_n = len(h_deg)*[0]                        # initialise a list of zeros\n",
    "i = 1\n",
    "while i < len(h_deg):    \n",
    "    cum_h_deg_n[i] = sum( h_deg_n[i:len(h_deg)] )   # calculate the cumulative distribution for each value of degree k\n",
    "    i += 1                                          # equivalent to i = i + 1\n",
    "\n",
    "# plot the distributions \"using my code\" on the same graph for comparison\n",
    "plt.plot(x_deg, h_deg_n, 'r+')                      # for the pdf plot using red crosses\n",
    "plt.plot(x_deg, cum_h_deg_n, 'g+')                  # for the cumulative plot using green crosses\n",
    "#---------------------------------------------------------------------------------------------------------------------\n",
    "\n",
    "plt.show()\n",
    "\n",
    "# Why do you think there is a little mismatch between my plot (in red) and the blue line? (think about the binning method)\n"
   ]
  },
  {
   "cell_type": "markdown",
   "metadata": {},
   "source": [
    "<h4>5.2. Fitting the data to a power-law </h4>\n"
   ]
  },
  {
   "cell_type": "code",
   "execution_count": 2,
   "metadata": {},
   "outputs": [
    {
     "name": "stdout",
     "output_type": "stream",
     "text": [
      "Exponent: 2.893\n",
      "Exponent error: 0.1200\n",
      "Kolmogorov-Smirnov: 0.0288\n",
      "x_min:  81.0\n"
     ]
    },
    {
     "name": "stderr",
     "output_type": "stream",
     "text": [
      "Calculating best minimal value for power law fit\n",
      "/Users/luisrocha/opt/anaconda3/lib/python3.8/site-packages/powerlaw.py:699: RuntimeWarning: invalid value encountered in true_divide\n",
      "  (CDF_diff**2) /\n"
     ]
    }
   ],
   "source": [
    "# Fitting the data to a power-law \n",
    "\n",
    "# the object \"fit\" contains statistical information about the fitting done using the method pw.Fit(k)\n",
    "fit = pw.Fit(k)                             # input is the list of degrees\n",
    "\n",
    "# Exponent of the power-law alpha\n",
    "print(\"Exponent: %.3f\" % fit.alpha )\n",
    "# sigma is the standard error of the exponent alpha, i.e. \"alpha +- sigma\". To calculate the confidence interval (CI) from the error, see https://www.ncbi.nlm.nih.gov/pmc/articles/PMC1255808/  C.I (95%)= [alpha +- 1.95*error] \n",
    "print(\"Exponent error: %.4f\" % fit.sigma )\n",
    "\n",
    "# x_min is defined by testing various values of (xmin) and calculating the minimal \"Kolmogorov-Smirnov distance\" (D) \n",
    "# between the data and the fit\n",
    "print(\"Kolmogorov-Smirnov: %.4f\" % fit.D)   # (goodness of fit) the fit function finds the minimal Kolmogorov-Smirnov \"distance\" between the data and the fit to a power-law. It is a measure of the difference between two distributions. For more details, see https://www.itl.nist.gov/div898/handbook/eda/section3/eda35g.htm\n",
    "print(\"x_min: \", fit.xmin)                  # x_min is found such that D is minimised\n"
   ]
  },
  {
   "cell_type": "code",
   "execution_count": 3,
   "metadata": {},
   "outputs": [
    {
     "name": "stderr",
     "output_type": "stream",
     "text": [
      "/Users/luisrocha/opt/anaconda3/lib/python3.8/site-packages/powerlaw.py:699: RuntimeWarning: invalid value encountered in true_divide\n",
      "  (CDF_diff**2) /\n"
     ]
    },
    {
     "data": {
      "image/png": "[encoded data removed]",
      "text/plain": [
       "<Figure size 288x288 with 1 Axes>"
      ]
     },
     "metadata": {
      "needs_background": "light"
     },
     "output_type": "display_data"
    }
   ],
   "source": [
    "# Visualisation of the distribution and cumulative distribution together with the best fit\n",
    "\n",
    "# Draw the pdf and cumulative pdf\n",
    "plt.figure(figsize = (4,4), tight_layout = True)\n",
    "plt.ylim(0.000001, 1)\n",
    "plt.xlim(1, 10000)\n",
    "plt.ylabel('Normalised Count')\n",
    "plt.xlabel('Degree')\n",
    "\n",
    "# Plot the original values considering the output of the fitting function \"fit=pw.Fit(k)\", specially x_min.\n",
    "# Note that the method also renormalises the distribution\n",
    "# For this email network, that means the power-law fits the \"tail\" of the distribution\n",
    "# Draw the empirical pdf taking into account the x_min - in blue\n",
    "fit.plot_pdf()\n",
    "\n",
    "# Draw the empirical cumulative pdf taking into account the x_min - in orange\n",
    "fit.plot_ccdf()\n",
    "\n",
    "# Plot a power-law function using the best fitted values - in green\n",
    "fit.power_law.plot_pdf()\n",
    "\n",
    "#---------------------------------------------------------------------------------------------------------------------\n",
    "# For your reference and understanding, the method above is equivalent to\n",
    "x = list( range(100,10000) )\n",
    "y = list( [ 8000/(i**2.893) for i in x ] )   # this is a list comprehension -> for each \"i\" in the list \"x\", output 1/(i**2.5)\n",
    "plt.plot(x, y, 'r--')                        # pdf - draw a dashed line in red\n",
    "#---------------------------------------------------------------------------------------------------------------------\n",
    "\n",
    "plt.show()\n"
   ]
  },
  {
   "cell_type": "code",
   "execution_count": 4,
   "metadata": {},
   "outputs": [
    {
     "name": "stderr",
     "output_type": "stream",
     "text": [
      "Calculating best minimal value for power law fit\n",
      "/Users/luisrocha/opt/anaconda3/lib/python3.8/site-packages/powerlaw.py:699: RuntimeWarning: invalid value encountered in true_divide\n",
      "  (CDF_diff**2) /\n"
     ]
    },
    {
     "data": {
      "image/png": "[encoded data removed]",
      "text/plain": [
       "<Figure size 288x288 with 1 Axes>"
      ]
     },
     "metadata": {
      "needs_background": "light"
     },
     "output_type": "display_data"
    }
   ],
   "source": [
    "# Exercise: compare the empirical distribution and the fitted distribution\n",
    "# Why is there a mismatch on the y-values but the shape of the curves are the same?\n",
    "\n",
    "import networkx as nx\n",
    "import powerlaw as pw\n",
    "import matplotlib.pyplot as plt\n",
    "\n",
    "# First read the network from file - this format is edge list\n",
    "G = nx.read_weighted_edgelist('./data/week2_email.edgelist.txt', comments = '#', create_using=nx.Graph(), nodetype = int, delimiter=',')#, encoding='utf-8')\n",
    "#G = nx.read_weighted_edgelist('./data/week2_citation.edgelist.txt', comments = '#', create_using=nx.Graph(), nodetype = int, delimiter=',')#, encoding='utf-8')\n",
    "\n",
    "G = nx.Graph(G)                                 # Remove multiple edges\n",
    "G.remove_edges_from( nx.selfloop_edges(G) )     # Remove self-loops\n",
    "\n",
    "k = [val for (node, val) in nx.degree(G)]       # create a list of degrees\n",
    "\n",
    "# Draw the pdf and cumulative pdf\n",
    "plt.figure(figsize = (4,4), tight_layout = True)\n",
    "plt.ylim(0.00000001, 2)\n",
    "plt.xlim(1, 10000)\n",
    "plt.ylabel('Normalised Count')\n",
    "plt.xlabel('Degree')\n",
    "\n",
    "# draw the empirical distributions\n",
    "pw.plot_pdf(k)    # in blue\n",
    "pw.plot_ccdf(k)   # in orange\n",
    "\n",
    "# draw the empirical distributions, using the estimated \"x_min\" and the \"renormalisation\"\n",
    "fit = pw.Fit(k) \n",
    "fit.plot_pdf()    # in green\n",
    "fit.plot_ccdf()   # in red\n",
    "\n",
    "plt.show()\n"
   ]
  },
  {
   "cell_type": "markdown",
   "metadata": {},
   "source": [
    "<h4>5.3. Fitting the data to a log-normal </h4>\n",
    "\n",
    "The log-normal distribution sometimes gives a better fit than a power-law.\n"
   ]
  },
  {
   "cell_type": "code",
   "execution_count": 5,
   "metadata": {},
   "outputs": [
    {
     "name": "stderr",
     "output_type": "stream",
     "text": [
      "/Users/luisrocha/opt/anaconda3/lib/python3.8/site-packages/powerlaw.py:1605: RuntimeWarning: invalid value encountered in true_divide\n",
      "  CDF = CDF/norm\n",
      "'nan' in fit cumulative distribution values.\n",
      "Likely underflow or overflow error: the optimal fit for this distribution gives values that are so extreme that we lack the numerical precision to calculate them.\n"
     ]
    },
    {
     "name": "stdout",
     "output_type": "stream",
     "text": [
      "Mu: -765.956\n",
      "Sigma: 20.188\n",
      "Kolmogorov-Smirnov: 0.0288\n",
      "x_min:  81.0\n"
     ]
    },
    {
     "data": {
      "image/png": "[encoded data removed]",
      "text/plain": [
       "<Figure size 288x288 with 1 Axes>"
      ]
     },
     "metadata": {
      "needs_background": "light"
     },
     "output_type": "display_data"
    }
   ],
   "source": [
    "# Fitting the data to a log-normal distribution\n",
    "\n",
    "# Draw the pdf and cumulative pdf\n",
    "plt.figure(figsize = (4,4), tight_layout = True)\n",
    "plt.ylim(0.000000001, 0.2)\n",
    "plt.xlim(10, 10000)\n",
    "plt.ylabel('Normalised Count')\n",
    "plt.xlabel('Degree')\n",
    "\n",
    "# Draw the empirical pdf taking into account the x_min - in blue\n",
    "fit.plot_pdf()\n",
    "\n",
    "# Plot a log-normal function using the best fitted values - in orange\n",
    "fit.lognormal.plot_pdf()           # for a log-normal\n",
    "\n",
    "# Print the estimated parameters of the log-normal\n",
    "# Parameter mu\n",
    "print(\"Mu: %.3f\" % fit.lognormal.mu)            # $\\mu$ is the mean of the log-normal distribution, see above.  \n",
    "#print(\"Mu: \", fit.lognormal.parameter1_name)   # returns the name of the parameter\n",
    "\n",
    "# Parameter sigma\n",
    "print(\"Sigma: %.3f\" % fit.lognormal.sigma)      # $\\sigma$ is the standard deviation of the log-normal distribution \n",
    "#print(\"Sigma: \", fit.lognormal.parameter2_name)\n",
    "\n",
    "# x_min is defined by testing various values of (xmin) and calculating the minimal \"Kolmogorov-Smirnov distance\" (D) \n",
    "# between the data and the fit\n",
    "print(\"Kolmogorov-Smirnov: %.4f\" % fit.D)   # (goodness of fit) the fit function finds the minimal Kolmogorov-Smirnov \"distance\" between the data and the fit to a log-normal. It is a measure of the difference between two distributions. For more details, see https://www.itl.nist.gov/div898/handbook/eda/section3/eda35g.htm\n",
    "print(\"x_min: \", fit.xmin)                  # x_min is found such that D is minimised\n"
   ]
  },
  {
   "cell_type": "markdown",
   "metadata": {},
   "source": [
    "<h4>5.4. Comparing theoretical distributions</h4>\n",
    "\n",
    "<ul>\n",
    "    <li> Is the power-law the best distribution (best fit) for your data? </li>\n",
    "    <li> It is recommended to compare the power-law with the log-normal and the exponential </li>\n",
    "</ul>\n",
    "\n",
    "<ul>\n",
    "    <li> $R$ is the loglikelihood ratio between the two candidate distributions - i.e. the goodness of fit of two competing statistical models </li>\n",
    "    <ul>\n",
    "        <li> if positive, the data is more likely best described by the first distribution </li>\n",
    "        <li> if negative, the data is more likely best described by the second distribution </li>\n",
    "        <li> the significance value for that direction is the $p$-value.\n",
    "        <li> as usual, $p <0.05$ indicates that the two models are not equal and thus either the first or second distribution is correct, according to the direction of $R$ </li>\n",
    "    </ul>\n",
    "</ul>\n"
   ]
  },
  {
   "cell_type": "code",
   "execution_count": 85,
   "metadata": {},
   "outputs": [
    {
     "name": "stdout",
     "output_type": "stream",
     "text": [
      "R: 1.16 / p-value: 0.0125\n"
     ]
    },
    {
     "name": "stderr",
     "output_type": "stream",
     "text": [
      "/Users/luisrocha/opt/anaconda3/lib/python3.8/site-packages/powerlaw.py:699: RuntimeWarning: invalid value encountered in true_divide\n",
      "  (CDF_diff**2) /\n"
     ]
    }
   ],
   "source": [
    "# To compare two competing distributions\n",
    "# R>0 -> the first distribution is the best\n",
    "# R<0 -> the second distribution is the best\n",
    "# p -> p-value\n",
    "\n",
    "# To compare the power-law with the exponential\n",
    "#R, p = fit.distribution_compare('power_law', 'exponential')\n",
    "\n",
    "# To compare the power-law with the lognormal\n",
    "R, p = fit.distribution_compare('power_law', 'lognormal')\n",
    "\n",
    "# To compare the power-law with the strechted exponential - p(x) ~ exp(-x^{\\beta})\n",
    "#R, p = fit.distribution_compare('power_law', 'stretched_exponential')\n",
    "\n",
    "# To compare the power-law with the truncated_power_law (also called power-law with exponential cutoff) - p(x) ~ x^{-\\alpha}*exp(-bx))\n",
    "#R, p = fit.distribution_compare('power_law', 'truncated_power_law')\n",
    "\n",
    "# print the output\n",
    "print(\"R: %.2f / p-value: %.4f\" %(R, p))\n"
   ]
  },
  {
   "cell_type": "markdown",
   "metadata": {},
   "source": [
    "<h4>5.4. Sampling from a power-law distribution</h4>\n",
    "\n",
    "The module has methods to generate values (sample values) from a given power-law distribution. This is useful if you want to generate networks using the configuration model, see week 6.\n",
    "You can also implement the sampling from scratch, see Table D.1 (p40) in this paper: https://arxiv.org/abs/0706.1062\n"
   ]
  },
  {
   "cell_type": "code",
   "execution_count": 86,
   "metadata": {},
   "outputs": [
    {
     "name": "stderr",
     "output_type": "stream",
     "text": [
      "Calculating best minimal value for power law fit\n"
     ]
    },
    {
     "name": "stdout",
     "output_type": "stream",
     "text": [
      "5.966572294885229\n",
      "x_min: 5.000 / alpha: 2.499 \n"
     ]
    },
    {
     "data": {
      "image/png": "[encoded data removed]",
      "text/plain": [
       "<Figure size 288x288 with 1 Axes>"
      ]
     },
     "metadata": {
      "needs_background": "light"
     },
     "output_type": "display_data"
    }
   ],
   "source": [
    "# Generate values (sample values) from a given power-law distribution\n",
    "\n",
    "# Draw the pdf and cumulative pdf\n",
    "plt.figure(figsize = (4,4), tight_layout = True)\n",
    "#plt.ylim(0.000000001, 0.2)\n",
    "#plt.xlim(10, 10000)\n",
    "plt.ylabel('Normalised Count')\n",
    "plt.xlabel('Degree')\n",
    "\n",
    "# define the parameters of the theoretical power-law distribution, i.e. x_min and exponent \\alpha \n",
    "theoretical_distribution = pw.Power_Law(xmin=5.0, parameters=[2.5])\n",
    "\n",
    "# generate 10000 samples, i.e. a sequence of 10000 degrees\n",
    "simulated_data = theoretical_distribution.generate_random(10000)\n",
    "\n",
    "# access the generated samples\n",
    "# list of the generated values (i.e. generated degrees \"k\") in the sample\n",
    "samples = list(simulated_data)\n",
    "# returns one value from the sample\n",
    "print(samples[0])\n",
    "\n",
    "# Fit a power-law to the distribution of the generated values in the sample\n",
    "# this is used to double check if the generated sample has the correct values\n",
    "fit = pw.Fit(simulated_data)\n",
    "print( \"x_min: %.3f / alpha: %.3f \"% (fit.power_law.xmin, fit.power_law.alpha) )\n",
    "\n",
    "# Plot the simulated data and the fitted data\n",
    "# plot the simulated data, i.e. coming from the sample procedure\n",
    "pw.plot_pdf(simulated_data)\n",
    "\n",
    "# plot the best power-law fit to the simulated data\n",
    "fit.power_law.plot_pdf()\n",
    "\n",
    "plt.show()\n"
   ]
  },
  {
   "cell_type": "markdown",
   "metadata": {},
   "source": [
    "<h2><b>7.</b> (2:30-2:45h) Get your hands dirty</h2>\n",
    "Similar to the previous exercise, try to first visualise and then fit the degree distribution using the methods in the package \"powerlaw\". Analyse the output and compare the fitted parameters across different networks.\n",
    "\n",
    "<ul>\n",
    "    <li> Go to: https://users.ugent.be/~lcorread/courses/week2/ </li>\n",
    "    <li> Download some network data sets, for example: </li>\n",
    "    <ul>\n",
    "        <li> Email </li>\n",
    "        <li> Phone</li>\n",
    "        <li> Collaboration </li>\n",
    "        <li> Skip the protein and metabolic networks because they are out of the scope for interpretation </li>\n",
    "        <li> Skip the actor network because it is too large </li>\n",
    "        <li> Ps: Nodes are labelled from 0 continuously. Each line contains two node labels A and B, representing either a directed link A->B or an undirected link A-B. Undirected links appear only once in the file.</li>\n",
    "    </ul>\n",
    "    <li> See more details about these networks in the lab week 2 </li>\n",
    "</ul>\n",
    "\n",
    "<h4>Proposed Analysis</h4>\n",
    "\n",
    "<ul>\n",
    "    <li> Basic analysis </li>\n",
    "    <ul>\n",
    "        <li> Plot the degree distribution of each network using the methods we just saw </li>\n",
    "        <li> Plot the cumulative degree distribution of each network </li>\n",
    "        <li> Estimate the $x_{min}$ and the exponent $\\alpha$ of each network </li>\n",
    "        <li> Would be OK to discard nodes with degree $k < x_{min}$ for your analysis? What that means? </li>\n",
    "    </ul>\n",
    "    <li> Best fit </li>\n",
    "    <ul>\n",
    "        <li> Compare the goodness of fit between the power-law and exponential, and the power-law and log-normal distributions </li>\n",
    "        <li> What does it mean that the distribution fits better to a power-law than to an exponential? </li>\n",
    "        <li> Are there any trends in the fitting parameters for different classes (social vs. technological) of networks? </li>\n",
    "        <li> Comparatively, what can you say about the degree distribution? any insights? </li>\n",
    "    </ul>\n",
    "    <li> (homework) Advanced analysis </li>\n",
    "    <ul>\n",
    "        <li> Repeat the fitting exercise and analysis for other network measures, e.g. clustering coefficient, k-cores, number of triangles </li>\n",
    "        <li> Are the exponents of the distributions the same for all networks? </li>\n",
    "        <li> Check the original paper of this module powerlaw or read online what are the other functionalities/methods available in the module </li>\n",
    "        <ul>\n",
    "            <li> Can you fix $x_{min}$ or $x_{max}$? </li>\n",
    "            <li> Can you test the power-law against other competing distributions (besides exponential and log-normal)? </li>\n",
    "        </ul>\n",
    "    </ul>\n",
    "</ul>\n"
   ]
  },
  {
   "cell_type": "code",
   "execution_count": 87,
   "metadata": {},
   "outputs": [],
   "source": [
    "# Solutions\n",
    "\n",
    "# Just copy and paste the functions using the networks that you want to analyse\n"
   ]
  },
  {
   "cell_type": "code",
   "execution_count": 88,
   "metadata": {},
   "outputs": [
    {
     "name": "stderr",
     "output_type": "stream",
     "text": [
      "Values less than or equal to 0 in data. Throwing out 0 or negative values\n",
      "Calculating best minimal value for power law fit\n",
      "/Users/luisrocha/opt/anaconda3/lib/python3.8/site-packages/powerlaw.py:699: RuntimeWarning: invalid value encountered in true_divide\n",
      "  (CDF_diff**2) /\n"
     ]
    },
    {
     "name": "stdout",
     "output_type": "stream",
     "text": [
      "x_min: 0.002 / alpha: 1.223 \n"
     ]
    },
    {
     "data": {
      "image/png": "[encoded data removed]",
      "text/plain": [
       "<Figure size 288x288 with 1 Axes>"
      ]
     },
     "metadata": {
      "needs_background": "light"
     },
     "output_type": "display_data"
    }
   ],
   "source": [
    "# Solutions\n",
    "\n",
    "# For the advanced analysis\n",
    "# Making the distribution of other network measures, for example the clustering coefficient\n",
    "\n",
    "# read the network data and create a network object\n",
    "G = nx.read_weighted_edgelist('./data/week2_email.edgelist.txt', comments = '#', create_using=nx.Graph(), nodetype = int, delimiter=',')\n",
    "\n",
    "G = nx.Graph(G)\n",
    "\n",
    "G.remove_edges_from( nx.selfloop_edges(G) )\n",
    "\n",
    "# Draw the pdf and cumulative pdf\n",
    "plt.figure(figsize = (4,4), tight_layout = True)\n",
    "plt.ylim(0.02, 0.1)\n",
    "plt.xlim(0.0001, 1.2)\n",
    "plt.ylabel('Normalised Count')\n",
    "plt.xlabel('Clustering Coefficient')\n",
    "\n",
    "# Calculate the clustering coefficient and create a dataframe\n",
    "df = pd.DataFrame.from_dict(nx.clustering(G), orient='index', columns =['clustering'])\n",
    "\n",
    "# extract the values of the clustering coefficient to a list\n",
    "cc = df.iloc[:,0].values.tolist()\n",
    "# or\n",
    "#cc = df['clustering'].values.tolist()  \n",
    "\n",
    "# Fit the power-law to data\n",
    "fit = pw.Fit(cc)\n",
    "print( \"x_min: %.3f / alpha: %.3f \"% (fit.power_law.xmin, fit.power_law.alpha) )\n",
    "\n",
    "# Draw the cumulative distribution of the clustering coefficient\n",
    "pw.plot_ccdf(cc)\n",
    "\n",
    "plt.show()\n"
   ]
  },
  {
   "cell_type": "code",
   "execution_count": 129,
   "metadata": {},
   "outputs": [],
   "source": []
  }
 ],
 "metadata": {
  "kernelspec": {
   "display_name": "Python 3",
   "language": "python",
   "name": "python3"
  },
  "language_info": {
   "codemirror_mode": {
    "name": "ipython",
    "version": 3
   },
   "file_extension": ".py",
   "mimetype": "text/x-python",
   "name": "python",
   "nbconvert_exporter": "python",
   "pygments_lexer": "ipython3",
   "version": "3.8.8"
  }
 },
 "nbformat": 4,
 "nbformat_minor": 4
}