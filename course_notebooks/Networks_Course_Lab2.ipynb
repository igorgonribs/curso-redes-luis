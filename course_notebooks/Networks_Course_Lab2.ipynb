{
 "cells": [
  {
   "cell_type": "markdown",
   "metadata": {},
   "source": [
    "<span style=\"color:red\">\n",
    "Disclaimer: Do not share this Python notebook to third parties <br>\n",
    "Atencao: Nao compartilhe esse Python notebook com outras pessoas </span>\n",
    "<h1><b>Networks in socio-economic systems </b></h1>\n",
    "<h3>Prof Luis E C Rocha - luis.rocha@ugent.be</h3>\n",
    "<h4>Dept of Economics and Dept of Physics and Astronomy</h4>\n",
    "<h4>Ghent University, Belgium</h4>\n",
    "<h4><b>Version:</b> Federal University of Uberlandia, Brazil - November 2023 </h4>\n",
    "\n",
    "<h1><b>Lab 2a: Intro to Pandas and Degree Analysis in Python</b></h1>\n",
    "\n",
    "<h3>Summary:</h3> The goal is to get a brief introduction to Pandas, a library for general data handling in Python, followed by a brief introduction to networkx package. We will also see how to create a network, add attributes to nodes, make basic degree analysis, and visualise a network.\n",
    "\n",
    "<h2><b>(0:00-1:15h) Part 1 </b></h2>\n"
   ]
  },
  {
   "cell_type": "markdown",
   "metadata": {},
   "source": [
    "<h2><b>1.</b> (0:00-0:30h) Pandas: the very basics</h2>\n",
    "\n",
    "Pandas is a module to work with data. It allows us to create and manipulate a data set more easily, pretty much like an Excel spreadsheet or an ordinary table.\n",
    "<ul>\n",
    "    <li> For more info, visit: https://pandas.pydata.org </li>\n",
    "    <li> Data files used in this class can be found on https://users.ugent.be/~lcorread/courses/week2/ </li>\n",
    "</ul>\n"
   ]
  },
  {
   "cell_type": "markdown",
   "metadata": {},
   "source": [
    "<h4><b>1.1</b> Create a pandas dataframe</h4>\n"
   ]
  },
  {
   "cell_type": "code",
   "execution_count": 4,
   "metadata": {},
   "outputs": [
    {
     "data": {
      "text/plain": [
       "[('Luis', 1981, 'Brazil'),\n",
       " ('Hans', 1988, 'Germany'),\n",
       " ('Marijke', 1968, 'Belgium'),\n",
       " ('Koen', 1970, 'Belgium'),\n",
       " ('Nele', 1990, 'France')]"
      ]
     },
     "execution_count": 4,
     "metadata": {},
     "output_type": "execute_result"
    }
   ],
   "source": [
    "# First import Pandas module\n",
    "\n",
    "import pandas as pd\n",
    "\n",
    "# Let us first create a dataframe. There are different ways of creating a dataframe\n",
    "\n",
    "# Method 1: Create a dataframe using 3 lists\n",
    "\n",
    "names = ['Luis','Hans','Marijke','Koen','Nele']\n",
    "births = [1981, 1988, 1968, 1970, 1990]\n",
    "country = ['Brazil', 'Germany', 'Belgium', 'Belgium', 'France']\n",
    "\n",
    "# combine the three lists into a single list using the built-in function \"zip\"\n",
    "PersonalData = list(zip(names, births, country))\n",
    "\n",
    "#print(PersonalData)\n",
    "PersonalData\n"
   ]
  },
  {
   "cell_type": "code",
   "execution_count": 5,
   "metadata": {},
   "outputs": [
    {
     "name": "stdout",
     "output_type": "stream",
     "text": [
      "     Names  Births  Country\n",
      "0     Luis    1981   Brazil\n",
      "1     Hans    1988  Germany\n",
      "2  Marijke    1968  Belgium\n",
      "3     Koen    1970  Belgium\n",
      "4     Nele    1990   France\n"
     ]
    }
   ],
   "source": [
    "# Create a pandas dataframe from this list (of lists). The columns option is optional\n",
    "\n",
    "df_students = pd.DataFrame(data = PersonalData, columns=['Names', 'Births', 'Country'])\n",
    "\n",
    "print(df_students)\n"
   ]
  },
  {
   "cell_type": "code",
   "execution_count": 6,
   "metadata": {},
   "outputs": [
    {
     "data": {
      "text/html": [
       "<div>\n",
       "<style scoped>\n",
       "    .dataframe tbody tr th:only-of-type {\n",
       "        vertical-align: middle;\n",
       "    }\n",
       "\n",
       "    .dataframe tbody tr th {\n",
       "        vertical-align: top;\n",
       "    }\n",
       "\n",
       "    .dataframe thead th {\n",
       "        text-align: right;\n",
       "    }\n",
       "</style>\n",
       "<table border=\"1\" class=\"dataframe\">\n",
       "  <thead>\n",
       "    <tr style=\"text-align: right;\">\n",
       "      <th></th>\n",
       "      <th>Names</th>\n",
       "      <th>Births</th>\n",
       "      <th>Country</th>\n",
       "    </tr>\n",
       "  </thead>\n",
       "  <tbody>\n",
       "    <tr>\n",
       "      <th>0</th>\n",
       "      <td>Luis</td>\n",
       "      <td>1981</td>\n",
       "      <td>Brazil</td>\n",
       "    </tr>\n",
       "    <tr>\n",
       "      <th>1</th>\n",
       "      <td>Hans</td>\n",
       "      <td>1988</td>\n",
       "      <td>Germany</td>\n",
       "    </tr>\n",
       "    <tr>\n",
       "      <th>2</th>\n",
       "      <td>Marijke</td>\n",
       "      <td>1968</td>\n",
       "      <td>Belgium</td>\n",
       "    </tr>\n",
       "    <tr>\n",
       "      <th>3</th>\n",
       "      <td>Koen</td>\n",
       "      <td>1970</td>\n",
       "      <td>Belgium</td>\n",
       "    </tr>\n",
       "    <tr>\n",
       "      <th>4</th>\n",
       "      <td>Nele</td>\n",
       "      <td>1990</td>\n",
       "      <td>France</td>\n",
       "    </tr>\n",
       "  </tbody>\n",
       "</table>\n",
       "</div>"
      ],
      "text/plain": [
       "     Names  Births  Country\n",
       "0     Luis    1981   Brazil\n",
       "1     Hans    1988  Germany\n",
       "2  Marijke    1968  Belgium\n",
       "3     Koen    1970  Belgium\n",
       "4     Nele    1990   France"
      ]
     },
     "execution_count": 6,
     "metadata": {},
     "output_type": "execute_result"
    }
   ],
   "source": [
    "# another way to show what is in your df_student dataframe\n",
    "\n",
    "df_students\n"
   ]
  },
  {
   "cell_type": "code",
   "execution_count": 7,
   "metadata": {},
   "outputs": [],
   "source": [
    "# You can save this dataframe in a .csv text file\n",
    "# index means the \"number\" (i.e. index) of the row. header means the \"header\" of the dataframe. \n",
    "# \"sep\" means how the columns will be separated in the text file\n",
    "\n",
    "df_students.to_csv('./data/week2_students.csv', index = False, header = False, sep = ',')\n",
    "\n",
    "# if you choose \"True\" above, row index and column name will also be saved\n",
    "#df_students.to_csv('./data/week2_students.csv', index = True, header = True)\n"
   ]
  },
  {
   "cell_type": "code",
   "execution_count": 8,
   "metadata": {},
   "outputs": [
    {
     "name": "stdout",
     "output_type": "stream",
     "text": [
      "   a  b  weight\n",
      "0  0  1    2.50\n",
      "1  0  2    3.00\n",
      "2  0  3    3.50\n",
      "3  0  4    1.00\n",
      "4  0  5    1.50\n",
      "5  1  3    2.00\n",
      "6  3  5    3.33\n",
      "7  4  5    1.00\n"
     ]
    }
   ],
   "source": [
    "# Method 2: Create a dataframe by reading data directly from a file\n",
    "\n",
    "# Note that in this data file, the columns are separated by a simple space\n",
    "df = pd.read_csv('./data/week2_pandas.csv', sep = ' ')\n",
    "print(df)\n"
   ]
  },
  {
   "cell_type": "code",
   "execution_count": 9,
   "metadata": {},
   "outputs": [
    {
     "name": "stdout",
     "output_type": "stream",
     "text": [
      "        country    capital    area  population\n",
      "0        Brazil   Brasilia   8.516      200.40\n",
      "1        Russia     Moscow  17.100      143.50\n",
      "2         India  New Delhi   3.286     1252.00\n",
      "3         China    Beijing   9.597     1357.00\n",
      "4  South Africa   Pretoria   1.221       52.98\n"
     ]
    }
   ],
   "source": [
    "# Method 3: Create a dictionary and then convert to a dataframe\n",
    "# A dictionary is a collection (key:value pairs) which is ordered (from Python 3.7), changeable and does not allow duplicates\n",
    "\n",
    "dict_brics = {'country': ['Brazil', 'Russia', 'India', 'China', 'South Africa'],\n",
    "              'capital': ['Brasilia', 'Moscow', 'New Delhi', 'Beijing', 'Pretoria'],\n",
    "              'area': [8.516, 17.10, 3.286, 9.597, 1.221],\n",
    "              'population': [200.4, 143.5, 1252, 1357, 52.98] }\n",
    "\n",
    "brics = pd.DataFrame(dict_brics)\n",
    "\n",
    "print(brics)\n"
   ]
  },
  {
   "cell_type": "markdown",
   "metadata": {},
   "source": [
    "<h4><b>1.2</b> Manipulate a pandas dataframe</h4>\n"
   ]
  },
  {
   "cell_type": "code",
   "execution_count": 10,
   "metadata": {},
   "outputs": [
    {
     "name": "stdout",
     "output_type": "stream",
     "text": [
      "     capital       country    area  population\n",
      "0   Brasilia        Brazil   8.516      200.40\n",
      "1     Moscow        Russia  17.100      143.50\n",
      "2  New Delhi         India   3.286     1252.00\n",
      "3    Beijing         China   9.597     1357.00\n",
      "4   Pretoria  South Africa   1.221       52.98\n"
     ]
    }
   ],
   "source": [
    "# Change the order of the columns\n",
    "\n",
    "# this routine generates a list with desired order, then, extract it from the dataframe brics AND add the result back to brics\n",
    "brics = brics[['capital', 'country', 'area', 'population']]\n",
    "\n",
    "print(brics)\n"
   ]
  },
  {
   "cell_type": "code",
   "execution_count": 11,
   "metadata": {},
   "outputs": [
    {
     "name": "stdout",
     "output_type": "stream",
     "text": [
      "     capital       country    area  population\n",
      "0   Brasilia        Brazil   8.516      200.40\n",
      "1    Beijing         China   9.597     1357.00\n",
      "2  New Delhi         India   3.286     1252.00\n",
      "3     Moscow        Russia  17.100      143.50\n",
      "4   Pretoria  South Africa   1.221       52.98\n"
     ]
    }
   ],
   "source": [
    "# Change the order of rows and reorder indexes\n",
    "\n",
    "# change the order of the rows\n",
    "brics = brics.reindex([0, 3, 2, 1, 4])\n",
    "\n",
    "# replaces the existing indexes by ordered indexes, i.e. \"resets\" the order of the indexes\n",
    "brics = brics.reset_index(drop=True)\n",
    "\n",
    "print(brics)\n"
   ]
  },
  {
   "cell_type": "code",
   "execution_count": 12,
   "metadata": {},
   "outputs": [
    {
     "name": "stdout",
     "output_type": "stream",
     "text": [
      "     capital          LAND    area      POP\n",
      "0   Brasilia        Brazil   8.516   200.40\n",
      "1    Beijing         China   9.597  1357.00\n",
      "2  New Delhi         India   3.286  1252.00\n",
      "3     Moscow        Russia  17.100   143.50\n",
      "4   Pretoria  South Africa   1.221    52.98\n"
     ]
    }
   ],
   "source": [
    "# Rename columns\n",
    "\n",
    "# rename one or more columns\n",
    "brics.rename(columns={'country': 'LAND', 'population': 'POP'}, inplace=True)\n",
    "\n",
    "print(brics)\n"
   ]
  },
  {
   "cell_type": "code",
   "execution_count": 13,
   "metadata": {},
   "outputs": [
    {
     "name": "stdout",
     "output_type": "stream",
     "text": [
      "      capital          LAND    area      POP\n",
      "BR   Brasilia        Brazil   8.516   200.40\n",
      "CH    Beijing         China   9.597  1357.00\n",
      "2   New Delhi         India   3.286  1252.00\n",
      "3      Moscow        Russia  17.100   143.50\n",
      "4    Pretoria  South Africa   1.221    52.98\n"
     ]
    }
   ],
   "source": [
    "# Rename rows\n",
    "\n",
    "# rename one or more indexes\n",
    "brics.rename(index={0: 'BR', 1: 'CH'}, inplace=True)\n",
    "\n",
    "print(brics)\n"
   ]
  },
  {
   "cell_type": "code",
   "execution_count": 14,
   "metadata": {},
   "outputs": [
    {
     "name": "stdout",
     "output_type": "stream",
     "text": [
      "     capital          LAND    area      POP\n",
      "0   Pretoria  South Africa   1.221    52.98\n",
      "1  New Delhi         India   3.286  1252.00\n",
      "2   Brasilia        Brazil   8.516   200.40\n",
      "3    Beijing         China   9.597  1357.00\n",
      "4     Moscow        Russia  17.100   143.50\n"
     ]
    }
   ],
   "source": [
    "# Order rows according to values in a specific column\n",
    "\n",
    "brics = brics.sort_values(by = ['area'])\n",
    "brics = brics.reset_index(drop = True)       # this will bring the indexes back (to replace the row label/name)\n",
    "\n",
    "print(brics)\n"
   ]
  },
  {
   "cell_type": "code",
   "execution_count": 15,
   "metadata": {},
   "outputs": [
    {
     "name": "stdout",
     "output_type": "stream",
     "text": [
      "[1.221, 3.286, 8.516, 9.597, 17.1]\n"
     ]
    }
   ],
   "source": [
    "# Convert a dataframe to a list\n",
    "\n",
    "# to convert only the column \"area\" to a list\n",
    "list1 = brics['area'].values.tolist()   # Convert only the column \"area\" to a list\n",
    "\n",
    "print(list1)\n"
   ]
  },
  {
   "cell_type": "code",
   "execution_count": 16,
   "metadata": {},
   "outputs": [
    {
     "name": "stdout",
     "output_type": "stream",
     "text": [
      "['Pretoria', 'South Africa', 1.221, 52.98]\n"
     ]
    }
   ],
   "source": [
    "# Convert the whole dataframe to a list of lists\n",
    "\n",
    "list2 = brics.values.tolist()\n",
    "\n",
    "# returns a list containing only the 1st row\n",
    "print(list2[0])\n"
   ]
  },
  {
   "cell_type": "code",
   "execution_count": 17,
   "metadata": {},
   "outputs": [
    {
     "name": "stdout",
     "output_type": "stream",
     "text": [
      "                    0          1         2        3       4\n",
      "capital      Pretoria  New Delhi  Brasilia  Beijing  Moscow\n",
      "LAND     South Africa      India    Brazil    China  Russia\n",
      "area            1.221      3.286     8.516    9.597    17.1\n",
      "POP             52.98     1252.0     200.4   1357.0   143.5\n"
     ]
    }
   ],
   "source": [
    "# Transpose a dataframe\n",
    "\n",
    "brics_transposed = brics.transpose()\n",
    "print(brics_transposed)\n"
   ]
  },
  {
   "cell_type": "code",
   "execution_count": 18,
   "metadata": {},
   "outputs": [
    {
     "name": "stdout",
     "output_type": "stream",
     "text": [
      "['Pretoria', 'New Delhi', 'Brasilia', 'Beijing', 'Moscow']\n"
     ]
    }
   ],
   "source": [
    "# Convert the whole dataframe to a list of lists\n",
    "\n",
    "list3 = brics_transposed.values.tolist()\n",
    "\n",
    "# returns a list containing only the 1st row\n",
    "# Note that this is the 1st column of the original dataframe \"brics\" because we took the transpose first\n",
    "print(list3[0])\n"
   ]
  },
  {
   "cell_type": "code",
   "execution_count": 19,
   "metadata": {},
   "outputs": [
    {
     "name": "stdout",
     "output_type": "stream",
     "text": [
      "     capital          LAND    area      POP\n",
      "0   Pretoria  South Africa   1.221    52.98\n",
      "1  New Delhi         India   3.286  1252.00\n",
      "2   Brasilia        Brazil   8.516   200.40\n",
      "3    Beijing         China   9.597  1357.00\n",
      "4     Moscow        Russia  17.100   143.50\n"
     ]
    },
    {
     "data": {
      "text/plain": [
       "['Brasilia', 'Brazil', 8.516, 200.4]"
      ]
     },
     "execution_count": 19,
     "metadata": {},
     "output_type": "execute_result"
    }
   ],
   "source": [
    "# another method to extra full rows or full columns from a dataframe\n",
    "print(brics)\n",
    "\n",
    "# return all columns of a given row as a list\n",
    "brics.iloc[2, :].values.flatten().tolist()\n",
    "\n",
    "# return all rows of a given column as a list\n",
    "#brics.iloc[:, 2].values.flatten().tolist()\n",
    "\n"
   ]
  },
  {
   "cell_type": "code",
   "execution_count": 20,
   "metadata": {},
   "outputs": [
    {
     "data": {
      "text/html": [
       "<div>\n",
       "<style scoped>\n",
       "    .dataframe tbody tr th:only-of-type {\n",
       "        vertical-align: middle;\n",
       "    }\n",
       "\n",
       "    .dataframe tbody tr th {\n",
       "        vertical-align: top;\n",
       "    }\n",
       "\n",
       "    .dataframe thead th {\n",
       "        text-align: right;\n",
       "    }\n",
       "</style>\n",
       "<table border=\"1\" class=\"dataframe\">\n",
       "  <thead>\n",
       "    <tr style=\"text-align: right;\">\n",
       "      <th></th>\n",
       "      <th>area</th>\n",
       "      <th>POP</th>\n",
       "    </tr>\n",
       "  </thead>\n",
       "  <tbody>\n",
       "    <tr>\n",
       "      <th>count</th>\n",
       "      <td>5.000000</td>\n",
       "      <td>5.000000</td>\n",
       "    </tr>\n",
       "    <tr>\n",
       "      <th>mean</th>\n",
       "      <td>7.944000</td>\n",
       "      <td>601.176000</td>\n",
       "    </tr>\n",
       "    <tr>\n",
       "      <th>std</th>\n",
       "      <td>6.200557</td>\n",
       "      <td>645.261454</td>\n",
       "    </tr>\n",
       "    <tr>\n",
       "      <th>min</th>\n",
       "      <td>1.221000</td>\n",
       "      <td>52.980000</td>\n",
       "    </tr>\n",
       "    <tr>\n",
       "      <th>25%</th>\n",
       "      <td>3.286000</td>\n",
       "      <td>143.500000</td>\n",
       "    </tr>\n",
       "    <tr>\n",
       "      <th>50%</th>\n",
       "      <td>8.516000</td>\n",
       "      <td>200.400000</td>\n",
       "    </tr>\n",
       "    <tr>\n",
       "      <th>75%</th>\n",
       "      <td>9.597000</td>\n",
       "      <td>1252.000000</td>\n",
       "    </tr>\n",
       "    <tr>\n",
       "      <th>max</th>\n",
       "      <td>17.100000</td>\n",
       "      <td>1357.000000</td>\n",
       "    </tr>\n",
       "  </tbody>\n",
       "</table>\n",
       "</div>"
      ],
      "text/plain": [
       "            area          POP\n",
       "count   5.000000     5.000000\n",
       "mean    7.944000   601.176000\n",
       "std     6.200557   645.261454\n",
       "min     1.221000    52.980000\n",
       "25%     3.286000   143.500000\n",
       "50%     8.516000   200.400000\n",
       "75%     9.597000  1252.000000\n",
       "max    17.100000  1357.000000"
      ]
     },
     "execution_count": 20,
     "metadata": {},
     "output_type": "execute_result"
    }
   ],
   "source": [
    "# Show some basic statistics\n",
    "\n",
    "# only works with numerical entries/columns\n",
    "brics.describe()\n"
   ]
  },
  {
   "cell_type": "markdown",
   "metadata": {},
   "source": [
    "<h4><b>1.3</b> Mathematical operations with dataframes</h4>\n"
   ]
  },
  {
   "cell_type": "code",
   "execution_count": 21,
   "metadata": {},
   "outputs": [
    {
     "name": "stdout",
     "output_type": "stream",
     "text": [
      "   a  b  weight\n",
      "0  0  1    2.50\n",
      "1  0  2    3.00\n",
      "2  0  3    3.50\n",
      "3  0  4    1.00\n",
      "4  0  5    1.50\n",
      "5  1  3    2.00\n",
      "6  3  5    3.33\n",
      "7  4  5    1.00\n"
     ]
    }
   ],
   "source": [
    "# Read a new file into a dataframe\n",
    "\n",
    "df = pd.read_csv('./data/week2_pandas.csv', sep=' ')\n",
    "print(df)\n"
   ]
  },
  {
   "cell_type": "code",
   "execution_count": 24,
   "metadata": {},
   "outputs": [
    {
     "name": "stdout",
     "output_type": "stream",
     "text": [
      "   b  weight\n",
      "0  1    2.50\n",
      "1  2    3.00\n",
      "2  3    3.50\n",
      "3  4    1.00\n",
      "4  5    1.50\n",
      "5  3    2.00\n",
      "6  5    3.33\n",
      "7  5    1.00\n"
     ]
    }
   ],
   "source": [
    "# Select only specific rows or columns to work\n",
    "\n",
    "# Select columns 0 and 1, and all rows\n",
    "# \"iloc\" means \"integer location\", i.e. specify the index of the column instead of the label/name\n",
    "df2 = df.iloc[:,1:3]   \n",
    "\n",
    "# Select rows 1 and 2, and all columns\n",
    "#df2 = df.iloc[0:2,:]\n",
    "\n",
    "# if you use [0:,:], all rows from 2 until the end \"0:\", and all columns \":\", are selected\n",
    "#df2 = df.iloc[2:,:]\n",
    "\n",
    "# ================== Alternative ===================\n",
    "# Select two specific columns by column label/name\n",
    "#df2 = df[['a','b']]\n",
    "\n",
    "print(df2)\n"
   ]
  },
  {
   "cell_type": "code",
   "execution_count": 23,
   "metadata": {},
   "outputs": [
    {
     "name": "stdout",
     "output_type": "stream",
     "text": [
      "   a  b  weight\n",
      "0  0  1    2.50\n",
      "1  0  2    3.00\n",
      "2  0  3    3.50\n",
      "3  0  4    1.00\n",
      "4  0  5    1.50\n",
      "5  1  3    2.00\n",
      "6  3  5    3.33\n",
      "7  4  5    1.00\n",
      "3    1.00\n",
      "7    1.00\n",
      "4    1.50\n",
      "5    2.00\n",
      "0    2.50\n",
      "1    3.00\n",
      "6    3.33\n",
      "2    3.50\n",
      "Name: weight, dtype: float64\n"
     ]
    }
   ],
   "source": [
    "# test what happens with the following routine\n",
    "\n",
    "df3 = df.iloc[:,2].sort_values()\n",
    "\n",
    "# compare with\n",
    "#df3 = df.sort_values(by = ['weight'])\n",
    "\n",
    "print(df)\n",
    "print(df3)\n"
   ]
  },
  {
   "cell_type": "code",
   "execution_count": 178,
   "metadata": {},
   "outputs": [
    {
     "data": {
      "text/plain": [
       "0    2.500000\n",
       "1    1.500000\n",
       "2    1.166667\n",
       "3    0.250000\n",
       "4    0.300000\n",
       "5    0.666667\n",
       "6    0.666000\n",
       "7    0.200000\n",
       "dtype: float64"
      ]
     },
     "execution_count": 178,
     "metadata": {},
     "output_type": "execute_result"
    }
   ],
   "source": [
    "# Make operations using the columns or the rows of the dataframe\n",
    "# you can do mathematical operations such as: +, -, *, /\n",
    "\n",
    "# division using iloc\n",
    "df.iloc[:, 2] / df.iloc[:, 1]                 # iloc -> integer location\n",
    "\n",
    "# ======= alternative ====================\n",
    "# division using the columns' name\n",
    "#df.loc[:, 'weight'] / df.loc[:, 'b']         # loc  -> label location\n",
    "#df['weight'] / df['b']                       # column name\n"
   ]
  },
  {
   "cell_type": "code",
   "execution_count": 179,
   "metadata": {},
   "outputs": [
    {
     "name": "stdout",
     "output_type": "stream",
     "text": [
      "0    3.50\n",
      "1    5.00\n",
      "2    6.50\n",
      "3    5.00\n",
      "4    6.50\n",
      "5    5.00\n",
      "6    8.33\n",
      "7    6.00\n",
      "dtype: float64\n"
     ]
    }
   ],
   "source": [
    "# Row sum: Sum all values in each row (only numerical values)\n",
    "\n",
    "print( df.iloc[:, 1:3].sum(axis = 1) )     # sum the columns of each row : axis=1 (horizontal sum) means that for each row, all x values will be summed\n"
   ]
  },
  {
   "cell_type": "code",
   "execution_count": 180,
   "metadata": {},
   "outputs": [
    {
     "name": "stdout",
     "output_type": "stream",
     "text": [
      "a          8.00\n",
      "b         28.00\n",
      "weight    17.83\n",
      "dtype: float64\n"
     ]
    }
   ],
   "source": [
    "# Column sum: Sum all values in each column (only numerical values)\n",
    "\n",
    "print( df.iloc[:, 0:3].sum(axis = 0) )     # sum the rows of each column : axis=0 (vertical sum) means that for each column, all y values will be summed\n"
   ]
  },
  {
   "cell_type": "code",
   "execution_count": 181,
   "metadata": {},
   "outputs": [
    {
     "data": {
      "text/plain": [
       "0    1.750\n",
       "1    2.500\n",
       "2    3.250\n",
       "3    2.500\n",
       "4    3.250\n",
       "5    2.500\n",
       "6    4.165\n",
       "7    3.000\n",
       "dtype: float64"
      ]
     },
     "execution_count": 181,
     "metadata": {},
     "output_type": "execute_result"
    }
   ],
   "source": [
    "# Row mean: Mean of all values in each row (only numerical)\n",
    "\n",
    "# mean using iloc\n",
    "df.iloc[:, 1:3].mean(axis = 1)             # same as before, axis=1 (horizontal) mean of all columns for each rows\n",
    "# standard deviation using iloc\n",
    "#df.iloc[:, 1:3].std(axis = 1)\n",
    "\n",
    "# ========= alternative =========================\n",
    "# mean using the columns name - 1st extract the specified columns, and then takes the mean over all columns\n",
    "#df[ ['b', 'weight'] ].mean(axis = 1)  # mean of each row\n"
   ]
  },
  {
   "cell_type": "code",
   "execution_count": 182,
   "metadata": {},
   "outputs": [
    {
     "data": {
      "text/plain": [
       "b         3.50000\n",
       "weight    2.22875\n",
       "dtype: float64"
      ]
     },
     "execution_count": 182,
     "metadata": {},
     "output_type": "execute_result"
    }
   ],
   "source": [
    "# Column mean: Mean of all values in each column (only numerical)\n",
    "\n",
    "# mean using iloc\n",
    "df.iloc[:, 1:3].mean(axis = 0)\n",
    "# standard deviation using iloc\n",
    "#df.iloc[:, 1:3].std(axis = 0)\n",
    "\n",
    "# ========= alternative =========================\n",
    "# mean using the columns name - 1st extract the specified columns, and then takes the mean over all rows\n",
    "#df[ ['b', 'weight'] ].mean(axis = 0)  # mean of each column\n"
   ]
  },
  {
   "cell_type": "code",
   "execution_count": 183,
   "metadata": {},
   "outputs": [
    {
     "data": {
      "text/html": [
       "<div>\n",
       "<style scoped>\n",
       "    .dataframe tbody tr th:only-of-type {\n",
       "        vertical-align: middle;\n",
       "    }\n",
       "\n",
       "    .dataframe tbody tr th {\n",
       "        vertical-align: top;\n",
       "    }\n",
       "\n",
       "    .dataframe thead th {\n",
       "        text-align: right;\n",
       "    }\n",
       "</style>\n",
       "<table border=\"1\" class=\"dataframe\">\n",
       "  <thead>\n",
       "    <tr style=\"text-align: right;\">\n",
       "      <th></th>\n",
       "      <th>a</th>\n",
       "      <th>b</th>\n",
       "      <th>weight</th>\n",
       "    </tr>\n",
       "  </thead>\n",
       "  <tbody>\n",
       "    <tr>\n",
       "      <th>a</th>\n",
       "      <td>1.000000</td>\n",
       "      <td>0.589256</td>\n",
       "      <td>-0.162758</td>\n",
       "    </tr>\n",
       "    <tr>\n",
       "      <th>b</th>\n",
       "      <td>0.589256</td>\n",
       "      <td>1.000000</td>\n",
       "      <td>-0.399210</td>\n",
       "    </tr>\n",
       "    <tr>\n",
       "      <th>weight</th>\n",
       "      <td>-0.162758</td>\n",
       "      <td>-0.399210</td>\n",
       "      <td>1.000000</td>\n",
       "    </tr>\n",
       "  </tbody>\n",
       "</table>\n",
       "</div>"
      ],
      "text/plain": [
       "               a         b    weight\n",
       "a       1.000000  0.589256 -0.162758\n",
       "b       0.589256  1.000000 -0.399210\n",
       "weight -0.162758 -0.399210  1.000000"
      ]
     },
     "execution_count": 183,
     "metadata": {},
     "output_type": "execute_result"
    }
   ],
   "source": [
    "# Pearson correlation between two columns\n",
    "\n",
    "df.corr(method ='pearson') # replace 'pearson' by 'spearman' for the spearman correlation\n"
   ]
  },
  {
   "cell_type": "markdown",
   "metadata": {},
   "source": [
    "<h3><b>Exercise 1:</b> Dataframe operations</h3>\n",
    "\n",
    "Read a data file in .csv format and calculate the GDP per-capita\n",
    "<ul>\n",
    "    <li> Read the file \"week2_GDP.csv\" </li>\n",
    "    <ul>\n",
    "        <li> (tip) first open the file in an editor and see the text format </li>\n",
    "    </ul>\n",
    "    <li> Calculate the GDP per-capita, $GDP_c$ </li>\n",
    "    <ul>\n",
    "        <li> Note that $GDP_c = \\dfrac{GDP}{Population}$ </li>\n",
    "    </ul>\n",
    "    <li> Add $GDP_c$ to the original dataframe </li>\n",
    "    <ul>\n",
    "        <li> (tip) use the function: \"pd.concat([df1, df2], axis = 1)\". It adds \"df2\" to \"df1\" as a new column </li>\n",
    "    </ul>\n",
    "    <li> Rank countries by $GDP_c$ </li>\n",
    "    <li> Save the new dataframe in a new file </li>\n",
    "    <li> (homework) plot $GDP_c$ vs country population $P$ </li>\n",
    "</ul>\n"
   ]
  },
  {
   "cell_type": "code",
   "execution_count": 224,
   "metadata": {},
   "outputs": [
    {
     "name": "stdout",
     "output_type": "stream",
     "text": [
      "   country             GDP  population          GDPc\n",
      "0    India   2650725335364  1338676785   1980.108541\n",
      "1    China  12237700479375  1421021791   8611.902053\n",
      "2    Japan   4872415104315   127502725  38214.203691\n",
      "3  Belgium    494763551891    11419748  43325.260057\n",
      "4  Germany   3693204332230    82658409  44680.322025\n",
      "5       US  19485394000000   325084756  59939.426997\n"
     ]
    },
    {
     "data": {
      "image/png": "[encoded data removed]",
      "text/plain": [
       "<Figure size 288x288 with 1 Axes>"
      ]
     },
     "metadata": {
      "needs_background": "light"
     },
     "output_type": "display_data"
    }
   ],
   "source": [
    "# Solution\n",
    "\n",
    "import pandas as pd\n",
    "import matplotlib.pyplot as plt\n",
    "\n",
    "# Read the file\n",
    "countries = pd.read_csv('./data/week2_GDP.csv', sep=' ')\n",
    "\n",
    "# Calculate the GDP per-capita\n",
    "df_temp = countries.loc[:,'GDP'] / countries.loc[:,'population']\n",
    "# df_temp.rename('GDPc') # -> to rename the label of the series \"df2\" : one-dimensional dataframe is called series\n",
    "\n",
    "# Concatenate (join) the dataframe df2 to df1. *Technically df2 is a series\n",
    "new_countries = pd.concat([countries, df_temp], axis = 1)#, join='inner')\n",
    "\n",
    "# Add a name to the column GDPc\n",
    "new_countries.rename(columns={0: 'GDPc'}, inplace=True)\n",
    "\n",
    "# Sort values in order of GDPc\n",
    "results = new_countries.sort_values(by = ['GDPc'])\n",
    "\n",
    "# Set the indexes in ascending order\n",
    "results.reset_index(drop = True, inplace = True)\n",
    "\n",
    "# Save the new dataframe to a file\n",
    "results.to_csv('./data/week2_GDPc.csv', index = False, header = True)\n",
    "\n",
    "print(results)\n",
    "\n",
    "# Plot the results\n",
    "# Initialise the figure environment\n",
    "plt.figure(figsize=(4,4), tight_layout=True)\n",
    "\n",
    "plt.ylabel('GDPc')\n",
    "plt.xlabel('Population (in Millions)')\n",
    "plt.plot(results.iloc[:,2]/1000000, results.iloc[:,3], 'b+')\n",
    "\n",
    "plt.show()\n"
   ]
  },
  {
   "cell_type": "markdown",
   "metadata": {},
   "source": [
    "<h2><b>2.</b> (0:30-1:15h) NetworkX: the very basics</h2>\n",
    "\n",
    "There is a variety of modules/libraries for network analysis, the most popular are:\n",
    "<ul>\n",
    "    <li> networkx - https://networkx.github.io  -> most popular but implemented in Python and thus slower than other modules for large graphs. It is OK for smaller graphs (e.g. $N < 5000-10000$, also depends on the number of links and the memory of your computer) </li>\n",
    "    <li> igraph - https://igraph.org    -> also for R</li>\n",
    "    <li> graph-tool - https://graph-tool.skewed.de </li>\n",
    "    <li> SNAP - https://snap.stanford.edu </li>\n",
    "    <li> NetworKit https://networkit.github.io </li>\n",
    "</ul>\n",
    "<ul>\n",
    "    <li> Some advanced measures are available in dedicated modules, you have to search online and install the module </li>\n",
    "    <li> We will mostly use networkx (Networkx 2.3 or above. There are some conflicts with previous versions, specially bellow 2.0). When searching for solutions online, such conflicts may be a problem so double check to which version of networkX the solution refers to </li>\n",
    "    <li> <b>updated 20.02.2023:</b> There is a new version of the package NetworkX 3.0 - I did not test it yet, it might be that some methods have changed </li>\n",
    "    <li> For more info, go to: https://networkx.github.io/documentation/stable/ </li>\n",
    "</ul>\n"
   ]
  },
  {
   "cell_type": "markdown",
   "metadata": {},
   "source": [
    "<h3>2.1. Create a graph/network</h3>\n",
    "\n",
    "- First import the networkx module\n",
    "- Create an empty graph (i.e. Python object)\n"
   ]
  },
  {
   "cell_type": "code",
   "execution_count": 25,
   "metadata": {},
   "outputs": [],
   "source": [
    "import networkx as nx\n",
    "\n",
    "Q = nx.Graph()       # undirected graph\n",
    "\n",
    "H = nx.DiGraph()     # directed graph\n",
    "\n",
    "G = nx.Graph(H)      # convert a directed graph H to an undirected graph G\n"
   ]
  },
  {
   "cell_type": "code",
   "execution_count": 26,
   "metadata": {},
   "outputs": [
    {
     "name": "stdout",
     "output_type": "stream",
     "text": [
      "0\n"
     ]
    }
   ],
   "source": [
    "# return the number of nodes of the graph\n",
    "\n",
    "print( Q.number_of_nodes() )  # The graph is empty, no nodes\n"
   ]
  },
  {
   "cell_type": "markdown",
   "metadata": {},
   "source": [
    "<h4><b>2.1.1</b> Add and remove nodes</h4>\n"
   ]
  },
  {
   "cell_type": "code",
   "execution_count": 27,
   "metadata": {},
   "outputs": [
    {
     "name": "stdout",
     "output_type": "stream",
     "text": [
      "4\n",
      "[0, 3, 2, 1]\n"
     ]
    }
   ],
   "source": [
    "# Add nodes\n",
    "\n",
    "Q.add_nodes_from([0, 3, 2, 1]) \n",
    "\n",
    "#======= alternative method ======\n",
    "# method 1\n",
    "#list_nodes = [0, 3, 2, 1]      # create a list first\n",
    "#Q.add_nodes_from(list_nodes)   # add the nodes from the list\n",
    "# method 2\n",
    "#Q.add_nodes_from(range(0, 4))  # add nodes using the buit-in function range -> this is useful if you just need to create ordered nodes\n",
    "#=================================\n",
    "\n",
    "# show the number of nodes\n",
    "print( Q.number_of_nodes() )\n",
    "\n",
    "# show the list of nodes\n",
    "print( Q.nodes() )\n"
   ]
  },
  {
   "cell_type": "code",
   "execution_count": 28,
   "metadata": {},
   "outputs": [
    {
     "name": "stdout",
     "output_type": "stream",
     "text": [
      "3\n",
      "[0, 3, 2]\n"
     ]
    }
   ],
   "source": [
    "# Remove specific node\n",
    "\n",
    "# This is the \"ID\" of the node, not the index!\n",
    "Q.remove_node(1)\n",
    "\n",
    "# Remove a list of nodes\n",
    "# you can also define a list of nodes to be removed, and add the list here\n",
    "#Q.remove_nodes_from([1,3])\n",
    "\n",
    "# show the number of nodes\n",
    "print( Q.number_of_nodes() )\n",
    "\n",
    "# show the list of nodes\n",
    "print( Q.nodes() )\n"
   ]
  },
  {
   "cell_type": "code",
   "execution_count": 189,
   "metadata": {},
   "outputs": [
    {
     "name": "stdout",
     "output_type": "stream",
     "text": [
      "0\n",
      "[]\n"
     ]
    }
   ],
   "source": [
    "# Remove all nodes of the graph\n",
    "\n",
    "Q.clear()  # it is sometimes good to use this method to make sure you don't add new nodes/links to a non-empty graph\n",
    "\n",
    "# show the number of nodes\n",
    "print( Q.number_of_nodes() )\n",
    "\n",
    "# show the list of nodes\n",
    "print( Q.nodes() )\n"
   ]
  },
  {
   "cell_type": "code",
   "execution_count": 190,
   "metadata": {},
   "outputs": [
    {
     "name": "stdout",
     "output_type": "stream",
     "text": [
      "[0, 1, 2, 3]\n"
     ]
    },
    {
     "data": {
      "text/plain": [
       "[(0,\n",
       "  {'label': 'Brazil',\n",
       "   'lat': -14.235,\n",
       "   'lng': -51.9253,\n",
       "   'viz': {'size': 40, 'color': {'r': 0, 'g': 0, 'b': 255, 'a': 0.5}}}),\n",
       " (1,\n",
       "  {'label': 'Belgium',\n",
       "   'lat': 50.5039,\n",
       "   'lng': 4.4699,\n",
       "   'viz': {'size': 40, 'color': {'r': 0, 'g': 0, 'b': 255, 'a': 0.5}}}),\n",
       " (2,\n",
       "  {'label': 'UK',\n",
       "   'lat': 55.3781,\n",
       "   'lng': -3.436,\n",
       "   'viz': {'size': 39, 'color': {'r': 0, 'g': 255, 'b': 0, 'a': 0.3}}}),\n",
       " (3,\n",
       "  {'label': 'USA',\n",
       "   'lat': 37.0902,\n",
       "   'lng': -95.7129,\n",
       "   'viz': {'size': 39.5, 'color': {'r': 255, 'g': 0, 'b': 0, 'a': 0.4}}})]"
      ]
     },
     "execution_count": 190,
     "metadata": {},
     "output_type": "execute_result"
    }
   ],
   "source": [
    "# Add attributes to nodes\n",
    "# It is important to use this pre-defined labels (label, lat, lng, r, g, etc...) because they can be understood for some other methods\n",
    "\n",
    "# create an undirected graph\n",
    "Q = nx.Graph()\n",
    "\n",
    "# You can add geographic position to nodes\n",
    "Q.add_node(0, label='Brazil', lat=-14.235, lng=-51.9253)\n",
    "Q.add_node(1, label='Belgium', lat=50.5039, lng=4.4699)\n",
    "Q.add_node(2, label='UK', lat=55.3781, lng=-3.4360)\n",
    "Q.add_node(3, label='USA', lat=37.0902, lng=-95.7129)\n",
    "###### alternative method #############\n",
    "#Q.add_node(0)\n",
    "#Q.nodes[0]['label'] = 'Brazil'\n",
    "#Q.nodes[0]['lat'] = -14.235\n",
    "#Q.nodes[0]['lng'] = -51.9253                   \n",
    "#######################################\n",
    "\n",
    "# You can use these structures to add colours to nodes\n",
    "# we generaly do not use this but I added because it is difficult to find information on how to do that (in case you need)\n",
    "Q.nodes[0]['viz'] = {'size': 40}\n",
    "Q.nodes[0]['viz']['color'] = {'r' : 0, 'g' : 0, 'b' : 255, 'a' : 0.5}\n",
    "Q.nodes[1]['viz'] = {'size': 40}\n",
    "Q.nodes[1]['viz']['color'] = {'r' : 0, 'g' : 0, 'b' : 255, 'a' : 0.5}\n",
    "Q.nodes[2]['viz'] = {'size': 39}\n",
    "Q.nodes[2]['viz']['color'] = {'r' : 0, 'g' : 255, 'b' : 0, 'a' : 0.3}\n",
    "Q.nodes[3]['viz'] = {'size': 39.5}\n",
    "Q.nodes[3]['viz']['color'] = {'r' : 255, 'g' : 0, 'b' : 0, 'a' : 0.4}\n",
    "# a: alpha -> opacity, r: red, g: green, b: blue\n",
    "\n",
    "# show the list of nodes\n",
    "print( Q.nodes() )\n",
    "\n",
    "# show the attributes of the nodes, and convert to a list for easier visualisation/manipulation\n",
    "list( Q.nodes(data = True) )\n"
   ]
  },
  {
   "cell_type": "code",
   "execution_count": 191,
   "metadata": {},
   "outputs": [
    {
     "data": {
      "text/plain": [
       "'Brazil'"
      ]
     },
     "execution_count": 191,
     "metadata": {},
     "output_type": "execute_result"
    }
   ],
   "source": [
    "# It is possible to extract the content, e.g. attribute label from node \"0\"\n",
    "\n",
    "Q.nodes[0][\"label\"]\n"
   ]
  },
  {
   "cell_type": "code",
   "execution_count": 192,
   "metadata": {},
   "outputs": [
    {
     "name": "stdout",
     "output_type": "stream",
     "text": [
      "[[1, 2], [2, 2], [3, 1]]\n"
     ]
    },
    {
     "data": {
      "text/plain": [
       "[(0, {'lat': 1, 'lng': 2}),\n",
       " (1, {'lat': 2, 'lng': 2}),\n",
       " (2, {'lat': 3, 'lng': 1})]"
      ]
     },
     "execution_count": 192,
     "metadata": {},
     "output_type": "execute_result"
    }
   ],
   "source": [
    "# Add the geographic position (x,y location) to nodes using a list of coordinates\n",
    "\n",
    "Q.clear()\n",
    "\n",
    "# This is an example of a list of coordinates x and y. Each item in the \"outer\" list (with 3 rows x 1 column) corresponds to an \"inner\" list (with 1 row x 2 columns)\n",
    "lista = [ [1,2], [2,2], [3,1] ]   \n",
    "\n",
    "# lista[0] returns the first item of the list, i.e. \"[1,2]\" while lista[0][1] returns the second value of the first item in the list, i.e. \"2\"\n",
    "# Try it!\n",
    "# print( lista[0][1] )\n",
    "\n",
    "# ======== alternative =========\n",
    "# given 3 lists, where each list has the coordinates of a given node\n",
    "#list_1 = [1,2]\n",
    "#list_2 = [2,2]\n",
    "#list_3 = [3,1]\n",
    "# Create an empty list\n",
    "#lista2 = []\n",
    "# Create List of lists\n",
    "#lista2.append(list_1)\n",
    "#lista2.append(list_2)\n",
    "#lista2.append(list_3)\n",
    "print (lista2)\n",
    "#=##============================\n",
    "\n",
    "# add 1 node and add the respective coordinates from the list \"lista\" to a graph object\n",
    "i = 0\n",
    "while i < 3:\n",
    "    # add 1 node and add the respective coordinates from lista\n",
    "    Q.add_node(i, lat=lista[i][0], lng=lista[i][1])\n",
    "    i = i + 1\n",
    "    \n",
    "# show the attributes of the nodes, and convert to a list for easier visualisation/manipulation\n",
    "list( Q.nodes(data = True) )\n"
   ]
  },
  {
   "cell_type": "markdown",
   "metadata": {},
   "source": [
    "<h4><b>2.1.2</b> Add and remove edges</h4>\n"
   ]
  },
  {
   "cell_type": "code",
   "execution_count": 193,
   "metadata": {},
   "outputs": [
    {
     "name": "stdout",
     "output_type": "stream",
     "text": [
      "3\n",
      "[1, 2, 4]\n",
      "[(1, 2), (1, 4)]\n"
     ]
    }
   ],
   "source": [
    "# Add edges on the network\n",
    "\n",
    "Q.clear()\n",
    "\n",
    "# one edge per time\n",
    "Q.add_edge(1, 2)  # edge/link (1,2)\n",
    "Q.add_edge(1, 4)  # edge/link (1,4)\n",
    "\n",
    "# show the number of nodes\n",
    "print( Q.number_of_nodes() )\n",
    "\n",
    "# show the list of nodes\n",
    "print( Q.nodes() )\n",
    "\n",
    "# show the list of edges\n",
    "print( Q.edges() )\n"
   ]
  },
  {
   "cell_type": "code",
   "execution_count": 194,
   "metadata": {},
   "outputs": [
    {
     "name": "stdout",
     "output_type": "stream",
     "text": [
      "5\n",
      "[0, 1, 2, 3, 5]\n",
      "6\n",
      "[(0, 1), (0, 2), (0, 3), (1, 2), (1, 3), (1, 5)]\n"
     ]
    }
   ],
   "source": [
    "# Add multiple edges at the same time, using a list of tuples, remember list is with \"[]\" and tuple is with \"()\"\n",
    "\n",
    "Q.clear()\n",
    "\n",
    "# Add edges from a list of tuples\n",
    "Q.add_edges_from([(0, 1), (0, 2), (1, 2), (1, 3), (1, 5), (0, 3)])\n",
    "\n",
    "# show the number and list of nodes\n",
    "print(Q.number_of_nodes())\n",
    "print(Q.nodes()) \n",
    "\n",
    "# show the number and list of edges\n",
    "print(Q.number_of_edges())\n",
    "print(Q.edges())\n"
   ]
  },
  {
   "cell_type": "code",
   "execution_count": 195,
   "metadata": {},
   "outputs": [
    {
     "name": "stdout",
     "output_type": "stream",
     "text": [
      "[(5, 1), (5, 2), (1, 2), (1, 3), (3, 0)]\n",
      "[(5, 1), (5, 2), (1, 2), (1, 3), (1, 5), (0, 3)]\n"
     ]
    }
   ],
   "source": [
    "# Add multiple edges using lists - This is a more practical/recommended way of adding edges\n",
    "\n",
    "Q.clear()\n",
    "\n",
    "# create two lists, the entries have to correspond to pairs of nodes, e.g. (5,1), (5,2), etc...\n",
    "source = [5, 5, 1, 1, 1, 0]          # list of source nodes\n",
    "destination = [1, 2, 2, 3, 5, 3]     # list of destination nodes\n",
    "\n",
    "# zip the list of source and destination nodes (i.e. creates a tupple), and then creates a new list of edges\n",
    "list_edges = list( zip(source, destination) )\n",
    "\n",
    "# Add edges from your just created list of tuples\n",
    "Q.add_edges_from(list_edges)\n",
    "\n",
    "# show the list of edges in the graph\n",
    "print( Q.edges() )                   # this prints the list of edges from the graph Q -> edges (5,1) and (1,5) appear only once because the graph in defined as undirected | to keep both edges separately, you have to create an undirected graph object\n",
    "\n",
    "# show the list of edges that you created\n",
    "print( list_edges )                  # this prints the list of edges from the list_edges -> edges (5,1) and (1,5) are repeated\n"
   ]
  },
  {
   "cell_type": "code",
   "execution_count": 196,
   "metadata": {},
   "outputs": [
    {
     "name": "stdout",
     "output_type": "stream",
     "text": [
      "[5, 2, 3]\n"
     ]
    }
   ],
   "source": [
    "# Useful method: show all neighbours (adjacent) of a node\n",
    "# Remember the \"adjacency list\" structure from the lecture?\n",
    "\n",
    "# shows all the nodes connected to node \"1\"\n",
    "print( list( Q.adj[1] ) )\n"
   ]
  },
  {
   "cell_type": "code",
   "execution_count": 197,
   "metadata": {},
   "outputs": [
    {
     "name": "stdout",
     "output_type": "stream",
     "text": [
      "5\n",
      "[5, 1, 2, 3, 0]\n",
      "4\n",
      "[(5, 1), (5, 2), (1, 2), (3, 0)]\n"
     ]
    }
   ],
   "source": [
    "# Remove a specific edge\n",
    "\n",
    "Q.remove_edge(1, 3)\n",
    "\n",
    "# show the number and list of nodes\n",
    "print(Q.number_of_nodes())\n",
    "print(Q.nodes()) \n",
    "\n",
    "# show the number and list of edges\n",
    "print(Q.number_of_edges())\n",
    "print(Q.edges())\n"
   ]
  },
  {
   "cell_type": "code",
   "execution_count": 198,
   "metadata": {},
   "outputs": [
    {
     "name": "stdout",
     "output_type": "stream",
     "text": [
      "2\n",
      "[(1, 2), (3, 0)]\n"
     ]
    }
   ],
   "source": [
    "# Remove multiple edges\n",
    "\n",
    "# with a list of tuples, it is possible to remove multiple edges at the same time \n",
    "#Q.remove_edges_from([(5, 1), (5, 2)])\n",
    "\n",
    "# We can create a list of tuples as before\n",
    "source = [5, 5]          # list of source nodes\n",
    "destination = [1, 2]     # list of destination nodes\n",
    "\n",
    "# zip source and destination and create a list of tuples: edges \"zip(source,destination)\"\n",
    "list_edges_to_remove = list(zip(source, destination))\n",
    "\n",
    "# Remove the edges\n",
    "Q.remove_edges_from(list_edges_to_remove)\n",
    "\n",
    "# show the number and list of edges\n",
    "print(Q.number_of_edges())\n",
    "print(Q.edges())\n"
   ]
  },
  {
   "cell_type": "code",
   "execution_count": 199,
   "metadata": {},
   "outputs": [
    {
     "data": {
      "text/plain": [
       "[(1, 2, {'weight': 4.2}), (2, 3, {'diameter': 5}), (3, 0, {})]"
      ]
     },
     "execution_count": 199,
     "metadata": {},
     "output_type": "execute_result"
    }
   ],
   "source": [
    "# Add single edges with atributes\n",
    "# Particularly useful to add weights to edges\n",
    "\n",
    "# Add one edge with attribute \"weight\"\n",
    "Q.add_edge(1, 2, weight = 4.2)    # CAREFUL: if using directed or undirected graphs/networks you have to add weights in the right edge\n",
    "                                  # The attribute \"weight\" is understood by other methods\n",
    "# Add one edge with attribute \"diameter\"\n",
    "Q.add_edge(3, 2, diameter = 5)\n",
    "\n",
    "# show the attributes of the edges, and convert to a list for easier visualisation/manipulation\n",
    "list( Q.edges(data = True) )\n"
   ]
  },
  {
   "cell_type": "code",
   "execution_count": 200,
   "metadata": {},
   "outputs": [
    {
     "name": "stdout",
     "output_type": "stream",
     "text": [
      "2 [(5, 1), (5, 2)]\n"
     ]
    }
   ],
   "source": [
    "# Add multiple edges with attributes\n",
    "\n",
    "# create an undirected graph\n",
    "Q = nx.Graph()\n",
    "\n",
    "# create lists of source, destination, and edge weight\n",
    "source = [5, 5]          # list of source nodes\n",
    "destination = [1, 2]     # list of destination nodes\n",
    "weights = [0.5, 0.2]     # list of weights\n",
    "\n",
    "# repeat the loop for each edge\n",
    "i = 0\n",
    "while i < len(source):\n",
    "    Q.add_edge(source[i], destination[i], weight = weights[i])\n",
    "    i += 1    # the same as i = i + 1\n",
    "\n",
    "# show the number and list of edges\n",
    "print(Q.number_of_edges(), Q.edges())\n"
   ]
  },
  {
   "cell_type": "markdown",
   "metadata": {},
   "source": [
    "<h3><b>Exercise 2:</b> Create a network</h3>\n",
    "\n",
    "- Create a graph object for the network shown in the lecture\n",
    "- Print the number of nodes, edges, and weights\n",
    "\n",
    "https://users.ugent.be/~lcorread/courses/week2/Slide_forlab_Lecture_2_Networks_social_economic_systems.pdf\n",
    "\n",
    "<img src='./figs/week2_network.png' width='600' height='500'>\n"
   ]
  },
  {
   "cell_type": "code",
   "execution_count": 29,
   "metadata": {},
   "outputs": [
    {
     "name": "stdout",
     "output_type": "stream",
     "text": [
      "5\n",
      "[(1, {}), (2, {}), (3, {}), (5, {}), (4, {})]\n",
      "6\n",
      "[(1, 2, {'weight': 9.1}), (1, 3, {'weight': 1}), (3, 5, {'weight': 5}), (5, 3, {'weight': 3}), (5, 4, {'weight': 3.4}), (4, 1, {'weight': 2.5})]\n"
     ]
    }
   ],
   "source": [
    "# Solution\n",
    "\n",
    "import networkx as nx\n",
    "\n",
    "G = nx.DiGraph()\n",
    "\n",
    "source = [1, 1, 3, 4, 5, 5]\n",
    "destination = [2, 3, 5, 1, 3, 4]\n",
    "weights = [9.1, 1, 5, 2.5, 3, 3.4]\n",
    "\n",
    "i = 0\n",
    "while i < len(source):\n",
    "    G.add_edge(source[i], destination[i], weight = weights[i])\n",
    "    i += 1    # the same as i = i + 1\n",
    "\n",
    "# show the number and list of nodes\n",
    "print(G.number_of_nodes())\n",
    "print(G.nodes(data=True))\n",
    "\n",
    "# show the number and list of edges\n",
    "print(G.number_of_edges())\n",
    "print(G.edges(data=True))\n",
    "\n",
    "# What happens if you define a graph as \"G = nx.Graph()\" instead of \"G = nx.DiGraph()\"?\n"
   ]
  },
  {
   "cell_type": "markdown",
   "metadata": {},
   "source": [
    "<h3>2.2. Save/Load the network</h3>\n"
   ]
  },
  {
   "cell_type": "code",
   "execution_count": 202,
   "metadata": {},
   "outputs": [
    {
     "name": "stdout",
     "output_type": "stream",
     "text": [
      "3\n",
      "[(5, {}), (1, {}), (2, {})]\n",
      "2\n",
      "[(5, 1, {'weight': 0.5}), (5, 2, {'weight': 0.2})]\n"
     ]
    }
   ],
   "source": [
    "# Save a graph to a file as an edge list in .csv format\n",
    "\n",
    "import networkx as nx\n",
    "\n",
    "# Create a directed graph\n",
    "H = nx.DiGraph()\n",
    "\n",
    "# create lists of source, destination, and edge weight\n",
    "source = [5, 5]          # list of source nodes\n",
    "destination = [1, 2]     # list of destination nodes\n",
    "weights = [0.5, 0.2]     # list of weights\n",
    "\n",
    "# repeat the loop for each edge\n",
    "i = 0\n",
    "while i < len(source):\n",
    "    H.add_edge(source[i], destination[i], weight = weights[i])\n",
    "    i += 1    # the same as i = i + 1\n",
    "\n",
    "# Save the graph (with the edge weights) in a file\n",
    "# Open the file to see how the network was saved\n",
    "nx.write_weighted_edgelist(H, './data/week2_first_graph.csv', delimiter=' ')#, encoding='utf-8')\n",
    "\n",
    "# show the number and list of nodes\n",
    "print(H.number_of_nodes())\n",
    "print(H.nodes(data=True))\n",
    "\n",
    "# show the number and list of edges\n",
    "print(H.number_of_edges())\n",
    "print(H.edges(data=True))\n"
   ]
  },
  {
   "cell_type": "code",
   "execution_count": 203,
   "metadata": {},
   "outputs": [
    {
     "name": "stdout",
     "output_type": "stream",
     "text": [
      "3\n",
      "[(5, {}), (1, {}), (2, {})]\n",
      "2\n",
      "[(5, 1, {'weight': 0.5}), (5, 2, {'weight': 0.2})]\n"
     ]
    }
   ],
   "source": [
    "# Load graph Q from a file with an edge list in .csv format\n",
    "\n",
    "# Clear what was in object Q, just to be sure it is empty\n",
    "Q.clear()\n",
    "\n",
    "# You must use option \"create_using=nx.DiGraph()\" otherwise it creates an undirected network\n",
    "Q = nx.read_weighted_edgelist('./data/week2_first_graph.csv', create_using=nx.DiGraph(), nodetype=int, delimiter=' ')#, encoding='utf-8')\n",
    "\n",
    "# show the number and list of nodes\n",
    "print(H.number_of_nodes())\n",
    "print(H.nodes(data=True))\n",
    "\n",
    "# show the number and list of edges\n",
    "print(H.number_of_edges())\n",
    "print(H.edges(data=True))\n"
   ]
  },
  {
   "cell_type": "code",
   "execution_count": 204,
   "metadata": {},
   "outputs": [
    {
     "name": "stdout",
     "output_type": "stream",
     "text": [
      "5\n",
      "[(0, {'label': 'Brazil', 'lat': -14.235, 'lng': -51.9253}), (1, {'label': 'Belgium', 'lat': 50.5039, 'lng': 4.4699}), (2, {'label': 'UK', 'lat': 55.3781, 'lng': -3.436}), (3, {'label': 'USA', 'lat': 37.0902, 'lng': -95.7129}), (5, {})]\n",
      "6\n",
      "[(0, 1, {}), (0, 2, {}), (0, 3, {}), (1, 2, {}), (1, 3, {}), (1, 5, {})]\n"
     ]
    }
   ],
   "source": [
    "# Save a graph in .gexf format for Gephi software (this format will be used later)\n",
    "\n",
    "# create a directed graph\n",
    "Q = nx.DiGraph()\n",
    "\n",
    "# add edges to the graph\n",
    "Q.add_edges_from([(0, 1), (0, 2), (1, 2), (1, 3), (1, 5), (0, 3)])\n",
    "\n",
    "# the code below add attributes to nodes\n",
    "Q.add_node(0, label='Brazil', lat=-14.235, lng=-51.9253)\n",
    "Q.add_node(1, label='Belgium', lat=50.5039, lng=4.4699)\n",
    "Q.add_node(2, label='UK', lat=55.3781, lng=-3.4360)\n",
    "Q.add_node(3, label='USA', lat=37.0902, lng=-95.7129)\n",
    "\n",
    "# Save the graph (with the edge weights) in a .gexf file\n",
    "nx.write_gexf(Q, './data/week2_second_graph.gexf')#, version=\"1.2draft\")\n",
    "list(Q.nodes(data=True))\n",
    "\n",
    "# show the number and list of nodes\n",
    "print(Q.number_of_nodes())\n",
    "print(Q.nodes(data=True))\n",
    "\n",
    "# show the number and list of edges\n",
    "print(Q.number_of_edges())\n",
    "print(Q.edges(data=True))\n"
   ]
  },
  {
   "cell_type": "code",
   "execution_count": 205,
   "metadata": {},
   "outputs": [],
   "source": [
    "# (trick)\n",
    "# After loading an empirical network, it is often necessary to remove multiple edges and remove self-loops because they crash several network algorithms\n",
    "\n",
    "Q = nx.Graph(Q)                                 # Remove multiple edges\n",
    "Q.remove_edges_from( nx.selfloop_edges(Q) )     # Remove self-loops\n"
   ]
  },
  {
   "cell_type": "markdown",
   "metadata": {},
   "source": [
    "<h3><b>Exercise 3:</b> Save the data</h3>\n",
    "\n",
    "- Save the network data that you have just created in an edge list format using .csv\n"
   ]
  },
  {
   "cell_type": "code",
   "execution_count": 206,
   "metadata": {},
   "outputs": [],
   "source": [
    "# Solution\n",
    "\n",
    "import networkx as nx\n",
    "\n",
    "G = nx.DiGraph()\n",
    "\n",
    "source = [1, 1, 3, 4, 5, 5]\n",
    "destination = [2, 3, 5, 1, 3, 4]\n",
    "weights = [9.1, 1, 5, 2.5, 3, 3.4]\n",
    "\n",
    "i = 0\n",
    "while i < len(source):\n",
    "    G.add_edge(source[i], destination[i], weight = weights[i])\n",
    "    i += 1    # the same as i = i + 1\n",
    "\n",
    "# open the file using a text editor to check if it is saved as expected\n",
    "nx.write_weighted_edgelist(G, './data/week2_mytestnetwork.csv', delimiter=' ')#, encoding='utf-8')\n"
   ]
  },
  {
   "cell_type": "markdown",
   "metadata": {},
   "source": [
    "<h3>2.3. Degree Analysis</h3>"
   ]
  },
  {
   "cell_type": "code",
   "execution_count": 207,
   "metadata": {},
   "outputs": [
    {
     "name": "stdout",
     "output_type": "stream",
     "text": [
      "[(0, 1, {'weight': 3}), (0, 2, {'weight': 2.4}), (0, 3, {'weight': 7}), (1, 2, {'weight': 3.5}), (1, 3, {'weight': 5}), (1, 5, {'weight': 5.5})]\n",
      "[(0, 3), (1, 4), (2, 2), (3, 2), (5, 1)]\n"
     ]
    }
   ],
   "source": [
    "# Calculate the degree of all nodes in the network\n",
    "\n",
    "# Create a simple network\n",
    "Q = nx.Graph()\n",
    "\n",
    "# This is just a quick way to create a weighted network. Use the routines shown above, instead of this one\n",
    "Q.add_edges_from([(0, 1, {'weight': 3}), (0, 2, {'weight': 2.4}), (1, 2, {'weight': 3.5}), (1, 3, {'weight': 5}), (1, 5, {'weight': 5.5}), (0, 3, {'weight': 7})])\n",
    "\n",
    "print(Q.edges(data = True))\n",
    "\n",
    "# print a list of tuples, 1st item is the node ID, 2nd item is the degree of the node\n",
    "print(nx.degree(Q))\n",
    "\n",
    "# alternative call, gives the same output\n",
    "#print(Q.degree())\n"
   ]
  },
  {
   "cell_type": "code",
   "execution_count": 208,
   "metadata": {},
   "outputs": [
    {
     "name": "stdout",
     "output_type": "stream",
     "text": [
      "[(0, 12.4), (1, 17.0), (2, 5.9), (3, 12), (5, 5.5)]\n"
     ]
    }
   ],
   "source": [
    "# for weighted networks, just specify the weights in the links using e.g. 'weights'\n",
    "# it then calculates the weighted-degree (or strength)\n",
    "# print a list of tuples, 1st item is the node ID, 2nd item is the weighted-degree of the node\n",
    "\n",
    "print(nx.degree(Q, weight='weight'))\n"
   ]
  },
  {
   "cell_type": "code",
   "execution_count": 209,
   "metadata": {},
   "outputs": [
    {
     "name": "stdout",
     "output_type": "stream",
     "text": [
      "[(0, 3), (1, 4), (2, 2), (3, 2), (5, 1)]\n",
      "[3, 4, 2, 2, 1]\n",
      "[3, 4, 2, 2, 1]\n"
     ]
    }
   ],
   "source": [
    "# Work with the node degrees\n",
    "\n",
    "# returns a list of tuples with the ID of a node and its degree\n",
    "print(nx.degree(Q))\n",
    "\n",
    "# to make a list of degrees, we can iterate the list of tuples and store the value in a new list\n",
    "list_deg_b = []\n",
    "for (node_id, value) in nx.degree(Q):\n",
    "    list_deg_b.append(value)\n",
    "    \n",
    "# this is equivalent to the so-called \"list comprehension\" in Python\n",
    "list_deg_a = [value for (node_id, value) in nx.degree(Q)]\n",
    "\n",
    "# print a list of degrees using method 1\n",
    "print(list_deg_a)\n",
    "\n",
    "# print a list of degrees using method 2\n",
    "print(list_deg_b)\n"
   ]
  },
  {
   "cell_type": "code",
   "execution_count": 210,
   "metadata": {},
   "outputs": [
    {
     "name": "stdout",
     "output_type": "stream",
     "text": [
      "[3, 4, 2, 2]\n",
      "[3, 4, 2, 2]\n"
     ]
    }
   ],
   "source": [
    "# (homework) play around with list comprehension for practice\n",
    "\n",
    "#======== list comprehension ============================\n",
    "#[ expression for item in list if conditional ]\n",
    "# - The list comprehension above is equivalent to the following routine\n",
    "#for item in list:\n",
    "#    if conditional:\n",
    "#        expression\n",
    "#========================================================\n",
    "\n",
    "#1. the routine below returns only the degree of nodes that have degree above 2\n",
    "deg_t2a = [value for (node_id, value) in nx.degree(Q) if value > 1]\n",
    "\n",
    "# The same result can be obtained by using \"if\" flow statement\n",
    "deg_t2b = []\n",
    "for (node_id, value) in nx.degree(Q):\n",
    "    if value > 1:\n",
    "        deg_t2b.append(value)\n",
    "\n",
    "print(deg_t2a)\n",
    "print(deg_t2b)\n",
    "\n",
    "#2. what happens in the following routine? \n",
    "#print( [(val, node) for (node, val) in nx.degree(Q)] )\n"
   ]
  },
  {
   "cell_type": "code",
   "execution_count": 211,
   "metadata": {},
   "outputs": [
    {
     "name": "stdout",
     "output_type": "stream",
     "text": [
      "k -tuple:  [(0, 3), (1, 4), (2, 2), (3, 2), (5, 1)]\n",
      "k -list:  [3, 4, 2, 2, 1]\n",
      "<k>: 2.4\n"
     ]
    }
   ],
   "source": [
    "# Calculate the average degree of the network\n",
    "\n",
    "# Get the degree using \"nx.degree(Q)\" and then convert to a list \"k_list\"\n",
    "\n",
    "print('k -tuple: ', nx.degree(Q))\n",
    "k_list = [value for (node_id, value) in nx.degree(Q)]\n",
    "print('k -list: ', k_list)\n",
    "\n",
    "# calculate the average degree\n",
    "print('<k>:', sum(k_list) / nx.number_of_nodes(Q) )   # sum is a build-in function for a list\n",
    "\n",
    "# what is another form to calculate the average degree of the network?\n"
   ]
  },
  {
   "cell_type": "markdown",
   "metadata": {},
   "source": [
    "<h3>2.4. Histograms</h3>"
   ]
  },
  {
   "cell_type": "code",
   "execution_count": 212,
   "metadata": {},
   "outputs": [
    {
     "name": "stdout",
     "output_type": "stream",
     "text": [
      "[0, 1, 2, 1, 1] [0, 1, 2, 3, 4]\n"
     ]
    }
   ],
   "source": [
    "# Create the degree distribution\n",
    "\n",
    "# Returns a list of the number of nodes \"h(k)\" with a certain degree \"k\"\n",
    "h_deg = nx.degree_histogram(Q)\n",
    "\n",
    "# Creates a list of degree values (from 0 to the size of h_deg) for plotting\n",
    "v_deg = list( range(0, len(h_deg)) )\n",
    "\n",
    "print(h_deg, v_deg)\n"
   ]
  },
  {
   "cell_type": "code",
   "execution_count": 213,
   "metadata": {},
   "outputs": [
    {
     "data": {
      "image/png": "[encoded data removed]",
      "text/plain": [
       "<Figure size 288x288 with 1 Axes>"
      ]
     },
     "metadata": {
      "needs_background": "light"
     },
     "output_type": "display_data"
    }
   ],
   "source": [
    "# Plot the degree distribution\n",
    "\n",
    "import matplotlib.pyplot as plt\n",
    "\n",
    "#%matplotlib inline\n",
    "\n",
    "plt.figure(figsize = (4,4), tight_layout = True)\n",
    "plt.ylabel('Non-normalised Count')\n",
    "plt.xlabel('Degree')\n",
    "\n",
    "# draw a bar plot/histogram\n",
    "plt.bar(v_deg, h_deg, width = 0.8, color = 'b')  \n",
    "\n",
    "# If you use log axes (for skewed distributions), it is better to plot dots instead\n",
    "#plt.plot(v_deg, h_deg, 'b+')                     # or 'k+' \n",
    "\n",
    "plt.show()\n"
   ]
  },
  {
   "cell_type": "code",
   "execution_count": 214,
   "metadata": {},
   "outputs": [
    {
     "data": {
      "image/png": "[encoded data removed]",
      "text/plain": [
       "<Figure size 288x288 with 1 Axes>"
      ]
     },
     "metadata": {
      "needs_background": "light"
     },
     "output_type": "display_data"
    }
   ],
   "source": [
    "# Normalise the degree distribution by the total number of nodes (to get the probability distribution) and then plot\n",
    "\n",
    "N = nx.number_of_nodes(Q)\n",
    "h_deg_n = [x / N for x in h_deg]\n",
    "\n",
    "plt.figure(figsize = (4,4), tight_layout = True)\n",
    "plt.ylabel('Normalised Count')\n",
    "plt.xlabel('Degree')\n",
    "\n",
    "plt.bar(v_deg, h_deg_n, width = 0.8, color = 'r')\n",
    "\n",
    "plt.show()\n"
   ]
  },
  {
   "cell_type": "markdown",
   "metadata": {},
   "source": [
    "<h3><b>Exercise 4:</b> Degree Distribution</h3>\n",
    "\n",
    "- Make a normalised histogram of the network you have just created (data from slides - week 2)\n",
    "- Visualise the histogram\n",
    "- Calculate the average degree and the average weighted-degree of your network\n"
   ]
  },
  {
   "cell_type": "code",
   "execution_count": 32,
   "metadata": {},
   "outputs": [
    {
     "name": "stdout",
     "output_type": "stream",
     "text": [
      "<k>: 2.0\n",
      "<s>: 7.6\n"
     ]
    },
    {
     "data": {
      "image/png": "[encoded data removed]",
      "text/plain": [
       "<Figure size 400x400 with 1 Axes>"
      ]
     },
     "metadata": {},
     "output_type": "display_data"
    }
   ],
   "source": [
    "# Solution\n",
    "\n",
    "import matplotlib.pyplot as plt\n",
    "\n",
    "# Create a simple network\n",
    "Q = nx.Graph()\n",
    "\n",
    "source = [1, 1, 3, 4, 5, 5]\n",
    "destination = [2, 3, 5, 1, 3, 4]\n",
    "weights = [9.1, 1, 5, 2.5, 3, 3.4]\n",
    "\n",
    "i = 0\n",
    "while i < len(source):\n",
    "    Q.add_edge(source[i], destination[i], weight=weights[i])\n",
    "    i += 1    # the same as i = i + 1 \n",
    "\n",
    "# calculate the number of nodes in the network\n",
    "N = nx.number_of_nodes(Q)\n",
    "\n",
    "# calculate the average degree\n",
    "k_list = [value for (node_id, value) in nx.degree(Q)]\n",
    "print('<k>:', sum(k_list) / N )\n",
    "\n",
    "# calculate the average weighted-degree/strength\n",
    "k_list_w = [value2 for (node_id, value2) in nx.degree(Q, weight='weight')]\n",
    "print('<s>:', sum(k_list_w) / N )\n",
    "\n",
    "# Returns a list of the number of nodes \"h(k)\" with a certain degree \"k\"\n",
    "h_deg = nx.degree_histogram(Q)\n",
    "\n",
    "# Creates a list of degree values (from 0 to the size of h_deg) for plotting\n",
    "v_deg = list( range(0, len(h_deg)) )\n",
    "\n",
    "h_deg_n = [x / N for x in h_deg]\n",
    "\n",
    "plt.figure(figsize = (4,4), tight_layout = True)\n",
    "plt.ylabel('Normalised Count')\n",
    "plt.xlabel('Degree')\n",
    "\n",
    "plt.bar(v_deg, h_deg_n, width = 0.8, color = 'r')\n",
    "\n",
    "plt.show()\n"
   ]
  },
  {
   "cell_type": "markdown",
   "metadata": {},
   "source": [
    "<h3>2.5. Degree and pandas</h3>"
   ]
  },
  {
   "cell_type": "code",
   "execution_count": 216,
   "metadata": {},
   "outputs": [
    {
     "name": "stdout",
     "output_type": "stream",
     "text": [
      "   node  degree\n",
      "0     1       3\n",
      "1     2       1\n",
      "2     3       2\n",
      "3     5       2\n",
      "4     4       2\n"
     ]
    }
   ],
   "source": [
    "# Using pandas, you can convert the degrees of a graph into a column of a dataframe\n",
    "\n",
    "import networkx as nx\n",
    "import pandas as pd\n",
    "\n",
    "# Create a simple network\n",
    "Q = nx.Graph()\n",
    "\n",
    "source = [1, 1, 3, 4, 5, 5]\n",
    "destination = [2, 3, 5, 1, 3, 4]\n",
    "\n",
    "i = 0\n",
    "while i < len(source):\n",
    "    Q.add_edge(source[i], destination[i])\n",
    "    i += 1    # the same as i = i + 1 \n",
    "\n",
    "# convert the degrees of graph Q into a column of the dataframe\n",
    "df0 = pd.DataFrame( nx.degree(Q), columns = ['node','degree'] )\n",
    "\n",
    "print(df0)\n"
   ]
  },
  {
   "cell_type": "code",
   "execution_count": 217,
   "metadata": {},
   "outputs": [
    {
     "name": "stdout",
     "output_type": "stream",
     "text": [
      "      degree\n",
      "node        \n",
      "1          3\n",
      "2          1\n",
      "3          2\n",
      "5          2\n",
      "4          2\n"
     ]
    }
   ],
   "source": [
    "# Make column 0 (named 'node'), that corresponds to the id of nodes, the index of the rows of the dataframe\n",
    "\n",
    "# set the values in the column \"node\" as the index of the dataframe\n",
    "df0 = df0.set_index('node')\n",
    "\n",
    "print(df0)\n"
   ]
  },
  {
   "cell_type": "code",
   "execution_count": 218,
   "metadata": {},
   "outputs": [
    {
     "name": "stdout",
     "output_type": "stream",
     "text": [
      "using pandas - <k> : 2.00\n",
      "using list comprehension - <k> : 2.00\n"
     ]
    }
   ],
   "source": [
    "# Calculate the average degree using a pandas dataframe\n",
    "\n",
    "# use the method \"mean\" Ps: .2f only indicates that this is a float number with 2 decimal digits\n",
    "print('using pandas - <k> : %.2f' % df0.mean())\n",
    "\n",
    "# compare with using list comprehension\n",
    "k = [value for (node_id, value) in nx.degree(Q)]\n",
    "print('using list comprehension - <k> : %.2f' % (sum(k) / nx.number_of_nodes(Q)) )\n"
   ]
  },
  {
   "cell_type": "code",
   "execution_count": 219,
   "metadata": {},
   "outputs": [
    {
     "name": "stdout",
     "output_type": "stream",
     "text": [
      "using pandas - <k> : 2.00\n"
     ]
    }
   ],
   "source": [
    "# alternative method to calculate average degree. specify which column will be used to calculate the mean\n",
    "\n",
    "print('using pandas - <k> : %.2f' % df0.iloc[:,0].mean(axis = 0) )\n"
   ]
  },
  {
   "cell_type": "markdown",
   "metadata": {},
   "source": [
    "<h3>2.6. Visualise a network</h3>\n"
   ]
  },
  {
   "cell_type": "code",
   "execution_count": 37,
   "metadata": {},
   "outputs": [
    {
     "data": {
      "image/png": "[encoded data removed]",
      "text/plain": [
       "<Figure size 640x480 with 1 Axes>"
      ]
     },
     "metadata": {},
     "output_type": "display_data"
    }
   ],
   "source": [
    "# This is simple network visualisation using Python\n",
    "# There are dedicated software to visualise networks that are much better than this routine\n",
    "# We will learn and use Gephi software for visualisation within a few weeks, but this routine is useful for small networks\n",
    "\n",
    "import networkx as nx\n",
    "import matplotlib.pyplot as plt\n",
    "\n",
    "#%matplotlib inline\n",
    "\n",
    "# Generate a network and add edges to the empty network\n",
    "G = nx.Graph()\n",
    "G.add_edges_from( [(0, 1), (5, 2), (1, 2), (1, 3), (1, 5), (0, 3)] )\n",
    "\n",
    "# routine to draw a network\n",
    "# pos = nx.spring_layout(G, iterations=300) -> this part uses an algorithm to generate the position of the nodes to minimise the overlap of links\n",
    "# advice: generally speaking, avoid drawing the network with labels, unless for small networks, otherwise the visual gets too cluttered (i.e. polutted)\n",
    "nx.draw(G, with_labels = False, pos = nx.spring_layout(G, iterations=300), node_size = 300)\n",
    "#nx.draw(G, with_labels = True, pos = nx.spring_layout(G, iterations=200), node_color = range(G.number_of_nodes()), node_size=300)\n",
    "\n",
    "# The method below is a shortcut to nx.draw(G, pos=nx.kamada_kawai_layout(G))\n",
    "# kamada_kawai is an alternative to spring_layout to find the optimal position of nodes on space\n",
    "# nx.draw_kamada_kawai(G)   \n",
    "\n",
    "plt.savefig('./data/week2_mygraph2.pdf', bbox_inches='tight', format='pdf', dpi = 300)\n",
    "\n",
    "#plt.show()\n",
    "\n",
    "# 16.02.2021: Do not worry about a few warning messages that might show up when you run the method \".draw\".\n",
    "# 21.02.2022: I had to update the package \"decorator\" via Anaconda environment, otherwise, I got some error messages here\n"
   ]
  },
  {
   "cell_type": "markdown",
   "metadata": {},
   "source": [
    "<h3><b>Exercise 5:</b> Simple network visualisation</h3>\n",
    "\n",
    "- Visualise the network that you have just created\n"
   ]
  },
  {
   "cell_type": "markdown",
   "metadata": {},
   "source": [
    "<h1>15 min break! </h1>\n",
    "\n",
    "<h2></b>(1:30-2:45h) Part 2 </b></h2>"
   ]
  },
  {
   "cell_type": "markdown",
   "metadata": {},
   "source": [
    "<h2><b>3.</b> (1:30-2:45h) Get your hands dirty</h2>\n",
    "<h3> Comparing Networks</h3>\n",
    "\n",
    "<ul>\n",
    "    <li> Go to: https://users.ugent.be/~lcorread/courses/UFU/ </li>\n",
    "    <ul>\n",
    "        <li> original data sets from http://networksciencebook.com/translations/en/resources/data.html </li>\n",
    "    </ul>\n",
    "    <li> Download 3 data sets </li>\n",
    "    <ul>\n",
    "        <li> Email: Email network based on traffic data collected for 112 days at University of Kiel, Germany. Each node is an email address, and there is a directed link from node A to node B, if A sent at least one email to B. Ref: Ebel, H., Mielsch, L. I., & Bornholdt, S. (2002). Scale-free topology of e-mail networks. Physical review E, 66(3), 035103. </li>\n",
    "        <li> Phone: Nodes represent a sample of cell phone users, they are connected if they have called each other at least once during the observed period. Data set contains a subset of most active users from Ref: Song, C., Qu, Z., Blumm, N., & Barabasi, A. L. (2010). Limits of predictability in human mobility. Science, 327(5968), 1018-1021 </li>\n",
    "        <li> Collaboration: Scientific collaboration network based on the arXiv preprint archive's. Each node represents an author, and two nodes are connected if they co-authored at least one paper in the dataset. Ref: Leskovec, J., Kleinberg, J., & Faloutsos, C. (2007). Graph evolution: Densification and shrinking diameters. ACM Transactions on Knowledge Discovery from Data (TKDD), 1(1), 2. </li>\n",
    "        <li> Ps: Nodes are labelled from 0 continuously. Each line contains two node labels A and B, representing either a directed link A->B or an undirected link A-B. Undirected links appear only once in the file.</li>\n",
    "    </ul>\n",
    "</ul>\n",
    "\n",
    "<h3>Proposed Analysis</h3>\n",
    "\n",
    "<ul>\n",
    "    <li> Basic analysis </li>\n",
    "    <ul>\n",
    "        <li> Briefly describe the networks </li>\n",
    "        <li> Briefly report the basic characteristics of the networks </li>\n",
    "        <li> Make the analysis considering the undirected version of the network </li>\n",
    "        <li> Visualise the degree distribution. Are there hubs? </li>\n",
    "        <li> Can you plot a reference function to fit the degree distribution? </li>\n",
    "        <li> Compare the structures of the 3 networks </li>\n",
    "        <li> Compare them with the networks shown in the lecture (see lecture slides, week 2). Any similarities or differences in the structure? </li>\n",
    "    </ul>\n",
    "    <li> Meaning </li>\n",
    "    <ul>\n",
    "        <li> What is the meaning of the degree for each of these 3 networks? </li>\n",
    "        <li> What does the degree tell you about the nodes? </li>\n",
    "        <li> What do you understand about the low-degree nodes and the hubs? </li>\n",
    "        <li> Think about potential correlations of node features/characteristics and node degree. What features would be interesting to correlate with the degree? In other words, would the degree be an indicator of some feature? </li>\n",
    "        <li> ATTENTION: Do spend some time trying to understand the meaning of the degree for each network and what are the implications of the degree. This exercise will be important in the assignment </li>\n",
    "        <li> Visualise the email network (smallest). Can you see interesting patterns of connections? </li>\n",
    "    </ul>\n",
    "    <li> Advanced analysis </li>\n",
    "    <ul>\n",
    "        <li> Are the networks direct or undirect? </li>\n",
    "        <li> Can you see differences in the measures by using the directed vs undirected versions of the networks? </li>\n",
    "        <li> Read the documentation of networkX online for methods/functions to calculate in-degree, out-degree, etc... </li>\n",
    "        <li> Make a scatter plot of the correlation between in-degree and out-degree of nodes. What is the meaning of the result? </li>\n",
    "        <li> Make a plot of the degree of a node vs the average degree of its neighbours. Is there assortativity? </li>\n",
    "    </ul>\n",
    "</ul>\n"
   ]
  },
  {
   "cell_type": "code",
   "execution_count": 13,
   "metadata": {},
   "outputs": [
    {
     "name": "stdout",
     "output_type": "stream",
     "text": [
      "no. nodes:  448817\n",
      "no. edges:  4684881\n",
      "avg. degree: 20.8766\n"
     ]
    },
    {
     "data": {
      "image/png": "[encoded data removed]",
      "text/plain": [
       "<Figure size 432x288 with 1 Axes>"
      ]
     },
     "metadata": {
      "needs_background": "light"
     },
     "output_type": "display_data"
    }
   ],
   "source": [
    "# Solution\n",
    "\n",
    "# the email network is small (relatively few nodes)\n",
    "# collaboration is a bit larger\n",
    "# phone calls is a bit larger\n",
    "# citation is large\n",
    "# actors is very large\n",
    "\n",
    "import networkx as nx\n",
    "import matplotlib.pyplot as plt\n",
    "\n",
    "# First read the network from file - this format is edge list\n",
    "#G = nx.read_weighted_edgelist('./data/week2_citation.edgelist.txt', comments = '#', nodetype = int, delimiter=',')#, encoding='utf-8')\n",
    "G = nx.read_weighted_edgelist('./data/week2_email.edgelist.txt', comments = '#', nodetype = int, delimiter=' ')#, encoding='utf-8')\n",
    "\n",
    "# REMOVE MULTIPLE EDGES AND SELF-LOOPS\n",
    "\n",
    "G = nx.Graph(G)                                 # Remove multiple edges\n",
    "G.remove_edges_from( nx.selfloop_edges(G) )     # Remove self-loops\n",
    "#nx.is_directed(G)                              # Check if the network is directed *Attention: The result is always negative, why?  Because few rows above, I created an undirected graph object! For directed network, create a directed graph object using DiGraph...\n",
    "\n",
    "# print network size\n",
    "N = nx.number_of_nodes(G)\n",
    "E = nx.number_of_edges(G)\n",
    "print('no. nodes: ', N)\n",
    "print('no. edges: ', E)\n",
    "\n",
    "# calculate the average degree\n",
    "k_list = [val for (node, val) in nx.degree(G)]  # make a list \"k_list\" of degrees for all nodes\n",
    "print('avg. degree: %.4f'% (sum(k_list)/N) )    # calculate the average degree of the network\n",
    "\n",
    "# Make the histogram of degree, i.e. the number of nodes with a certain degree\n",
    "h_deg = nx.degree_histogram(G)       # calculate the degree histogram\n",
    "h_deg_n = [x / N for x in h_deg]     # normalise the histogram to make a pdf\n",
    "v_deg = list( range(0,len(h_deg) ))  # create a list of degree values, from 0 to len(h_deg)\n",
    "\n",
    "# Draw the histogram, using log-scale on the axes (why? try without log-scale)\n",
    "plt.title('Email network')\n",
    "plt.ylabel('Normalised Count')\n",
    "plt.xlabel('Degree')\n",
    "plt.yscale('log')\n",
    "plt.xscale('log')\n",
    "#plt.bar(v_deg, h_deg_n, width=0.8, color='b')  # this plot using \"bars\", but \"bars\" are not good when using log-scale in the axes - DO NOT USE IT UNLESS THE HISTOGRAM IS SMALL!\n",
    "plt.plot(v_deg, h_deg_n, 'b+')\n",
    "\n",
    "# Draw an eye-guide curve. In this case a power-law with exponent 1.8\n",
    "list_x = list( range(1,1000) )                    # Create the values for the x-axis and convert to a list\n",
    "list_y = list( [ 1/(i**1.8) for i in list_x ] )   # Create the values for the y-axis and convert to a list:\n",
    "                                                  # this code is called \"list comprehension\" [ 1/(i**1.8) for i in list_x ] -> for each item \"i\" in the list \"list_x\", the output is \"1/(i**1.8)\"\n",
    "plt.plot(list_x, list_y, 'r--')\n",
    "\n",
    "plt.show()\n"
   ]
  },
  {
   "cell_type": "code",
   "execution_count": null,
   "metadata": {},
   "outputs": [],
   "source": [
    "# Solution\n",
    "\n",
    "# tip: Analyse in-degree vs. out-degree distributions\n",
    "\n",
    "import networkx as np\n",
    "\n",
    "G.clear()\n",
    "\n",
    "G = nx.read_weighted_edgelist('./data/week2_citation.edgelist.txt', comments = '#', create_using=nx.DiGraph(), nodetype = int, delimiter=',')#, encoding='utf-8')\n",
    "\n",
    "# generates a list of in-degree\n",
    "k_in = [val for (node, val) in G.in_degree()]\n",
    "\n",
    "# generates a list of out-degree\n",
    "k_out = [val for (node, val) in G.out_degree()]\n",
    "\n",
    "# Try to plot the in-degree vs the out-degree distributions and compare. Any differences?\n"
   ]
  }
 ],
 "metadata": {
  "kernelspec": {
   "display_name": "Python 3",
   "language": "python",
   "name": "python3"
  },
  "language_info": {
   "codemirror_mode": {
    "name": "ipython",
    "version": 3
   },
   "file_extension": ".py",
   "mimetype": "text/x-python",
   "name": "python",
   "nbconvert_exporter": "python",
   "pygments_lexer": "ipython3",
   "version": "3.10.13"
  }
 },
 "nbformat": 4,
 "nbformat_minor": 4
}
