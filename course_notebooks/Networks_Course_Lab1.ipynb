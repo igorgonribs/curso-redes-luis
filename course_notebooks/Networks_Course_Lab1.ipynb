{
 "cells": [
  {
   "cell_type": "markdown",
   "metadata": {},
   "source": [
    "<span style=\"color:red\">\n",
    "Disclaimer: Do not share this Python notebook to third parties <br>\n",
    "Atencao: Nao compartilhe esse Python notebook com outras pessoas </span>\n",
    "<h1><b>Networks in socio-economic systems </b></h1>\n",
    "<h3>Prof Luis E C Rocha - luis.rocha@ugent.be</h3>\n",
    "<h4>Dept of Economics and Dept of Physics and Astronomy</h4>\n",
    "<h4>Ghent University, Belgium</h4>\n",
    "<h4><b>Version:</b> Federal University of Uberlandia, Brazil - November 2023 </h4>\n",
    "\n",
    "<h1><b>Lab 1: Intro to Python</b></h1>\n",
    "\n",
    "<h3>Summary:</h3> The goal of this lab is a brief introduction to the jupyter notebook and the python programming language, including basic variables, structures, functions, methods, and flow statements.\n",
    "\n",
    "<h2><b>(0:00-1:15h) Part 1 </b></h2>\n"
   ]
  },
  {
   "cell_type": "markdown",
   "metadata": {},
   "source": [
    "<h2><b>1.</b> (0:00-0:20h) Anaconda</h2>\n",
    "\n",
    "\n",
    "There are different programming languages to work with Networks. I mostly use C/C++ but Python (and sometimes R) became very popular in recent years, especially because it can be used for data science projects, statistics, and other modelling tasks. In this course, we will mostly use Python.\n",
    "<br><br>\n",
    "One common way to use Python is by installing the Anaconda package and using JupyterLab (or Jupyter notebook). Anaconda is a friendly interface to install and manage Python packages, and have other functionalities (apps) besides the JupyterLab.\n",
    "\n",
    "<ul>\n",
    "    <li> Go to https://anaconda.org and install anaconda in your laptop</li>\n",
    "    <li> Open Anaconda: </li>\n",
    "    <ul>\n",
    "        <li> In environments (left menu), we can choose which modules (or packages/libraries) to install</li>\n",
    "        <li> Some useful modules: networkx, igraph, pandas, numpy, matplotlib </li>\n",
    "        <li> Install these modules </li>\n",
    "    </ul>\n",
    "    <li> Anaconda cloud: </li>\n",
    "    <ul>\n",
    "        <li> Freely register on Anaconda cloud to store and manage your projects in the cloud </li>\n",
    "    </ul>\n",
    "    <li> For editing and running codes: </li>\n",
    "    <ul>\n",
    "        <li> JupyterLab -> my preference </li>\n",
    "        <li> Jupyter notebook -> still popular but will be eventually replaced by JupyterLab </li>\n",
    "        <li> For more info: https://towardsdatascience.com/jupyter-lab-evolution-of-the-jupyter-notebook-5297cacde6b </li>\n",
    "    </ul>\n",
    "</ul>\n",
    "\n",
    "<ul>\n",
    "    <li> Open Jupyterlab </li>\n",
    "    <ul>\n",
    "        <li> Your folders and files appear on the menu on the left </li>\n",
    "        <ul>\n",
    "            <li> make sure you create a folder \"Complexity_Course\" and inside this folder create a new folder for each project, e.g. \"Project 1\" </li>\n",
    "        </ul>\n",
    "        <li> You can open different types of files </li>\n",
    "        <ul>\n",
    "            <li> command line, text file, console (shift+enter to run), or the notebook </li>\n",
    "        </ul>\n",
    "            <li> You can create a Python notebook </li>\n",
    "        <ul>\n",
    "            <li> write codes or add information on the notebook </li>\n",
    "            <li> there are two types of cells: Markdown language and Python code </li>\n",
    "            <li> you can select the type of cell on top of the main screen (this one!) </li>\n",
    "        </ul>   \n",
    "    </ul>\n",
    "</ul>"
   ]
  },
  {
   "cell_type": "markdown",
   "metadata": {},
   "source": [
    "<h2><b>2.</b> (0:25-0:30h) Markdown language: the very basics</h2>\n",
    "\n",
    "<ul>\n",
    "    <li> Markdown language is useful to document code and write brief reports on JupyterLab </li>\n",
    "    <li> Do not bother to learn this deeply, but if you like it, for more details, check www.markdownguide.org/basic-syntax/ </li>\n",
    "</ul>\n",
    "<ul>\n",
    "    <li> Basic usage </li>\n",
    "    <ul>\n",
    "        <li> Choose a cell with type \"Markdown\", type some text and run </li>\n",
    "        <li> Basic formating </li>\n",
    "        <ul>\n",
    "            <li> For headings, use #, ##, ### </li>\n",
    "            <li> For Italic and bold, use * and ** </li>\n",
    "            <li> # and ## need 1 space to work, e.g. ``# Title'' </li>\n",
    "        </ul>\n",
    "        <li> Latex code </li>\n",
    "        <ul>\n",
    "            <li> $f(x) = B e^{\\alpha x}$ </li>\n",
    "        </ul>\n",
    "        <li> HTML can be also used </li>\n",
    "        <li> If you give 2 tab spaces, the code is shown, otherwise, the HTML code is run! </li>\n",
    "    </ul>\n",
    "</ul>\n",
    "\n",
    "        <a href='#section'><h2>1. First Section</h2></a>\n",
    "        <a name='section'></a><h2>1. First Section</h2>\n"
   ]
  },
  {
   "cell_type": "markdown",
   "metadata": {},
   "source": [
    "<h3><b>Exercise 1:</b>Markdown language</h3>\n",
    "\n",
    "- Try to write some text with formatting in your own notebook"
   ]
  },
  {
   "cell_type": "markdown",
   "metadata": {},
   "source": [
    "<h2><b>3.</b> (0:30-1:15h) Python: the very basics</h2>\n",
    "\n",
    "\n",
    "<h3>3.1. Coding and Running</h3>\n",
    "\n",
    "- The traditional way of using Python is to create a simple text file (non-formatted) with the extension \".py\" , e.g. \"MyFirstCode.py\"\n",
    "\n",
    "        ------------------------------\n",
    "        #!/usr/bin/python\n",
    "\n",
    "        def main():\n",
    "\n",
    "            print(\"Hello, Python!\")\n",
    "\n",
    "        if __name__ == '__main__':\n",
    "            main()\n",
    "        ------------------------------\n",
    "\n",
    "- You can run this code via command line by typing \"python test.py\"\n",
    "\n",
    "    - or, in Unix-based systems (Mac, Linux), we can change the permission of the file to make it executable \n",
    "\n",
    "        chmod +x test.py\n",
    "        \n",
    "    - Then run the code in the command line by typing\n",
    "        \n",
    "        ./test.py\n",
    "    \n",
    "    - You can also open python using\n",
    "    \n",
    "        python\n",
    "\n",
    "- Another way of using Python is with JupyterLab or JupyterNotebook. Remember to choose the type of cell \"Code\" and not \"Markdown\".\n"
   ]
  },
  {
   "cell_type": "markdown",
   "metadata": {},
   "source": [
    "<h3>3.2. Variables</h3>\n",
    "\n",
    "- They can have different types, most important are numerical (float and integer), boolean, and string\n"
   ]
  },
  {
   "cell_type": "code",
   "execution_count": 29,
   "metadata": {},
   "outputs": [
    {
     "name": "stdout",
     "output_type": "stream",
     "text": [
      "3\n"
     ]
    }
   ],
   "source": [
    "# Numerical variables\n",
    "# integer and float\n",
    "# basic operations: + (addition) , - (subtraction) , / (division), * (multiplication) , ** (power) , % (rest of a division)\n",
    "\n",
    "a = 1\n",
    "b = 2\n",
    "c = a + b\n",
    "\n",
    "# \"print()\" is a build-in function\n",
    "# this function prints the content of the variable\n",
    "print(c)       \n"
   ]
  },
  {
   "cell_type": "code",
   "execution_count": 30,
   "metadata": {},
   "outputs": [
    {
     "data": {
      "text/plain": [
       "3"
      ]
     },
     "execution_count": 30,
     "metadata": {},
     "output_type": "execute_result"
    }
   ],
   "source": [
    "c"
   ]
  },
  {
   "cell_type": "code",
   "execution_count": 31,
   "metadata": {},
   "outputs": [
    {
     "name": "stdout",
     "output_type": "stream",
     "text": [
      "False\n",
      "False\n"
     ]
    }
   ],
   "source": [
    "# Boolean variables\n",
    "# \"True\" and \"False\" -> these are keywords\n",
    "# basic operations: >= , != , > , == , < , <=\n",
    "        \n",
    "a = 10\n",
    "b = 20\n",
    "c = (a == b)\n",
    "print(a == b)\n",
    "print(c)\n"
   ]
  },
  {
   "cell_type": "code",
   "execution_count": 32,
   "metadata": {},
   "outputs": [
    {
     "data": {
      "text/plain": [
       "False"
      ]
     },
     "execution_count": 32,
     "metadata": {},
     "output_type": "execute_result"
    }
   ],
   "source": [
    "c"
   ]
  },
  {
   "cell_type": "code",
   "execution_count": 33,
   "metadata": {},
   "outputs": [
    {
     "name": "stdout",
     "output_type": "stream",
     "text": [
      "luisenrique\n",
      "My voorname is luis enrique\n",
      "My gekvoorname is luis40enrique\n"
     ]
    }
   ],
   "source": [
    "# String variable\n",
    "# use single quote ' or double quotes \"\n",
    "    \n",
    "name_1 = 'luis'\n",
    "# or\n",
    "# name_1 = \"luis\" \n",
    "name_2 = 'enrique'\n",
    "\n",
    "names = name_1 + name_2\n",
    "first_name = name_1 + \" \" + name_2\n",
    "\n",
    "print(names)\n",
    "print('My voorname is %s' % first_name)\n",
    "# or \n",
    "# print('My voorname is', first_name)\n",
    "\n",
    "# \"str()\" is a build-in function\n",
    "# this function converts a number to a string\n",
    "gek_name = name_1+str(40)+name_2\n",
    "\n",
    "print('My gekvoorname is %s' % gek_name)\n"
   ]
  },
  {
   "cell_type": "code",
   "execution_count": 34,
   "metadata": {},
   "outputs": [
    {
     "name": "stdout",
     "output_type": "stream",
     "text": [
      "luis enrique works in the office no. 20.\n"
     ]
    }
   ],
   "source": [
    "# keywords to specify the type of variable when printing: %s, %d, %f, %.2f\n",
    "# tupple -> \"(first_name, b)\" to use when printing multiple variables\n",
    "\n",
    "print('%s works in the office no. %d.' % (first_name, b))      \n"
   ]
  },
  {
   "cell_type": "code",
   "execution_count": 35,
   "metadata": {},
   "outputs": [
    {
     "name": "stdout",
     "output_type": "stream",
     "text": [
      "('apple', 'banana', 'cherry')\n"
     ]
    }
   ],
   "source": [
    "# A tuple is a collection of values which is ordered and unchangeable, e.g. \n",
    "\n",
    "fruit_tuple = ('apple', 'banana', 'cherry')\n",
    "print(fruit_tuple)  \n",
    "     "
   ]
  },
  {
   "cell_type": "code",
   "execution_count": 36,
   "metadata": {},
   "outputs": [
    {
     "name": "stdout",
     "output_type": "stream",
     "text": [
      "C:\\some\n",
      "ame\n",
      "C:\\some\\name\n"
     ]
    }
   ],
   "source": [
    "# Careful: \"\\n\" means newline!\n",
    "# Use \"r\" to specify that \"\\\" is not a breakline sign\n",
    "    \n",
    "print('C:\\some\\name')\n",
    "print(r'C:\\some\\name')\n"
   ]
  },
  {
   "cell_type": "code",
   "execution_count": 37,
   "metadata": {},
   "outputs": [
    {
     "name": "stdout",
     "output_type": "stream",
     "text": [
      "l\n",
      "40\n",
      "enrique\n",
      "7\n"
     ]
    }
   ],
   "source": [
    "# A string is an array (or vector) of characters\n",
    "\n",
    "# the first index of this array is \"0\" (zero)\n",
    "first_character = name_1[0]\n",
    "\n",
    "print(first_character)\n",
    "\n",
    "# it is possible to retrieve a slice of the string\n",
    "# in the example below, from position 4 to 6 where 6 is not included\n",
    "\n",
    "gek_part = gek_name[4:6]\n",
    "print(gek_part)\n",
    "\n",
    "# in the example below, from position 6 to the end of the string\n",
    "last_part = gek_name[6:]\n",
    "print(last_part)\n",
    "\n",
    "# \"len()\" is a build-in function\n",
    "# this function returns the length of the string array\n",
    "print(len(last_part))\n"
   ]
  },
  {
   "cell_type": "markdown",
   "metadata": {},
   "source": [
    "<h3><b>Exercise 2:</b> Using variables</h3>\n",
    "\n",
    "Using the routines above:\n",
    "<ul>\n",
    "    <li> Calculate the power of your name using base 2. E.g. for \"Luis\" -> $2^4$ </li>\n",
    "    <li> Create a string containing an email that is your name plus an underline plus the result of the calculation plus @ugent.be, e.g. luis_16@ugent.be </li>\n",
    "    <li> print the text \"This is my alternative email: luis_16@ugent.be\" </li>\n",
    "    <li> Extract the number from your alternative email and print it </li>\n",
    "</ul>\n"
   ]
  },
  {
   "cell_type": "code",
   "execution_count": 38,
   "metadata": {},
   "outputs": [
    {
     "name": "stdout",
     "output_type": "stream",
     "text": [
      "This is my alternative email: luis_16@ugent.be\n",
      "16\n"
     ]
    }
   ],
   "source": [
    "# Solution\n",
    "\n",
    "name = \"luis\"\n",
    "size = 2**len(name)\n",
    "domain = \"@ugent.be\"\n",
    "\n",
    "email =  name + \"_\" + str(size) + domain\n",
    "\n",
    "print(\"This is my alternative email: %s\" % email)\n",
    "\n",
    "number = email[5:7]\n",
    "print(number)\n"
   ]
  },
  {
   "cell_type": "markdown",
   "metadata": {},
   "source": [
    "<h3>3.3. Functions</h3>\n",
    "\n",
    "<ul>\n",
    "    <li> Python has build-in functions </li>\n",
    "    <li> We can also define our own functions </li>\n",
    "    <li> Useful to recycle code, also helps to make a structured/organised code </li>\n",
    "</ul>\n"
   ]
  },
  {
   "cell_type": "code",
   "execution_count": 39,
   "metadata": {},
   "outputs": [
    {
     "name": "stdout",
     "output_type": "stream",
     "text": [
      "This is my first function\n"
     ]
    }
   ],
   "source": [
    "# This is how to define a function\n",
    "\n",
    "def My_first_function():\n",
    "    print('This is my first function')\n",
    "\n",
    "# This is how to call the function above\n",
    "My_first_function()\n"
   ]
  },
  {
   "cell_type": "code",
   "execution_count": 40,
   "metadata": {},
   "outputs": [
    {
     "name": "stdout",
     "output_type": "stream",
     "text": [
      "My name is Luis \n",
      "I am 15 years old\n"
     ]
    }
   ],
   "source": [
    "# In this case, the function receives an \"input\" as a string, to be used inside the function\n",
    "\n",
    "def My_second_function(name):\n",
    "    print('My name is %s ' % name)\n",
    "# or  print(\"My name is \" + name)\n",
    "\n",
    "My_second_function('Luis')\n",
    "\n",
    "# In this case, the function receives an \"input\" as a number, to be used for an internal calculation\n",
    "def My_third_function(x):\n",
    "    return(5*x)\n",
    "\n",
    "print('I am %s years old' % My_third_function(3))\n"
   ]
  },
  {
   "cell_type": "markdown",
   "metadata": {},
   "source": [
    "<h3><b>Exercise 3:</b> Create functions</h3>\n",
    "\n",
    "Make 3 functions:\n",
    "<ul>\n",
    "    <li> function 1: Generate the alternative email from the previous exercise </li>\n",
    "    <li> function 2: Extract the number from your alternative email </li>\n",
    "    <li> function 3: Print the two versions of your email, with and without a number </li>\n",
    "</ul>\n",
    "* You MUST use previous calculations and data, i.e. the input of one function should be the output of the other function\n"
   ]
  },
  {
   "cell_type": "code",
   "execution_count": 41,
   "metadata": {},
   "outputs": [
    {
     "name": "stdout",
     "output_type": "stream",
     "text": [
      "Strange number: 16\n",
      "This is the numbered email: luis_16@ugent.be\n",
      "This is the correct email: luis@ugent.be\n"
     ]
    }
   ],
   "source": [
    "# Solution\n",
    "\n",
    "# define the functions\n",
    "def function_1(name):\n",
    "\n",
    "    size = 2**len(name)\n",
    "    domain = \"@ugent.be\"\n",
    "    email =  name + \"_\" + str(size) + domain\n",
    "    return(email)\n",
    "    \n",
    "def function_2(omail):\n",
    "    number = omail[5:7]\n",
    "    print(\"Strange number: %d\" % int(number))\n",
    "    \n",
    "def function_3(imail):\n",
    "    print(\"This is the numbered email: %s\" % imail)\n",
    "    imail_correct = imail[0:4] + imail[7:16]\n",
    "    print(\"This is the correct email: %s\" % imail_correct)\n",
    "\n",
    "# use the functions\n",
    "name = \"luis\"\n",
    "temp1 = function_1(name)\n",
    "function_2(temp1)\n",
    "function_3(temp1)\n"
   ]
  },
  {
   "cell_type": "markdown",
   "metadata": {},
   "source": [
    "<h3>3.4. Objects</h3>\n",
    "\n",
    "<ul>\n",
    "    <li> Objects are an encapsulation of variables and methods into a single entity (i.e. structure) </li>\n",
    "    <li> A method is like a function above that belongs to an object </li>\n",
    "</ul>\n"
   ]
  },
  {
   "cell_type": "code",
   "execution_count": 42,
   "metadata": {},
   "outputs": [
    {
     "name": "stdout",
     "output_type": "stream",
     "text": [
      "This is a variable inside My_First_Class!\n",
      "This is a method inside the same class, i.e. My_First_Class!\n"
     ]
    }
   ],
   "source": [
    "# This is how to define a class\n",
    "\n",
    "class My_First_Class:\n",
    "    variable_1 = 'This is a variable inside My_First_Class!'\n",
    "\n",
    "    def My_first_method(self):\n",
    "        print('This is a method inside the same class, i.e. My_First_Class!')\n",
    "\n",
    "# this is to initialise an object of the class above\n",
    "my_object = My_First_Class()\n",
    "\n",
    "# this prints \"variable_1\" from \"my_object\"\n",
    "print(my_object.variable_1)\n",
    "\n",
    "# this calls the method/function \"My_first_method()\" associated to object \"my_object\"\n",
    "my_object.My_first_method()\n"
   ]
  },
  {
   "cell_type": "markdown",
   "metadata": {},
   "source": [
    "<h3>3.4. Lists</h3>\n",
    "\n",
    "- Used to group together values\n",
    "- Comma-separated values (items) between square brackets\n",
    "- Might contain items of different types\n",
    "- Native Python does not have built-in support for arrays/vectors, can use lists instead\n"
   ]
  },
  {
   "cell_type": "code",
   "execution_count": 43,
   "metadata": {},
   "outputs": [
    {
     "name": "stdout",
     "output_type": "stream",
     "text": [
      "[1, 10, 100, 20, 'luis', 50.5]\n"
     ]
    }
   ],
   "source": [
    "# to manually define a list with 6 items\n",
    "my_first_list = [1, 10, 100, 20, 'luis', 50.5]\n",
    "\n",
    "print(my_first_list)\n"
   ]
  },
  {
   "cell_type": "code",
   "execution_count": 44,
   "metadata": {},
   "outputs": [
    {
     "name": "stdout",
     "output_type": "stream",
     "text": [
      "6\n"
     ]
    }
   ],
   "source": [
    "# \"len\" is a build-in function\n",
    "# this function returns the length of the string array\n",
    "# it was used above with strings\n",
    "\n",
    "print( len(my_first_list) )\n"
   ]
  },
  {
   "cell_type": "code",
   "execution_count": 45,
   "metadata": {},
   "outputs": [
    {
     "name": "stdout",
     "output_type": "stream",
     "text": [
      "1\n",
      "-1\n"
     ]
    }
   ],
   "source": [
    "# To access a single item of the list, e.g. the first item of the list\n",
    "print(my_first_list[0])\n",
    "\n",
    "# A list item can be replaced\n",
    "my_first_list[0] = -1\n",
    "\n",
    "print(my_first_list[0])\n"
   ]
  },
  {
   "cell_type": "code",
   "execution_count": 46,
   "metadata": {},
   "outputs": [
    {
     "name": "stdout",
     "output_type": "stream",
     "text": [
      "['apple']\n",
      "['apple', 'watermelow']\n",
      "['apple', 'watermelow', 'banana']\n",
      "apple watermelow\n"
     ]
    }
   ],
   "source": [
    "# A list is an object, thus there are methods associated to list objects that can be used to manipulate the list\n",
    "\n",
    "# to initialise an empty list\n",
    "my_second_list = []\n",
    "\n",
    "# to append an item to the list\n",
    "my_second_list.append('apple')\n",
    "print(my_second_list)\n",
    "\n",
    "my_second_list.append('watermelow')\n",
    "print(my_second_list)\n",
    "\n",
    "my_second_list.append('banana')\n",
    "print(my_second_list)\n",
    "\n",
    "# to extract and print the minimum and maximum value of a list\n",
    "# it works with numbers and strings (in this case using the alphabet order)\n",
    "print( min(my_second_list), max(my_second_list))\n"
   ]
  },
  {
   "cell_type": "code",
   "execution_count": 47,
   "metadata": {},
   "outputs": [
    {
     "name": "stdout",
     "output_type": "stream",
     "text": [
      "['apple', 'watermelow']\n"
     ]
    }
   ],
   "source": [
    "# to remove the last item of a list\n",
    "my_second_list.pop()\n",
    "\n",
    "print(my_second_list)\n"
   ]
  },
  {
   "cell_type": "code",
   "execution_count": 48,
   "metadata": {},
   "outputs": [
    {
     "name": "stdout",
     "output_type": "stream",
     "text": [
      "['apple', 'watermelow', 'banana']\n",
      "['apple', 'watermelow', 'orange', 'banana']\n"
     ]
    }
   ],
   "source": [
    "# to generate a new list\n",
    "my_second_list = ['apple', 'watermelow', 'banana']\n",
    "\n",
    "print(my_second_list)\n",
    "\n",
    "# to insert an item to the list in a specific position, position 2\n",
    "my_second_list.insert(2, 'orange')\n",
    "\n",
    "print(my_second_list)\n"
   ]
  },
  {
   "cell_type": "code",
   "execution_count": 49,
   "metadata": {},
   "outputs": [
    {
     "name": "stdout",
     "output_type": "stream",
     "text": [
      "['apple', 'watermelow', 'banana']\n",
      "['apple', 'watermelow']\n"
     ]
    }
   ],
   "source": [
    "# to generate a new list\n",
    "my_second_list = ['apple', 'watermelow', 'banana']\n",
    "\n",
    "print(my_second_list)\n",
    "\n",
    "# to remove a specific item from the list\n",
    "my_second_list.remove('banana')\n",
    "\n",
    "print(my_second_list)\n"
   ]
  },
  {
   "cell_type": "code",
   "execution_count": 50,
   "metadata": {},
   "outputs": [
    {
     "name": "stdout",
     "output_type": "stream",
     "text": [
      "['apple', 'watermelow', 'banana']\n",
      "['watermelow', 'banana']\n"
     ]
    }
   ],
   "source": [
    "# alternative code to remove item 0 from the list\n",
    "my_second_list = ['apple', 'watermelow', 'banana']\n",
    "print(my_second_list)\n",
    "\n",
    "del my_second_list[0]\n",
    "print(my_second_list)\n"
   ]
  },
  {
   "cell_type": "code",
   "execution_count": 51,
   "metadata": {},
   "outputs": [
    {
     "name": "stdout",
     "output_type": "stream",
     "text": [
      "[]\n"
     ]
    }
   ],
   "source": [
    "# to completely delete the content of the list\n",
    "my_second_list.clear()\n",
    "\n",
    "print(my_second_list)\n"
   ]
  },
  {
   "cell_type": "code",
   "execution_count": 52,
   "metadata": {},
   "outputs": [
    {
     "name": "stdout",
     "output_type": "stream",
     "text": [
      "Before:  ['apple', 'watermelow', 'banana']\n",
      "After - my_second_list:  ['napple', 'watermelow', 'banana']\n",
      "After - fruit_list:  ['napple', 'watermelow', 'banana']\n",
      "After - my_second_list:  ['napple', 'orange', 'banana']\n",
      "After - fruit_list:  ['napple', 'orange', 'banana']\n"
     ]
    }
   ],
   "source": [
    "# ATTENTION - this is very important!\n",
    "\n",
    "# To copy a list to the same object\n",
    "# If you use the \"=\" operator, the new list will refer to the same original object\n",
    "\n",
    "my_second_list = ['apple', 'watermelow', 'banana']\n",
    "print('Before: ', my_second_list)\n",
    "\n",
    "fruit_list = my_second_list\n",
    "\n",
    "my_second_list[0] = 'napple'\n",
    "print('After - my_second_list: ', my_second_list)\n",
    "print('After - fruit_list: ', fruit_list)\n",
    "\n",
    "fruit_list[1] = 'orange'\n",
    "print('After - my_second_list: ', my_second_list)\n",
    "print('After - fruit_list: ', fruit_list)\n",
    "\n",
    "# Generally speaking, DO NOT USE \"=\"\n"
   ]
  },
  {
   "cell_type": "code",
   "execution_count": 53,
   "metadata": {},
   "outputs": [
    {
     "name": "stdout",
     "output_type": "stream",
     "text": [
      "Before:  ['apple', 'watermelow', 'banana']\n",
      "Before:  ['apple', 'watermelow', 'banana']\n",
      "After - my_second_list:  ['napple', 'watermelow', 'banana']\n",
      "After - fruit_list:  ['apple', 'watermelow', 'banana']\n"
     ]
    }
   ],
   "source": [
    "# To copy a list to a different new object\n",
    "# Use the method \".copy()\" , the new list will not refer to the same object\n",
    "# in this way, the original list is copied to a second list, but it will not change if the second list changes\n",
    "\n",
    "my_second_list = ['apple', 'watermelow', 'banana']\n",
    "print('Before: ', my_second_list)\n",
    "\n",
    "fruit_list = my_second_list.copy()\n",
    "print('Before: ', fruit_list)\n",
    "\n",
    "my_second_list[0] = 'napple'\n",
    "print('After - my_second_list: ', my_second_list)\n",
    "print('After - fruit_list: ', fruit_list)\n"
   ]
  },
  {
   "cell_type": "markdown",
   "metadata": {},
   "source": [
    "<h3><b>Exercise 4:</b> Using lists</h3>\n",
    "\n",
    "<ul>\n",
    "    <li> Create a list with 5 numbers from 2 to 6 </li> \n",
    "    <li> Append the number 8 </li>\n",
    "    <li> Add the number 1 in the first value (not replacing it!) </li>\n",
    "    <li> Make a copy of this list </li>\n",
    "    <li> Replace the number 8 by 7 in the original list </li>\n",
    "    <li> Print the copy and the original list </li>\n",
    "</ul>\n"
   ]
  },
  {
   "cell_type": "code",
   "execution_count": 54,
   "metadata": {},
   "outputs": [
    {
     "name": "stdout",
     "output_type": "stream",
     "text": [
      "[2, 3, 4, 5, 6]\n",
      "[2, 3, 4, 5, 6, 8]\n",
      "[1, 2, 3, 4, 5, 6, 8]\n",
      "[1, 2, 3, 4, 5, 6, 8]\n",
      "Orig: [1, 2, 3, 4, 5, 6, 7]\n",
      "Copy: [1, 2, 3, 4, 5, 6, 8]\n"
     ]
    }
   ],
   "source": [
    "# Solution\n",
    "\n",
    "numbers1 = [2, 3, 4, 5, 6]\n",
    "print(numbers1)\n",
    "\n",
    "numbers1.append(8)\n",
    "print(numbers1)\n",
    "\n",
    "numbers1.insert(0, 1)\n",
    "print(numbers1)\n",
    "\n",
    "numbers2 = numbers1.copy()\n",
    "#numbers2 = numbers1   # this is to be avoided unless you know exactly what you want!\n",
    "\n",
    "print(numbers2)\n",
    "\n",
    "numbers1[6] = 7\n",
    "\n",
    "print(\"Orig: %s\" % numbers1)\n",
    "print(\"Copy: %s\" % numbers2)\n"
   ]
  },
  {
   "cell_type": "markdown",
   "metadata": {},
   "source": [
    "<h1>15 min break! </h1>\n",
    "\n",
    "<h2></b>(1:30-2:45h) Part 2 </b></h2>\n"
   ]
  },
  {
   "cell_type": "markdown",
   "metadata": {},
   "source": [
    "<h3>3.5. Flow statements</h3>\n",
    "\n",
    "There are three possible ways to make flow statements, using these 3 keywords\n",
    "<ul>\n",
    "    <li> \"if\"    $\\rightarrow$  conditional </li>\n",
    "    <li> \"while\" $\\rightarrow$ iteration </li>\n",
    "    <li> \"for\"   $\\rightarrow$ iteration </li>\n",
    "    <li> indentation is mandatory, typically a \"tab\" but a single space is enough </li>\n",
    "</ul>\n",
    "    "
   ]
  },
  {
   "cell_type": "code",
   "execution_count": 55,
   "metadata": {},
   "outputs": [
    {
     "name": "stdout",
     "output_type": "stream",
     "text": [
      "a is larger than b\n",
      "a is NOT larger than b\n",
      "a is equal b\n"
     ]
    }
   ],
   "source": [
    "# IF statement\n",
    "\n",
    "a = 200\n",
    "b = 30\n",
    "if a > b:\n",
    "    print('a is larger than b')\n",
    "\n",
    "\n",
    "a = 100\n",
    "b = 200\n",
    "if a > b:\n",
    "    print('a is larger than b')\n",
    "else:\n",
    "    print('a is NOT larger than b')\n",
    "\n",
    "    \n",
    "a = 200\n",
    "b = 200\n",
    "if a > b:\n",
    "    print('a is larger than b')\n",
    "elif a == b:\n",
    "    print('a is equal b')\n",
    "else:\n",
    "    print('a is smaller than b')\n"
   ]
  },
  {
   "cell_type": "code",
   "execution_count": 56,
   "metadata": {},
   "outputs": [
    {
     "name": "stdout",
     "output_type": "stream",
     "text": [
      "Both conditions are True\n",
      "At least one of the conditions is True\n"
     ]
    }
   ],
   "source": [
    "# Combining if with logical operators \"and\" or \"or\"\n",
    "\n",
    "a = 200\n",
    "b = 30\n",
    "c = 100\n",
    "if a > b and a > c:\n",
    "    print('Both conditions are True')\n",
    "\n",
    "if a > b or a > c:\n",
    "    print('At least one of the conditions is True')\n",
    " "
   ]
  },
  {
   "cell_type": "code",
   "execution_count": 57,
   "metadata": {},
   "outputs": [
    {
     "name": "stdout",
     "output_type": "stream",
     "text": [
      "Intermediate i: 1\n",
      "Intermediate i: 2\n",
      "Intermediate i: 3\n",
      "Intermediate i: 4\n",
      "Intermediate i: 5\n",
      "Final: 6\n",
      "Intermediate i: 1\n",
      "Intermediate i: 2\n",
      "Intermediate i: 3\n",
      "Final: 3\n"
     ]
    }
   ],
   "source": [
    "# WHILE statement or WHILE loop\n",
    "\n",
    "i = 1\n",
    "while i < 6:\n",
    "    print('Intermediate i: %d' % i)\n",
    "    i += 1    # this is equivalent to i = i + 1\n",
    "\n",
    "print('Final: %d' % i)\n",
    "\n",
    "i = 1\n",
    "while i < 6:\n",
    "    print('Intermediate i: %d' % i)\n",
    "    if i == 3:\n",
    "        break\n",
    "    i += 1\n",
    "\n",
    "print('Final: %d' % i)\n"
   ]
  },
  {
   "cell_type": "markdown",
   "metadata": {},
   "source": [
    "<h3><b>Exercise 5:</b> Using IF and WHILE statements</h3>\n",
    "\n",
    "<ul>\n",
    "    <li> Create a list with 10 numbers from 1 to 10 </li>\n",
    "    <li> Go over this list: </li>\n",
    "    <ul>\n",
    "        <li> print odd numbers with the message \"This is an odd number: \" </li>\n",
    "        <li> print even numbers with the message \"This is an even number: \" </li>\n",
    "        <li> for number = 9, print \"I don't like you Number 9\" </li>\n",
    "        <li> (tip) Use the operator \"%\" </li>\n",
    "    </ul>\n",
    "</ul>\n"
   ]
  },
  {
   "cell_type": "code",
   "execution_count": 58,
   "metadata": {},
   "outputs": [
    {
     "name": "stdout",
     "output_type": "stream",
     "text": [
      "I am 1 and odd! \n",
      "I am 2 and even! \n",
      "I am 3 and odd! \n",
      "I am 4 and even! \n",
      "I am 5 and odd! \n",
      "I am 6 and even! \n",
      "I am 7 and odd! \n",
      "I am 8 and even! \n",
      "I don't like you Number 9... \n",
      "I am 10 and even! \n"
     ]
    }
   ],
   "source": [
    "# Solution\n",
    "\n",
    "# create an empty list\n",
    "list_numbers = []\n",
    "\n",
    "# append values to the list\n",
    "i = 0\n",
    "while i < 10:\n",
    "    i += 1\n",
    "    list_numbers.append(i)\n",
    "#    print(i)\n",
    "\n",
    "# print the values with the phrases\n",
    "i = 0\n",
    "while i < len(list_numbers):\n",
    "    if list_numbers[i] == 9:\n",
    "        print(\"I don't like you Number %d... \" % list_numbers[i])\n",
    "    elif list_numbers[i]%2 == 0:  # -> if the rest of the division is 0, then, it's an even number!\n",
    "        print(\"I am %d and even! \" % list_numbers[i])\n",
    "    else:\n",
    "        print(\"I am %d and odd! \" % list_numbers[i])\n",
    "    i += 1\n"
   ]
  },
  {
   "cell_type": "code",
   "execution_count": 59,
   "metadata": {},
   "outputs": [
    {
     "name": "stdout",
     "output_type": "stream",
     "text": [
      "-- method 1\n",
      "apple\n",
      "banana\n",
      "watermelow\n",
      "-- method 2\n",
      "b\n",
      "a\n",
      "n\n",
      "a\n",
      "n\n",
      "a\n"
     ]
    }
   ],
   "source": [
    "# FOR statement or FOR loop\n",
    "\n",
    "# create a list with 3 items\n",
    "fruit_list = ['apple', 'banana', 'watermelow']\n",
    "\n",
    "# this will print each item in the list\n",
    "print(\"-- method 1\")\n",
    "for x in fruit_list:\n",
    "    print(x)\n",
    "\n",
    "# this will print each character in the string \"banana\"\n",
    "print(\"-- method 2\")\n",
    "for x in 'banana':\n",
    "    print(x)\n"
   ]
  },
  {
   "cell_type": "code",
   "execution_count": 60,
   "metadata": {},
   "outputs": [
    {
     "name": "stdout",
     "output_type": "stream",
     "text": [
      "-- method 3\n",
      "5\n",
      "4\n",
      "3\n"
     ]
    }
   ],
   "source": [
    "# It also works with numbers\n",
    "\n",
    "# create a list\n",
    "fruit_list = [5, 4, 3]\n",
    "\n",
    "# print the items in the list\n",
    "print(\"-- method 3\")\n",
    "for x in fruit_list:\n",
    "    print(x)\n"
   ]
  },
  {
   "cell_type": "code",
   "execution_count": 61,
   "metadata": {},
   "outputs": [
    {
     "name": "stdout",
     "output_type": "stream",
     "text": [
      "-- method 4\n",
      "2\n",
      "3\n",
      "4\n",
      "5\n",
      "-- method 5\n",
      "5\n",
      "4\n",
      "3\n"
     ]
    }
   ],
   "source": [
    "# This is a useful routine for iteration in lists\n",
    "# \"range()\" is a build-in function\n",
    "# this function returns a sequence of numbers\n",
    "# this will print each item in the range\n",
    "print(\"-- method 4\")\n",
    "for x in range(2, 6):   \n",
    "    print(x)\n",
    "\n",
    "print(\"-- method 5\")\n",
    "for i in range(3):          \n",
    "    print(fruit_list[i])\n",
    "\n",
    "#===============================\n",
    "# Tip: To create a list from 0 to 12\n",
    "# create a range of values, then convert to a list:\n",
    "# a = list(range(13))\n",
    "# ------------------------------\n",
    "# or use: \n",
    "# import numpy as np\n",
    "# a = list(np.arange(13))\n",
    "#===============================\n"
   ]
  },
  {
   "cell_type": "markdown",
   "metadata": {},
   "source": [
    "<h3><b>Exercise 6:</b> Using FOR statement</h3>\n",
    "\n",
    "<ul>\n",
    "    <li> Create a list with 3 fruits </li>\n",
    "    <li> Make a function that prints each fruit in the list using a \"for\" loop </li>\n",
    "    <li> Make a function that prints only fruits that start with \"b\" </li>\n",
    "</ul>\n"
   ]
  },
  {
   "cell_type": "code",
   "execution_count": 62,
   "metadata": {},
   "outputs": [
    {
     "name": "stdout",
     "output_type": "stream",
     "text": [
      "-- This is the list of fruits\n",
      "apple\n",
      "banana\n",
      "watermelow\n",
      "-- These are the fruits that start with b\n",
      "Fruit with b: banana\n"
     ]
    }
   ],
   "source": [
    "# Solution\n",
    "\n",
    "# Define a function to read a list of food and print each item in the list\n",
    "def My_fourth_function(food):\n",
    "    for x in food:\n",
    "        print(x)\n",
    "\n",
    "# Define a function to read a list of food, and print each item in the list whose name starts with \"b\"\n",
    "def My_fifth_function(food):\n",
    "    for x in food:\n",
    "        if x[0] == 'b':\n",
    "            print('Fruit with b: %s' % x)\n",
    "\n",
    "fruits = ['apple', 'banana', 'watermelow']\n",
    "\n",
    "# calls the function with input the list \"fruits\"\n",
    "print(\"-- This is the list of fruits\")\n",
    "My_fourth_function(fruits)\n",
    "\n",
    "# calls the function with input the list \"fruits\"\n",
    "print(\"-- These are the fruits that start with b\")\n",
    "My_fifth_function(fruits)\n"
   ]
  },
  {
   "cell_type": "code",
   "execution_count": 63,
   "metadata": {},
   "outputs": [],
   "source": [
    "# Useful statement\n",
    "\n",
    "# Try to run a method, if OK (i.e. no error), use the output\n",
    "# otherwise (i.e. if error), then pass/continue and do nothing\n",
    "try:\n",
    "    nx.find_cycle(G, orientation=\"original\")\n",
    "except:\n",
    "    pass\n"
   ]
  },
  {
   "cell_type": "markdown",
   "metadata": {},
   "source": [
    "<h3>3.6. Modules</h3>\n",
    "\n",
    "Modules are like libraries, i.e. a set or collection of functions that can be used at different times\n",
    "<ul>\n",
    "    <li> there are several useful modules in Python (e.g. for network modelling, for statistics, for machine learning, for spreedsheets, etc...) </li>\n",
    "    <li> to create your own module, save the code in a file with the file extension .py </li>\n",
    "    <li> save the file in your current folder or directory (e.g. 'mymodules'). Otherwise, set the path where Python should search for your modules via: </li>\n",
    "    <ul>\n",
    "        <li> import sys\n",
    "        <li> print(sys.path)\n",
    "        <li> sys.path.append('./mymodules')\n",
    "    </ul>\n",
    "</ul>\n"
   ]
  },
  {
   "cell_type": "code",
   "execution_count": 64,
   "metadata": {},
   "outputs": [],
   "source": [
    "# Save this piece of code -2 rows below- in a file named \"my_first_module.py\"\n",
    "\n",
    "def Greetings(name):\n",
    "    print('Hello %s !' % name)\n"
   ]
  },
  {
   "cell_type": "code",
   "execution_count": 65,
   "metadata": {},
   "outputs": [],
   "source": [
    "# Use the two rows below to set the path to the folder where your module is\n",
    "\n",
    "import sys\n",
    "sys.path.append('./mymodules') \n"
   ]
  },
  {
   "cell_type": "code",
   "execution_count": 66,
   "metadata": {},
   "outputs": [
    {
     "name": "stdout",
     "output_type": "stream",
     "text": [
      "Hello Luis 1 !\n"
     ]
    }
   ],
   "source": [
    "# Use the import statement to call your module \"my_first_module\"\n",
    "import my_first_module\n",
    "\n",
    "# The rows below guarantee that the module will be reloaded. Necessary if you make changes to the module file but does not restart the python notebook\n",
    "import importlib\n",
    "importlib.reload(my_first_module)\n",
    "\n",
    "# Calls the method \"Greetings\" in your module \"my_first_module\"\n",
    "my_first_module.Greetings('Luis 1')\n"
   ]
  },
  {
   "cell_type": "code",
   "execution_count": 67,
   "metadata": {},
   "outputs": [
    {
     "name": "stdout",
     "output_type": "stream",
     "text": [
      "Hello Luis 2 !\n"
     ]
    }
   ],
   "source": [
    "# Create an \"alias\" for \"my_first_module\" called \"fm\"\n",
    "# This is the most common way to call methods from a module\n",
    "import my_first_module as fm\n",
    "\n",
    "fm.Greetings('Luis 2')\n"
   ]
  },
  {
   "cell_type": "code",
   "execution_count": 68,
   "metadata": {},
   "outputs": [
    {
     "name": "stdout",
     "output_type": "stream",
     "text": [
      "Hello Luis 3 !\n"
     ]
    }
   ],
   "source": [
    "# Import a specific method \"Greetings\" from the module \"my_first_module\"\n",
    "# In this case, you do not need to write the module name when referring to the module\n",
    "# Better to avoid this to avoid conflict in the names of methods from different modules\n",
    "# Recommended: fm.Function_one['age']\n",
    "# Avoid: Function_one['age']\n",
    "from my_first_module import Greetings\n",
    "\n",
    "Greetings('Luis 3')\n"
   ]
  },
  {
   "cell_type": "code",
   "execution_count": 1,
   "metadata": {},
   "outputs": [],
   "source": [
    "# To find information about a specific module\n",
    "import networkx\n",
    "\n",
    "# to list all functions in the module\n",
    "#dir(networkx)\n",
    "\n",
    "# to explain a particular method in the module\n",
    "#help(networkx.Graph) # explain a particular method\n"
   ]
  },
  {
   "cell_type": "markdown",
   "metadata": {},
   "source": [
    "<h3><b>Exercise 7:</b> Exploring Modules</h3>\n",
    "\n",
    "- Explore a bit the module networkx, pandas, scipy, i.e. see some functions and what they are about\n"
   ]
  },
  {
   "cell_type": "markdown",
   "metadata": {},
   "source": [
    "<h3>3.7. Simple plotting</h3>\n",
    "\n",
    "There are multiple ways to print data using Python. The sky is the limit! But let's focus on the basics to start with.\n",
    "<ul>\n",
    "    <li> Standard Python module for plotting is \"matplotlib\" </li>\n",
    "    <li> Some people like the module \"seaborn\" for better looking graphs </li>\n",
    "</ul>\n"
   ]
  },
  {
   "cell_type": "code",
   "execution_count": 4,
   "metadata": {},
   "outputs": [
    {
     "data": {
      "image/png": "[encoded data removed]",
      "text/plain": [
       "<Figure size 400x400 with 1 Axes>"
      ]
     },
     "metadata": {},
     "output_type": "display_data"
    }
   ],
   "source": [
    "# Load a module for plotting functions. Matplotlib is the standard\n",
    "# matplotlib.pyplot is an interface to matplotlib - mimics MATLAB syntax\n",
    "# https://matplotlib.org/stable/tutorials/introductory/pyplot.html\n",
    "\n",
    "import matplotlib.pyplot as plt\n",
    "\n",
    "#%matplotlib inline\n",
    "\n",
    "# Create the figure instance (environment)\n",
    "plt.figure(figsize=(4,4), tight_layout=True)\n",
    "\n",
    "# optimal: the scale, the labels, and the range of the labels can be set\n",
    "#plt.yscale('log')\n",
    "#plt.xscale('log')\n",
    "#plt.ylabel('no. edges')\n",
    "#plt.xlabel('no. nodes')\n",
    "#plt.ylim(1, 100000)\n",
    "#plt.xlim(1, 1000)\n",
    "\n",
    "# create two lists for testing\n",
    "list_x = [1, 2, 3, 4, 5]\n",
    "list_y = [2.2, 1, 3, 1, 1.5]\n",
    "\n",
    "# plot the values x and y, using a blue dashed line \"b--\"\n",
    "plt.plot(list_x, list_y, 'b--')\n",
    "\n",
    "# plot the values x and y, using a black line \"k\"\n",
    "#plt.plot(list_x, list_y, 'k')\n",
    "\n",
    "# scatter plot of the values x and y, using red dots\n",
    "plt.scatter(list_x, list_y, color='red')\n",
    "\n",
    "# This method saves the graph as a \".pdf\" file\n",
    "plt.savefig('./data/week1_output_plot1.pdf', bbox_inches='tight', format='pdf', pad_inches = 0, dpi = 300)\n",
    "plt.show()\n"
   ]
  },
  {
   "cell_type": "code",
   "execution_count": 71,
   "metadata": {},
   "outputs": [
    {
     "data": {
      "image/png": "[encoded data removed]",
      "text/plain": [
       "<Figure size 288x288 with 1 Axes>"
      ]
     },
     "metadata": {
      "needs_background": "light"
     },
     "output_type": "display_data"
    }
   ],
   "source": [
    "# Same plot as the previous. \n",
    "# The difference is that here, the range and label of axes are set.\n",
    "# Another difference is that a text with two variables is written at a given position\n",
    "\n",
    "import matplotlib.pyplot as plt\n",
    "\n",
    "#%matplotlib inline\n",
    "\n",
    "plt.figure(figsize=(4,4), tight_layout=True)\n",
    "\n",
    "plt.ylabel('no. edges')\n",
    "plt.xlabel('no. nodes')\n",
    "plt.ylim(0.5, 2.5)\n",
    "plt.xlim(0.5, 5.5)\n",
    "# Write a text at a given position\n",
    "plt.text(2, .75, r'$\\mu=100,\\ E=15$')\n",
    "\n",
    "# create two lists for testing\n",
    "list_x = [1, 2, 3, 4, 5]\n",
    "list_y = [2.2, 1, 3, 1, 1.5]\n",
    "\n",
    "# plot the values x and y, using a blue dashed line \"b--\"\n",
    "plt.plot(list_x, list_y, 'b--')\n",
    "plt.scatter(list_x, list_y, color='red')\n",
    "\n",
    "plt.savefig('./data/week1_output_plot2.pdf', bbox_inches='tight', format='pdf', pad_inches = 0, dpi = 300)\n",
    "plt.show()\n"
   ]
  },
  {
   "cell_type": "code",
   "execution_count": 72,
   "metadata": {},
   "outputs": [
    {
     "data": {
      "image/png": "[encoded data removed]",
      "text/plain": [
       "<Figure size 576x288 with 2 Axes>"
      ]
     },
     "metadata": {
      "needs_background": "light"
     },
     "output_type": "display_data"
    }
   ],
   "source": [
    "# Some more advanced routines, to plot multiple graphs, side by side\n",
    "\n",
    "import matplotlib.pyplot as plt\n",
    "\n",
    "# create two lists for testing\n",
    "list_x = [1, 2, 3, 4, 5]\n",
    "list_y = [2.2, 1, 3, 1, 1.5]\n",
    "\n",
    "plt.figure(figsize=(8, 4))\n",
    "\n",
    "# make a grid with 1 row and 2 columns, and set the position of the first graph\n",
    "plt.subplot(121)\n",
    "\n",
    "# plot the first graph\n",
    "plt.plot(list_x, list_y, 'b--')\n",
    "\n",
    "# make a grid with 1 row and 2 columns, and set the position of the second graph\n",
    "plt.subplot(122)\n",
    "\n",
    "# plot the second graph\n",
    "plt.scatter(list_x, list_y, color='red')\n",
    "   \n",
    "plt.savefig('./data/week1_output_plot3.pdf', bbox_inches='tight', format='pdf', pad_inches = 0, dpi = 300)\n",
    "plt.show()\n"
   ]
  },
  {
   "cell_type": "code",
   "execution_count": 73,
   "metadata": {},
   "outputs": [
    {
     "data": {
      "image/png": "[encoded data removed]",
      "text/plain": [
       "<Figure size 576x288 with 2 Axes>"
      ]
     },
     "metadata": {
      "needs_background": "light"
     },
     "output_type": "display_data"
    }
   ],
   "source": [
    "#to plot multiple graphs, one above the other\n",
    "\n",
    "import matplotlib.pyplot as plt\n",
    "\n",
    "# create two lists for testing\n",
    "list_x = [1, 2, 3, 4, 5]\n",
    "list_y = [2.2, 1, 3, 1, 1.5]\n",
    "\n",
    "plt.figure(figsize=(8, 4))\n",
    "\n",
    "# make a grid with 2 rows and 1 column, and set the position of the first graph\n",
    "plt.subplot(211)\n",
    "\n",
    "# plot the first graph\n",
    "plt.ylabel(\"Eixo y1\")\n",
    "plt.xlabel(\"Eixo x1\")\n",
    "plt.plot(list_x, list_y, 'b--')\n",
    "\n",
    "# make a grid with 2 rows and 1 column, and set the position of the second graph\n",
    "plt.subplot(212)\n",
    "\n",
    "# plot the second graph\n",
    "plt.ylabel(\"Eixo y2\")\n",
    "plt.xlabel(\"Eixo x2\")\n",
    "plt.scatter(list_x, list_y, color='red')\n",
    "   \n",
    "plt.savefig('./data/week1_output_plot3.pdf', bbox_inches='tight', format='pdf', pad_inches = 0, dpi = 300)\n",
    "plt.show()\n"
   ]
  },
  {
   "cell_type": "code",
   "execution_count": 74,
   "metadata": {},
   "outputs": [
    {
     "data": {
      "image/png": "[encoded data removed]",
      "text/plain": [
       "<Figure size 576x288 with 2 Axes>"
      ]
     },
     "metadata": {
      "needs_background": "light"
     },
     "output_type": "display_data"
    }
   ],
   "source": [
    "# alternative method, same result as above\n",
    "\n",
    "import matplotlib.pyplot as plt\n",
    "\n",
    "# create two lists for testing\n",
    "list_x = [1, 2, 3, 4, 5]\n",
    "list_y = [2.2, 1, 3, 1, 1.5]\n",
    "\n",
    "fig = plt.figure(figsize=(8, 4))\n",
    "\n",
    "# make a grid with 1 row and 2 columns, and set the position of the first graph\n",
    "ax1 = fig.add_subplot(211)\n",
    "\n",
    "# plot the first graph\n",
    "ax1.plot(list_x, list_y, 'b--')\n",
    "\n",
    "# make a grid with 1 row and 2 columns, and set the position of the second graph\n",
    "ax2 = fig.add_subplot(212)\n",
    "\n",
    "# plot the second graph\n",
    "ax2.scatter(list_x, list_y, color='red')\n",
    "   \n",
    "plt.savefig('./data/week1_output_plot3.pdf', bbox_inches='tight', format='pdf', pad_inches = 0, dpi = 300)\n",
    "plt.show()\n"
   ]
  },
  {
   "cell_type": "markdown",
   "metadata": {},
   "source": [
    "<h3><b>Exercise 8:</b> Simple plot</h3>\n",
    "\n",
    "<ul>\n",
    "    <li> create two lists with the values </li>\n",
    "    <ul>\n",
    "        <li> Country GDP -> 19485394000000, 12237700479375, 4872415104315, 3693204332230, 2650725335364, 494763551891 </li>\n",
    "        <li> Country Population -> 325084756, 1421021791, 127502725, 82658409, 1338676785, 11419748 </li>\n",
    "    </ul>\n",
    "    <li> plot the Population vs GDP </li>\n",
    "    <li> save the plot as .pdf </li>\n",
    "    <li> set the axes labels </li>\n",
    "    <li> (optional) calculate GDP per capita (GDPc) and plot Population vs GDPc </li>\n",
    "</ul>\n"
   ]
  },
  {
   "cell_type": "code",
   "execution_count": 75,
   "metadata": {},
   "outputs": [
    {
     "data": {
      "image/png": "[encoded data removed]",
      "text/plain": [
       "<Figure size 864x432 with 2 Axes>"
      ]
     },
     "metadata": {
      "needs_background": "light"
     },
     "output_type": "display_data"
    }
   ],
   "source": [
    "# Solution\n",
    "\n",
    "# create the lists\n",
    "GDP = [19485394000000, 12237700479375, 4872415104315, 3693204332230, 2650725335364, 494763551891]\n",
    "Population = [325084756, 1421021791, 127502725, 82658409, 1338676785, 11419748]\n",
    "\n",
    "# calculate GDP per capita, i.e. GDPc = GDP / Population\n",
    "# Go through both lists (that have the same length), divide one item per step, and append to a new list GDPc\n",
    "GDPc = []\n",
    "for i in range(len(GDP)):\n",
    "    GDPc.append(GDP[i]/Population[i])\n",
    "\n",
    "# create the figure instance\n",
    "fig = plt.figure(figsize=(12, 6))\n",
    "\n",
    "# First plot\n",
    "plt.subplot(121)\n",
    "plt.ylabel(\"GDP\")\n",
    "plt.xlabel(\"Population\")\n",
    "plt.plot(Population, GDP, 'b--')\n",
    "plt.scatter(Population, GDP, color='red')\n",
    "\n",
    "# Second plot\n",
    "plt.subplot(122)\n",
    "plt.ylabel(\"GDPc\")\n",
    "plt.xlabel(\"Population\")\n",
    "plt.scatter(Population, GDPc, color='red')\n",
    "\n",
    "# Save the plots in a file\n",
    "plt.savefig('./data/week1_GDP_plot.pdf', bbox_inches='tight',pad_inches = 0, dpi = 300)\n",
    "plt.show()\n"
   ]
  },
  {
   "cell_type": "markdown",
   "metadata": {},
   "source": [
    "<h3>3.8. References</h3>\n",
    "\n",
    "You may check some online tutorials for learning the basics of Python. The book below is also a good source of information. For this course, there is no need to become an expert in Python but is necessary to get sufficient understanding to build codes by yourself. I would classify the necessary expertise from beginner to intermediate.\n",
    "\n",
    "**Main reference**\n",
    "- Introduction to Scientific Programming with Python: https://link.springer.com/book/10.1007/978-3-030-50356-7\n",
    "\n",
    "**Alternative resources**\n",
    "- Good to start: www.w3schools.com/python/default.asp\n",
    "- Also good to start: www.learnpython.org\n",
    "- More advanced: https://docs.python.org/3/tutorial/index.html\n",
    "- Post your problem and get help from the community: https://stackoverflow.com\n",
    "- Type your question on google, you might get an answer from stackoverflow!\n",
    "- I strongly <b>do not</b> recommend you to use ChatGPT or other Artificial Inteligence app to build codes.\n",
    "    - After learning how to code yourself, you might get help to improve your codes. Remember that coding helps you to think about the flow of the problem, it is not just about getting the calculations done!\n"
   ]
  },
  {
   "cell_type": "code",
   "execution_count": null,
   "metadata": {},
   "outputs": [],
   "source": []
  }
 ],
 "metadata": {
  "kernelspec": {
   "display_name": "Python 3",
   "language": "python",
   "name": "python3"
  },
  "language_info": {
   "codemirror_mode": {
    "name": "ipython",
    "version": 3
   },
   "file_extension": ".py",
   "mimetype": "text/x-python",
   "name": "python",
   "nbconvert_exporter": "python",
   "pygments_lexer": "ipython3",
   "version": "3.10.13"
  }
 },
 "nbformat": 4,
 "nbformat_minor": 4
}
